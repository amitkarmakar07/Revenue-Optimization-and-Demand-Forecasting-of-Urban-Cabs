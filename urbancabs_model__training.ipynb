{
  "nbformat": 4,
  "nbformat_minor": 0,
  "metadata": {
    "colab": {
      "provenance": []
    },
    "kernelspec": {
      "name": "python3",
      "display_name": "Python 3"
    },
    "language_info": {
      "name": "python"
    },
    "widgets": {
      "application/vnd.jupyter.widget-state+json": {
        "b73e8e4df0dd4f569e1b038555badc99": {
          "model_module": "@jupyter-widgets/controls",
          "model_name": "FloatProgressModel",
          "model_module_version": "1.5.0",
          "state": {
            "_dom_classes": [],
            "_model_module": "@jupyter-widgets/controls",
            "_model_module_version": "1.5.0",
            "_model_name": "FloatProgressModel",
            "_view_count": null,
            "_view_module": "@jupyter-widgets/controls",
            "_view_module_version": "1.5.0",
            "_view_name": "ProgressView",
            "bar_style": "",
            "description": "",
            "description_tooltip": null,
            "layout": "IPY_MODEL_5c868a66fb544790adf256068b60f2ee",
            "max": 100,
            "min": 0,
            "orientation": "horizontal",
            "style": "IPY_MODEL_16443c28b5f349bba7ca18a207211729",
            "value": 100
          }
        },
        "5c868a66fb544790adf256068b60f2ee": {
          "model_module": "@jupyter-widgets/base",
          "model_name": "LayoutModel",
          "model_module_version": "1.2.0",
          "state": {
            "_model_module": "@jupyter-widgets/base",
            "_model_module_version": "1.2.0",
            "_model_name": "LayoutModel",
            "_view_count": null,
            "_view_module": "@jupyter-widgets/base",
            "_view_module_version": "1.2.0",
            "_view_name": "LayoutView",
            "align_content": null,
            "align_items": null,
            "align_self": null,
            "border": null,
            "bottom": null,
            "display": null,
            "flex": null,
            "flex_flow": null,
            "grid_area": null,
            "grid_auto_columns": null,
            "grid_auto_flow": null,
            "grid_auto_rows": null,
            "grid_column": null,
            "grid_gap": null,
            "grid_row": null,
            "grid_template_areas": null,
            "grid_template_columns": null,
            "grid_template_rows": null,
            "height": null,
            "justify_content": null,
            "justify_items": null,
            "left": null,
            "margin": null,
            "max_height": null,
            "max_width": null,
            "min_height": null,
            "min_width": null,
            "object_fit": null,
            "object_position": null,
            "order": null,
            "overflow": null,
            "overflow_x": null,
            "overflow_y": null,
            "padding": null,
            "right": null,
            "top": null,
            "visibility": null,
            "width": "auto"
          }
        },
        "16443c28b5f349bba7ca18a207211729": {
          "model_module": "@jupyter-widgets/controls",
          "model_name": "ProgressStyleModel",
          "model_module_version": "1.5.0",
          "state": {
            "_model_module": "@jupyter-widgets/controls",
            "_model_module_version": "1.5.0",
            "_model_name": "ProgressStyleModel",
            "_view_count": null,
            "_view_module": "@jupyter-widgets/base",
            "_view_module_version": "1.2.0",
            "_view_name": "StyleView",
            "bar_color": "black",
            "description_width": ""
          }
        }
      }
    }
  },
  "cells": [
    {
      "cell_type": "code",
      "source": [
        "!pip install duckdb --quiet"
      ],
      "metadata": {
        "id": "OwHISYEoBcX3"
      },
      "execution_count": null,
      "outputs": []
    },
    {
      "cell_type": "code",
      "source": [
        "import pandas as pd\n",
        "%load_ext duckdb\n",
        "import duckdb\n",
        "import matplotlib.pyplot as plt\n",
        "import os\n",
        "import seaborn as sns\n",
        "from scipy import stats\n",
        "from scipy.stats import shapiro, anderson, jarque_bera, poisson, norm\n",
        "from statsmodels.stats.outliers_influence import variance_inflation_factor\n",
        "from scipy.stats import f_oneway, ttest_ind, chi2_contingencyimport\n",
        "import numpy\n",
        "from sklearn.ensemble import IsolationForest\n",
        "from sklearn.model_selection import train_test_split\n",
        "from sklearn.preprocessing import StandardScaler, LabelEncoder\n",
        "from sklearn.ensemble import RandomForestRegressor\n",
        "from sklearn.linear_model import LinearRegression\n",
        "from sklearn.metrics import mean_absolute_error, mean_squared_error, r2_score\n",
        "import warnings\n",
        "from xgboost import XGBRegressor\n",
        "from sklearn.ensemble import GradientBoostingRegressor\n",
        "warnings.filterwarnings('ignore')\n"
      ],
      "metadata": {
        "colab": {
          "base_uri": "https://localhost:8080/"
        },
        "id": "HWaE89y4dGyj",
        "outputId": "ab6f636b-4f69-4c28-d71e-99d1ddbdd43b"
      },
      "execution_count": null,
      "outputs": [
        {
          "output_type": "stream",
          "name": "stdout",
          "text": [
            "The duckdb module is not an IPython extension.\n"
          ]
        }
      ]
    },
    {
      "cell_type": "code",
      "source": [
        "from google.colab import drive\n",
        "drive.mount('/content/drive')"
      ],
      "metadata": {
        "colab": {
          "base_uri": "https://localhost:8080/"
        },
        "id": "wSk9BBoWdfJr",
        "outputId": "bcff1356-698e-425e-f236-879ee2d4fad5"
      },
      "execution_count": null,
      "outputs": [
        {
          "output_type": "stream",
          "name": "stdout",
          "text": [
            "Drive already mounted at /content/drive; to attempt to forcibly remount, call drive.mount(\"/content/drive\", force_remount=True).\n"
          ]
        }
      ]
    },
    {
      "cell_type": "markdown",
      "source": [
        "## Loading the data"
      ],
      "metadata": {
        "id": "HOJhIIoeBuSG"
      }
    },
    {
      "cell_type": "code",
      "source": [
        "trip_df = pd.read_csv('/content/drive/MyDrive/Yellow_Taxi_Trip_Data.csv')\n",
        "zone_df = pd.read_csv('/content/drive/MyDrive/taxi_zone_lookup.csv')"
      ],
      "metadata": {
        "id": "JiF2lRKGBt3g"
      },
      "execution_count": null,
      "outputs": []
    },
    {
      "cell_type": "code",
      "source": [
        "trip_df.head()"
      ],
      "metadata": {
        "colab": {
          "base_uri": "https://localhost:8080/",
          "height": 226
        },
        "id": "oCs0XwWDB5Tu",
        "outputId": "bdafc3b1-8281-4433-a28b-660436456aac"
      },
      "execution_count": null,
      "outputs": [
        {
          "output_type": "execute_result",
          "data": {
            "text/plain": [
              "   VendorID    tpep_pickup_datetime   tpep_dropoff_datetime  passenger_count  \\\n",
              "0       1.0  01/01/2020 12:28:15 AM  01/01/2020 12:33:03 AM              1.0   \n",
              "1       1.0  01/01/2020 12:35:39 AM  01/01/2020 12:43:04 AM              1.0   \n",
              "2       1.0  01/01/2020 12:47:41 AM  01/01/2020 12:53:52 AM              1.0   \n",
              "3       1.0  01/01/2020 12:55:23 AM  01/01/2020 01:00:14 AM              1.0   \n",
              "4       2.0  01/01/2020 12:01:58 AM  01/01/2020 12:04:16 AM              1.0   \n",
              "\n",
              "   trip_distance  RatecodeID store_and_fwd_flag  PULocationID  DOLocationID  \\\n",
              "0            1.2         1.0                  N           238           239   \n",
              "1            1.2         1.0                  N           239           238   \n",
              "2            0.6         1.0                  N           238           238   \n",
              "3            0.8         1.0                  N           238           151   \n",
              "4            0.0         1.0                  N           193           193   \n",
              "\n",
              "   payment_type  fare_amount  extra  mta_tax  tip_amount  tolls_amount  \\\n",
              "0           1.0          6.0    3.0      0.5        1.47           0.0   \n",
              "1           1.0          7.0    3.0      0.5        1.50           0.0   \n",
              "2           1.0          6.0    3.0      0.5        1.00           0.0   \n",
              "3           1.0          5.5    0.5      0.5        1.36           0.0   \n",
              "4           2.0          3.5    0.5      0.5        0.00           0.0   \n",
              "\n",
              "   improvement_surcharge  total_amount  congestion_surcharge  \n",
              "0                    0.3         11.27                   2.5  \n",
              "1                    0.3         12.30                   2.5  \n",
              "2                    0.3         10.80                   2.5  \n",
              "3                    0.3          8.16                   0.0  \n",
              "4                    0.3          4.80                   0.0  "
            ],
            "text/html": [
              "\n",
              "  <div id=\"df-561bb451-808a-48a5-9317-5aa850e9b845\" class=\"colab-df-container\">\n",
              "    <div>\n",
              "<style scoped>\n",
              "    .dataframe tbody tr th:only-of-type {\n",
              "        vertical-align: middle;\n",
              "    }\n",
              "\n",
              "    .dataframe tbody tr th {\n",
              "        vertical-align: top;\n",
              "    }\n",
              "\n",
              "    .dataframe thead th {\n",
              "        text-align: right;\n",
              "    }\n",
              "</style>\n",
              "<table border=\"1\" class=\"dataframe\">\n",
              "  <thead>\n",
              "    <tr style=\"text-align: right;\">\n",
              "      <th></th>\n",
              "      <th>VendorID</th>\n",
              "      <th>tpep_pickup_datetime</th>\n",
              "      <th>tpep_dropoff_datetime</th>\n",
              "      <th>passenger_count</th>\n",
              "      <th>trip_distance</th>\n",
              "      <th>RatecodeID</th>\n",
              "      <th>store_and_fwd_flag</th>\n",
              "      <th>PULocationID</th>\n",
              "      <th>DOLocationID</th>\n",
              "      <th>payment_type</th>\n",
              "      <th>fare_amount</th>\n",
              "      <th>extra</th>\n",
              "      <th>mta_tax</th>\n",
              "      <th>tip_amount</th>\n",
              "      <th>tolls_amount</th>\n",
              "      <th>improvement_surcharge</th>\n",
              "      <th>total_amount</th>\n",
              "      <th>congestion_surcharge</th>\n",
              "    </tr>\n",
              "  </thead>\n",
              "  <tbody>\n",
              "    <tr>\n",
              "      <th>0</th>\n",
              "      <td>1.0</td>\n",
              "      <td>01/01/2020 12:28:15 AM</td>\n",
              "      <td>01/01/2020 12:33:03 AM</td>\n",
              "      <td>1.0</td>\n",
              "      <td>1.2</td>\n",
              "      <td>1.0</td>\n",
              "      <td>N</td>\n",
              "      <td>238</td>\n",
              "      <td>239</td>\n",
              "      <td>1.0</td>\n",
              "      <td>6.0</td>\n",
              "      <td>3.0</td>\n",
              "      <td>0.5</td>\n",
              "      <td>1.47</td>\n",
              "      <td>0.0</td>\n",
              "      <td>0.3</td>\n",
              "      <td>11.27</td>\n",
              "      <td>2.5</td>\n",
              "    </tr>\n",
              "    <tr>\n",
              "      <th>1</th>\n",
              "      <td>1.0</td>\n",
              "      <td>01/01/2020 12:35:39 AM</td>\n",
              "      <td>01/01/2020 12:43:04 AM</td>\n",
              "      <td>1.0</td>\n",
              "      <td>1.2</td>\n",
              "      <td>1.0</td>\n",
              "      <td>N</td>\n",
              "      <td>239</td>\n",
              "      <td>238</td>\n",
              "      <td>1.0</td>\n",
              "      <td>7.0</td>\n",
              "      <td>3.0</td>\n",
              "      <td>0.5</td>\n",
              "      <td>1.50</td>\n",
              "      <td>0.0</td>\n",
              "      <td>0.3</td>\n",
              "      <td>12.30</td>\n",
              "      <td>2.5</td>\n",
              "    </tr>\n",
              "    <tr>\n",
              "      <th>2</th>\n",
              "      <td>1.0</td>\n",
              "      <td>01/01/2020 12:47:41 AM</td>\n",
              "      <td>01/01/2020 12:53:52 AM</td>\n",
              "      <td>1.0</td>\n",
              "      <td>0.6</td>\n",
              "      <td>1.0</td>\n",
              "      <td>N</td>\n",
              "      <td>238</td>\n",
              "      <td>238</td>\n",
              "      <td>1.0</td>\n",
              "      <td>6.0</td>\n",
              "      <td>3.0</td>\n",
              "      <td>0.5</td>\n",
              "      <td>1.00</td>\n",
              "      <td>0.0</td>\n",
              "      <td>0.3</td>\n",
              "      <td>10.80</td>\n",
              "      <td>2.5</td>\n",
              "    </tr>\n",
              "    <tr>\n",
              "      <th>3</th>\n",
              "      <td>1.0</td>\n",
              "      <td>01/01/2020 12:55:23 AM</td>\n",
              "      <td>01/01/2020 01:00:14 AM</td>\n",
              "      <td>1.0</td>\n",
              "      <td>0.8</td>\n",
              "      <td>1.0</td>\n",
              "      <td>N</td>\n",
              "      <td>238</td>\n",
              "      <td>151</td>\n",
              "      <td>1.0</td>\n",
              "      <td>5.5</td>\n",
              "      <td>0.5</td>\n",
              "      <td>0.5</td>\n",
              "      <td>1.36</td>\n",
              "      <td>0.0</td>\n",
              "      <td>0.3</td>\n",
              "      <td>8.16</td>\n",
              "      <td>0.0</td>\n",
              "    </tr>\n",
              "    <tr>\n",
              "      <th>4</th>\n",
              "      <td>2.0</td>\n",
              "      <td>01/01/2020 12:01:58 AM</td>\n",
              "      <td>01/01/2020 12:04:16 AM</td>\n",
              "      <td>1.0</td>\n",
              "      <td>0.0</td>\n",
              "      <td>1.0</td>\n",
              "      <td>N</td>\n",
              "      <td>193</td>\n",
              "      <td>193</td>\n",
              "      <td>2.0</td>\n",
              "      <td>3.5</td>\n",
              "      <td>0.5</td>\n",
              "      <td>0.5</td>\n",
              "      <td>0.00</td>\n",
              "      <td>0.0</td>\n",
              "      <td>0.3</td>\n",
              "      <td>4.80</td>\n",
              "      <td>0.0</td>\n",
              "    </tr>\n",
              "  </tbody>\n",
              "</table>\n",
              "</div>\n",
              "    <div class=\"colab-df-buttons\">\n",
              "\n",
              "  <div class=\"colab-df-container\">\n",
              "    <button class=\"colab-df-convert\" onclick=\"convertToInteractive('df-561bb451-808a-48a5-9317-5aa850e9b845')\"\n",
              "            title=\"Convert this dataframe to an interactive table.\"\n",
              "            style=\"display:none;\">\n",
              "\n",
              "  <svg xmlns=\"http://www.w3.org/2000/svg\" height=\"24px\" viewBox=\"0 -960 960 960\">\n",
              "    <path d=\"M120-120v-720h720v720H120Zm60-500h600v-160H180v160Zm220 220h160v-160H400v160Zm0 220h160v-160H400v160ZM180-400h160v-160H180v160Zm440 0h160v-160H620v160ZM180-180h160v-160H180v160Zm440 0h160v-160H620v160Z\"/>\n",
              "  </svg>\n",
              "    </button>\n",
              "\n",
              "  <style>\n",
              "    .colab-df-container {\n",
              "      display:flex;\n",
              "      gap: 12px;\n",
              "    }\n",
              "\n",
              "    .colab-df-convert {\n",
              "      background-color: #E8F0FE;\n",
              "      border: none;\n",
              "      border-radius: 50%;\n",
              "      cursor: pointer;\n",
              "      display: none;\n",
              "      fill: #1967D2;\n",
              "      height: 32px;\n",
              "      padding: 0 0 0 0;\n",
              "      width: 32px;\n",
              "    }\n",
              "\n",
              "    .colab-df-convert:hover {\n",
              "      background-color: #E2EBFA;\n",
              "      box-shadow: 0px 1px 2px rgba(60, 64, 67, 0.3), 0px 1px 3px 1px rgba(60, 64, 67, 0.15);\n",
              "      fill: #174EA6;\n",
              "    }\n",
              "\n",
              "    .colab-df-buttons div {\n",
              "      margin-bottom: 4px;\n",
              "    }\n",
              "\n",
              "    [theme=dark] .colab-df-convert {\n",
              "      background-color: #3B4455;\n",
              "      fill: #D2E3FC;\n",
              "    }\n",
              "\n",
              "    [theme=dark] .colab-df-convert:hover {\n",
              "      background-color: #434B5C;\n",
              "      box-shadow: 0px 1px 3px 1px rgba(0, 0, 0, 0.15);\n",
              "      filter: drop-shadow(0px 1px 2px rgba(0, 0, 0, 0.3));\n",
              "      fill: #FFFFFF;\n",
              "    }\n",
              "  </style>\n",
              "\n",
              "    <script>\n",
              "      const buttonEl =\n",
              "        document.querySelector('#df-561bb451-808a-48a5-9317-5aa850e9b845 button.colab-df-convert');\n",
              "      buttonEl.style.display =\n",
              "        google.colab.kernel.accessAllowed ? 'block' : 'none';\n",
              "\n",
              "      async function convertToInteractive(key) {\n",
              "        const element = document.querySelector('#df-561bb451-808a-48a5-9317-5aa850e9b845');\n",
              "        const dataTable =\n",
              "          await google.colab.kernel.invokeFunction('convertToInteractive',\n",
              "                                                    [key], {});\n",
              "        if (!dataTable) return;\n",
              "\n",
              "        const docLinkHtml = 'Like what you see? Visit the ' +\n",
              "          '<a target=\"_blank\" href=https://colab.research.google.com/notebooks/data_table.ipynb>data table notebook</a>'\n",
              "          + ' to learn more about interactive tables.';\n",
              "        element.innerHTML = '';\n",
              "        dataTable['output_type'] = 'display_data';\n",
              "        await google.colab.output.renderOutput(dataTable, element);\n",
              "        const docLink = document.createElement('div');\n",
              "        docLink.innerHTML = docLinkHtml;\n",
              "        element.appendChild(docLink);\n",
              "      }\n",
              "    </script>\n",
              "  </div>\n",
              "\n",
              "\n",
              "    <div id=\"df-0edc3323-52b5-4b58-b2eb-0a7ee32c4f87\">\n",
              "      <button class=\"colab-df-quickchart\" onclick=\"quickchart('df-0edc3323-52b5-4b58-b2eb-0a7ee32c4f87')\"\n",
              "                title=\"Suggest charts\"\n",
              "                style=\"display:none;\">\n",
              "\n",
              "<svg xmlns=\"http://www.w3.org/2000/svg\" height=\"24px\"viewBox=\"0 0 24 24\"\n",
              "     width=\"24px\">\n",
              "    <g>\n",
              "        <path d=\"M19 3H5c-1.1 0-2 .9-2 2v14c0 1.1.9 2 2 2h14c1.1 0 2-.9 2-2V5c0-1.1-.9-2-2-2zM9 17H7v-7h2v7zm4 0h-2V7h2v10zm4 0h-2v-4h2v4z\"/>\n",
              "    </g>\n",
              "</svg>\n",
              "      </button>\n",
              "\n",
              "<style>\n",
              "  .colab-df-quickchart {\n",
              "      --bg-color: #E8F0FE;\n",
              "      --fill-color: #1967D2;\n",
              "      --hover-bg-color: #E2EBFA;\n",
              "      --hover-fill-color: #174EA6;\n",
              "      --disabled-fill-color: #AAA;\n",
              "      --disabled-bg-color: #DDD;\n",
              "  }\n",
              "\n",
              "  [theme=dark] .colab-df-quickchart {\n",
              "      --bg-color: #3B4455;\n",
              "      --fill-color: #D2E3FC;\n",
              "      --hover-bg-color: #434B5C;\n",
              "      --hover-fill-color: #FFFFFF;\n",
              "      --disabled-bg-color: #3B4455;\n",
              "      --disabled-fill-color: #666;\n",
              "  }\n",
              "\n",
              "  .colab-df-quickchart {\n",
              "    background-color: var(--bg-color);\n",
              "    border: none;\n",
              "    border-radius: 50%;\n",
              "    cursor: pointer;\n",
              "    display: none;\n",
              "    fill: var(--fill-color);\n",
              "    height: 32px;\n",
              "    padding: 0;\n",
              "    width: 32px;\n",
              "  }\n",
              "\n",
              "  .colab-df-quickchart:hover {\n",
              "    background-color: var(--hover-bg-color);\n",
              "    box-shadow: 0 1px 2px rgba(60, 64, 67, 0.3), 0 1px 3px 1px rgba(60, 64, 67, 0.15);\n",
              "    fill: var(--button-hover-fill-color);\n",
              "  }\n",
              "\n",
              "  .colab-df-quickchart-complete:disabled,\n",
              "  .colab-df-quickchart-complete:disabled:hover {\n",
              "    background-color: var(--disabled-bg-color);\n",
              "    fill: var(--disabled-fill-color);\n",
              "    box-shadow: none;\n",
              "  }\n",
              "\n",
              "  .colab-df-spinner {\n",
              "    border: 2px solid var(--fill-color);\n",
              "    border-color: transparent;\n",
              "    border-bottom-color: var(--fill-color);\n",
              "    animation:\n",
              "      spin 1s steps(1) infinite;\n",
              "  }\n",
              "\n",
              "  @keyframes spin {\n",
              "    0% {\n",
              "      border-color: transparent;\n",
              "      border-bottom-color: var(--fill-color);\n",
              "      border-left-color: var(--fill-color);\n",
              "    }\n",
              "    20% {\n",
              "      border-color: transparent;\n",
              "      border-left-color: var(--fill-color);\n",
              "      border-top-color: var(--fill-color);\n",
              "    }\n",
              "    30% {\n",
              "      border-color: transparent;\n",
              "      border-left-color: var(--fill-color);\n",
              "      border-top-color: var(--fill-color);\n",
              "      border-right-color: var(--fill-color);\n",
              "    }\n",
              "    40% {\n",
              "      border-color: transparent;\n",
              "      border-right-color: var(--fill-color);\n",
              "      border-top-color: var(--fill-color);\n",
              "    }\n",
              "    60% {\n",
              "      border-color: transparent;\n",
              "      border-right-color: var(--fill-color);\n",
              "    }\n",
              "    80% {\n",
              "      border-color: transparent;\n",
              "      border-right-color: var(--fill-color);\n",
              "      border-bottom-color: var(--fill-color);\n",
              "    }\n",
              "    90% {\n",
              "      border-color: transparent;\n",
              "      border-bottom-color: var(--fill-color);\n",
              "    }\n",
              "  }\n",
              "</style>\n",
              "\n",
              "      <script>\n",
              "        async function quickchart(key) {\n",
              "          const quickchartButtonEl =\n",
              "            document.querySelector('#' + key + ' button');\n",
              "          quickchartButtonEl.disabled = true;  // To prevent multiple clicks.\n",
              "          quickchartButtonEl.classList.add('colab-df-spinner');\n",
              "          try {\n",
              "            const charts = await google.colab.kernel.invokeFunction(\n",
              "                'suggestCharts', [key], {});\n",
              "          } catch (error) {\n",
              "            console.error('Error during call to suggestCharts:', error);\n",
              "          }\n",
              "          quickchartButtonEl.classList.remove('colab-df-spinner');\n",
              "          quickchartButtonEl.classList.add('colab-df-quickchart-complete');\n",
              "        }\n",
              "        (() => {\n",
              "          let quickchartButtonEl =\n",
              "            document.querySelector('#df-0edc3323-52b5-4b58-b2eb-0a7ee32c4f87 button');\n",
              "          quickchartButtonEl.style.display =\n",
              "            google.colab.kernel.accessAllowed ? 'block' : 'none';\n",
              "        })();\n",
              "      </script>\n",
              "    </div>\n",
              "\n",
              "    </div>\n",
              "  </div>\n"
            ],
            "application/vnd.google.colaboratory.intrinsic+json": {
              "type": "dataframe",
              "variable_name": "trip_df"
            }
          },
          "metadata": {},
          "execution_count": 4
        }
      ]
    },
    {
      "cell_type": "code",
      "source": [
        "zone_df.head()"
      ],
      "metadata": {
        "colab": {
          "base_uri": "https://localhost:8080/",
          "height": 206
        },
        "id": "vjlx1ZVPB-ee",
        "outputId": "75328ee1-10fb-4528-ca2f-5bb784642ed8"
      },
      "execution_count": null,
      "outputs": [
        {
          "output_type": "execute_result",
          "data": {
            "text/plain": [
              "   LocationID        Borough                     Zone service_zone\n",
              "0           1            EWR           Newark Airport          EWR\n",
              "1           2         Queens              Jamaica Bay    Boro Zone\n",
              "2           3          Bronx  Allerton/Pelham Gardens    Boro Zone\n",
              "3           4      Manhattan            Alphabet City  Yellow Zone\n",
              "4           5  Staten Island            Arden Heights    Boro Zone"
            ],
            "text/html": [
              "\n",
              "  <div id=\"df-3e37e28c-678e-4c8d-abe8-c5d1c9f44e32\" class=\"colab-df-container\">\n",
              "    <div>\n",
              "<style scoped>\n",
              "    .dataframe tbody tr th:only-of-type {\n",
              "        vertical-align: middle;\n",
              "    }\n",
              "\n",
              "    .dataframe tbody tr th {\n",
              "        vertical-align: top;\n",
              "    }\n",
              "\n",
              "    .dataframe thead th {\n",
              "        text-align: right;\n",
              "    }\n",
              "</style>\n",
              "<table border=\"1\" class=\"dataframe\">\n",
              "  <thead>\n",
              "    <tr style=\"text-align: right;\">\n",
              "      <th></th>\n",
              "      <th>LocationID</th>\n",
              "      <th>Borough</th>\n",
              "      <th>Zone</th>\n",
              "      <th>service_zone</th>\n",
              "    </tr>\n",
              "  </thead>\n",
              "  <tbody>\n",
              "    <tr>\n",
              "      <th>0</th>\n",
              "      <td>1</td>\n",
              "      <td>EWR</td>\n",
              "      <td>Newark Airport</td>\n",
              "      <td>EWR</td>\n",
              "    </tr>\n",
              "    <tr>\n",
              "      <th>1</th>\n",
              "      <td>2</td>\n",
              "      <td>Queens</td>\n",
              "      <td>Jamaica Bay</td>\n",
              "      <td>Boro Zone</td>\n",
              "    </tr>\n",
              "    <tr>\n",
              "      <th>2</th>\n",
              "      <td>3</td>\n",
              "      <td>Bronx</td>\n",
              "      <td>Allerton/Pelham Gardens</td>\n",
              "      <td>Boro Zone</td>\n",
              "    </tr>\n",
              "    <tr>\n",
              "      <th>3</th>\n",
              "      <td>4</td>\n",
              "      <td>Manhattan</td>\n",
              "      <td>Alphabet City</td>\n",
              "      <td>Yellow Zone</td>\n",
              "    </tr>\n",
              "    <tr>\n",
              "      <th>4</th>\n",
              "      <td>5</td>\n",
              "      <td>Staten Island</td>\n",
              "      <td>Arden Heights</td>\n",
              "      <td>Boro Zone</td>\n",
              "    </tr>\n",
              "  </tbody>\n",
              "</table>\n",
              "</div>\n",
              "    <div class=\"colab-df-buttons\">\n",
              "\n",
              "  <div class=\"colab-df-container\">\n",
              "    <button class=\"colab-df-convert\" onclick=\"convertToInteractive('df-3e37e28c-678e-4c8d-abe8-c5d1c9f44e32')\"\n",
              "            title=\"Convert this dataframe to an interactive table.\"\n",
              "            style=\"display:none;\">\n",
              "\n",
              "  <svg xmlns=\"http://www.w3.org/2000/svg\" height=\"24px\" viewBox=\"0 -960 960 960\">\n",
              "    <path d=\"M120-120v-720h720v720H120Zm60-500h600v-160H180v160Zm220 220h160v-160H400v160Zm0 220h160v-160H400v160ZM180-400h160v-160H180v160Zm440 0h160v-160H620v160ZM180-180h160v-160H180v160Zm440 0h160v-160H620v160Z\"/>\n",
              "  </svg>\n",
              "    </button>\n",
              "\n",
              "  <style>\n",
              "    .colab-df-container {\n",
              "      display:flex;\n",
              "      gap: 12px;\n",
              "    }\n",
              "\n",
              "    .colab-df-convert {\n",
              "      background-color: #E8F0FE;\n",
              "      border: none;\n",
              "      border-radius: 50%;\n",
              "      cursor: pointer;\n",
              "      display: none;\n",
              "      fill: #1967D2;\n",
              "      height: 32px;\n",
              "      padding: 0 0 0 0;\n",
              "      width: 32px;\n",
              "    }\n",
              "\n",
              "    .colab-df-convert:hover {\n",
              "      background-color: #E2EBFA;\n",
              "      box-shadow: 0px 1px 2px rgba(60, 64, 67, 0.3), 0px 1px 3px 1px rgba(60, 64, 67, 0.15);\n",
              "      fill: #174EA6;\n",
              "    }\n",
              "\n",
              "    .colab-df-buttons div {\n",
              "      margin-bottom: 4px;\n",
              "    }\n",
              "\n",
              "    [theme=dark] .colab-df-convert {\n",
              "      background-color: #3B4455;\n",
              "      fill: #D2E3FC;\n",
              "    }\n",
              "\n",
              "    [theme=dark] .colab-df-convert:hover {\n",
              "      background-color: #434B5C;\n",
              "      box-shadow: 0px 1px 3px 1px rgba(0, 0, 0, 0.15);\n",
              "      filter: drop-shadow(0px 1px 2px rgba(0, 0, 0, 0.3));\n",
              "      fill: #FFFFFF;\n",
              "    }\n",
              "  </style>\n",
              "\n",
              "    <script>\n",
              "      const buttonEl =\n",
              "        document.querySelector('#df-3e37e28c-678e-4c8d-abe8-c5d1c9f44e32 button.colab-df-convert');\n",
              "      buttonEl.style.display =\n",
              "        google.colab.kernel.accessAllowed ? 'block' : 'none';\n",
              "\n",
              "      async function convertToInteractive(key) {\n",
              "        const element = document.querySelector('#df-3e37e28c-678e-4c8d-abe8-c5d1c9f44e32');\n",
              "        const dataTable =\n",
              "          await google.colab.kernel.invokeFunction('convertToInteractive',\n",
              "                                                    [key], {});\n",
              "        if (!dataTable) return;\n",
              "\n",
              "        const docLinkHtml = 'Like what you see? Visit the ' +\n",
              "          '<a target=\"_blank\" href=https://colab.research.google.com/notebooks/data_table.ipynb>data table notebook</a>'\n",
              "          + ' to learn more about interactive tables.';\n",
              "        element.innerHTML = '';\n",
              "        dataTable['output_type'] = 'display_data';\n",
              "        await google.colab.output.renderOutput(dataTable, element);\n",
              "        const docLink = document.createElement('div');\n",
              "        docLink.innerHTML = docLinkHtml;\n",
              "        element.appendChild(docLink);\n",
              "      }\n",
              "    </script>\n",
              "  </div>\n",
              "\n",
              "\n",
              "    <div id=\"df-c5464045-dae6-4a98-9bd4-291d7b8d4cdb\">\n",
              "      <button class=\"colab-df-quickchart\" onclick=\"quickchart('df-c5464045-dae6-4a98-9bd4-291d7b8d4cdb')\"\n",
              "                title=\"Suggest charts\"\n",
              "                style=\"display:none;\">\n",
              "\n",
              "<svg xmlns=\"http://www.w3.org/2000/svg\" height=\"24px\"viewBox=\"0 0 24 24\"\n",
              "     width=\"24px\">\n",
              "    <g>\n",
              "        <path d=\"M19 3H5c-1.1 0-2 .9-2 2v14c0 1.1.9 2 2 2h14c1.1 0 2-.9 2-2V5c0-1.1-.9-2-2-2zM9 17H7v-7h2v7zm4 0h-2V7h2v10zm4 0h-2v-4h2v4z\"/>\n",
              "    </g>\n",
              "</svg>\n",
              "      </button>\n",
              "\n",
              "<style>\n",
              "  .colab-df-quickchart {\n",
              "      --bg-color: #E8F0FE;\n",
              "      --fill-color: #1967D2;\n",
              "      --hover-bg-color: #E2EBFA;\n",
              "      --hover-fill-color: #174EA6;\n",
              "      --disabled-fill-color: #AAA;\n",
              "      --disabled-bg-color: #DDD;\n",
              "  }\n",
              "\n",
              "  [theme=dark] .colab-df-quickchart {\n",
              "      --bg-color: #3B4455;\n",
              "      --fill-color: #D2E3FC;\n",
              "      --hover-bg-color: #434B5C;\n",
              "      --hover-fill-color: #FFFFFF;\n",
              "      --disabled-bg-color: #3B4455;\n",
              "      --disabled-fill-color: #666;\n",
              "  }\n",
              "\n",
              "  .colab-df-quickchart {\n",
              "    background-color: var(--bg-color);\n",
              "    border: none;\n",
              "    border-radius: 50%;\n",
              "    cursor: pointer;\n",
              "    display: none;\n",
              "    fill: var(--fill-color);\n",
              "    height: 32px;\n",
              "    padding: 0;\n",
              "    width: 32px;\n",
              "  }\n",
              "\n",
              "  .colab-df-quickchart:hover {\n",
              "    background-color: var(--hover-bg-color);\n",
              "    box-shadow: 0 1px 2px rgba(60, 64, 67, 0.3), 0 1px 3px 1px rgba(60, 64, 67, 0.15);\n",
              "    fill: var(--button-hover-fill-color);\n",
              "  }\n",
              "\n",
              "  .colab-df-quickchart-complete:disabled,\n",
              "  .colab-df-quickchart-complete:disabled:hover {\n",
              "    background-color: var(--disabled-bg-color);\n",
              "    fill: var(--disabled-fill-color);\n",
              "    box-shadow: none;\n",
              "  }\n",
              "\n",
              "  .colab-df-spinner {\n",
              "    border: 2px solid var(--fill-color);\n",
              "    border-color: transparent;\n",
              "    border-bottom-color: var(--fill-color);\n",
              "    animation:\n",
              "      spin 1s steps(1) infinite;\n",
              "  }\n",
              "\n",
              "  @keyframes spin {\n",
              "    0% {\n",
              "      border-color: transparent;\n",
              "      border-bottom-color: var(--fill-color);\n",
              "      border-left-color: var(--fill-color);\n",
              "    }\n",
              "    20% {\n",
              "      border-color: transparent;\n",
              "      border-left-color: var(--fill-color);\n",
              "      border-top-color: var(--fill-color);\n",
              "    }\n",
              "    30% {\n",
              "      border-color: transparent;\n",
              "      border-left-color: var(--fill-color);\n",
              "      border-top-color: var(--fill-color);\n",
              "      border-right-color: var(--fill-color);\n",
              "    }\n",
              "    40% {\n",
              "      border-color: transparent;\n",
              "      border-right-color: var(--fill-color);\n",
              "      border-top-color: var(--fill-color);\n",
              "    }\n",
              "    60% {\n",
              "      border-color: transparent;\n",
              "      border-right-color: var(--fill-color);\n",
              "    }\n",
              "    80% {\n",
              "      border-color: transparent;\n",
              "      border-right-color: var(--fill-color);\n",
              "      border-bottom-color: var(--fill-color);\n",
              "    }\n",
              "    90% {\n",
              "      border-color: transparent;\n",
              "      border-bottom-color: var(--fill-color);\n",
              "    }\n",
              "  }\n",
              "</style>\n",
              "\n",
              "      <script>\n",
              "        async function quickchart(key) {\n",
              "          const quickchartButtonEl =\n",
              "            document.querySelector('#' + key + ' button');\n",
              "          quickchartButtonEl.disabled = true;  // To prevent multiple clicks.\n",
              "          quickchartButtonEl.classList.add('colab-df-spinner');\n",
              "          try {\n",
              "            const charts = await google.colab.kernel.invokeFunction(\n",
              "                'suggestCharts', [key], {});\n",
              "          } catch (error) {\n",
              "            console.error('Error during call to suggestCharts:', error);\n",
              "          }\n",
              "          quickchartButtonEl.classList.remove('colab-df-spinner');\n",
              "          quickchartButtonEl.classList.add('colab-df-quickchart-complete');\n",
              "        }\n",
              "        (() => {\n",
              "          let quickchartButtonEl =\n",
              "            document.querySelector('#df-c5464045-dae6-4a98-9bd4-291d7b8d4cdb button');\n",
              "          quickchartButtonEl.style.display =\n",
              "            google.colab.kernel.accessAllowed ? 'block' : 'none';\n",
              "        })();\n",
              "      </script>\n",
              "    </div>\n",
              "\n",
              "    </div>\n",
              "  </div>\n"
            ],
            "application/vnd.google.colaboratory.intrinsic+json": {
              "type": "dataframe",
              "variable_name": "zone_df",
              "summary": "{\n  \"name\": \"zone_df\",\n  \"rows\": 265,\n  \"fields\": [\n    {\n      \"column\": \"LocationID\",\n      \"properties\": {\n        \"dtype\": \"number\",\n        \"std\": 76,\n        \"min\": 1,\n        \"max\": 265,\n        \"num_unique_values\": 265,\n        \"samples\": [\n          180,\n          116,\n          97\n        ],\n        \"semantic_type\": \"\",\n        \"description\": \"\"\n      }\n    },\n    {\n      \"column\": \"Borough\",\n      \"properties\": {\n        \"dtype\": \"category\",\n        \"num_unique_values\": 7,\n        \"samples\": [\n          \"EWR\",\n          \"Queens\",\n          \"Brooklyn\"\n        ],\n        \"semantic_type\": \"\",\n        \"description\": \"\"\n      }\n    },\n    {\n      \"column\": \"Zone\",\n      \"properties\": {\n        \"dtype\": \"string\",\n        \"num_unique_values\": 261,\n        \"samples\": [\n          \"Bronx Park\",\n          \"Longwood\",\n          \"Norwood\"\n        ],\n        \"semantic_type\": \"\",\n        \"description\": \"\"\n      }\n    },\n    {\n      \"column\": \"service_zone\",\n      \"properties\": {\n        \"dtype\": \"category\",\n        \"num_unique_values\": 4,\n        \"samples\": [\n          \"Boro Zone\",\n          \"Airports\",\n          \"EWR\"\n        ],\n        \"semantic_type\": \"\",\n        \"description\": \"\"\n      }\n    }\n  ]\n}"
            }
          },
          "metadata": {},
          "execution_count": 5
        }
      ]
    },
    {
      "cell_type": "code",
      "source": [
        "trip_df.info()"
      ],
      "metadata": {
        "colab": {
          "base_uri": "https://localhost:8080/"
        },
        "id": "2zkeN-ATCI2X",
        "outputId": "ade43f39-2099-4c35-eaf1-c35a4cdb2569"
      },
      "execution_count": null,
      "outputs": [
        {
          "output_type": "stream",
          "name": "stdout",
          "text": [
            "<class 'pandas.core.frame.DataFrame'>\n",
            "RangeIndex: 1200000 entries, 0 to 1199999\n",
            "Data columns (total 18 columns):\n",
            " #   Column                 Non-Null Count    Dtype  \n",
            "---  ------                 --------------    -----  \n",
            " 0   VendorID               1197616 non-null  float64\n",
            " 1   tpep_pickup_datetime   1200000 non-null  object \n",
            " 2   tpep_dropoff_datetime  1200000 non-null  object \n",
            " 3   passenger_count        1197616 non-null  float64\n",
            " 4   trip_distance          1200000 non-null  float64\n",
            " 5   RatecodeID             1197616 non-null  float64\n",
            " 6   store_and_fwd_flag     1197616 non-null  object \n",
            " 7   PULocationID           1200000 non-null  int64  \n",
            " 8   DOLocationID           1200000 non-null  int64  \n",
            " 9   payment_type           1197616 non-null  float64\n",
            " 10  fare_amount            1200000 non-null  float64\n",
            " 11  extra                  1200000 non-null  float64\n",
            " 12  mta_tax                1200000 non-null  float64\n",
            " 13  tip_amount             1200000 non-null  float64\n",
            " 14  tolls_amount           1200000 non-null  float64\n",
            " 15  improvement_surcharge  1200000 non-null  float64\n",
            " 16  total_amount           1200000 non-null  float64\n",
            " 17  congestion_surcharge   1200000 non-null  float64\n",
            "dtypes: float64(13), int64(2), object(3)\n",
            "memory usage: 164.8+ MB\n"
          ]
        }
      ]
    },
    {
      "cell_type": "code",
      "source": [
        "trip_df.describe()"
      ],
      "metadata": {
        "colab": {
          "base_uri": "https://localhost:8080/",
          "height": 338
        },
        "id": "5uKQRsujCMaX",
        "outputId": "70d1bd3a-7452-41c8-d9a3-a12e1bd66ac4"
      },
      "execution_count": null,
      "outputs": [
        {
          "output_type": "execute_result",
          "data": {
            "text/plain": [
              "           VendorID  passenger_count  trip_distance    RatecodeID  \\\n",
              "count  1.197616e+06     1.197616e+06   1.200000e+06  1.197616e+06   \n",
              "mean   1.676147e+00     1.569816e+00   3.074710e+00  1.071696e+00   \n",
              "std    4.679450e-01     1.182415e+00   4.096253e+00  8.894477e-01   \n",
              "min    1.000000e+00     0.000000e+00  -2.218000e+01  1.000000e+00   \n",
              "25%    1.000000e+00     1.000000e+00   9.800000e-01  1.000000e+00   \n",
              "50%    2.000000e+00     1.000000e+00   1.640000e+00  1.000000e+00   \n",
              "75%    2.000000e+00     2.000000e+00   3.100000e+00  1.000000e+00   \n",
              "max    2.000000e+00     9.000000e+00   2.592200e+02  9.900000e+01   \n",
              "\n",
              "       PULocationID  DOLocationID  payment_type   fare_amount         extra  \\\n",
              "count  1.200000e+06  1.200000e+06  1.197616e+06  1.200000e+06  1.200000e+06   \n",
              "mean   1.630334e+02  1.611301e+02  1.320138e+00  1.283874e+01  1.049201e+00   \n",
              "std    6.604844e+01  7.078979e+01  4.972796e-01  1.284313e+01  1.240537e+00   \n",
              "min    1.000000e+00  1.000000e+00  1.000000e+00 -1.238000e+03 -7.000000e+00   \n",
              "25%    1.250000e+02  1.070000e+02  1.000000e+00  6.000000e+00  0.000000e+00   \n",
              "50%    1.610000e+02  1.620000e+02  1.000000e+00  9.000000e+00  5.000000e-01   \n",
              "75%    2.330000e+02  2.340000e+02  2.000000e+00  1.350000e+01  2.500000e+00   \n",
              "max    2.650000e+02  2.650000e+02  4.000000e+00  1.238000e+03  5.250000e+01   \n",
              "\n",
              "            mta_tax    tip_amount  tolls_amount  improvement_surcharge  \\\n",
              "count  1.200000e+06  1.200000e+06  1.200000e+06           1.200000e+06   \n",
              "mean   4.931589e-01  2.088968e+00  3.741432e-01           2.978805e-01   \n",
              "std    7.043398e-02  2.841734e+00  1.893830e+00           3.482469e-02   \n",
              "min   -5.000000e-01 -7.000000e+00 -3.000000e+01          -3.000000e-01   \n",
              "25%    5.000000e-01  0.000000e+00  0.000000e+00           3.000000e-01   \n",
              "50%    5.000000e-01  1.760000e+00  0.000000e+00           3.000000e-01   \n",
              "75%    5.000000e-01  2.750000e+00  0.000000e+00           3.000000e-01   \n",
              "max    3.300000e+00  4.500000e+02  9.105000e+02           3.000000e-01   \n",
              "\n",
              "       total_amount  congestion_surcharge  \n",
              "count  1.200000e+06          1.200000e+06  \n",
              "mean   1.866930e+01          2.258160e+00  \n",
              "std    1.553930e+01          7.600723e-01  \n",
              "min   -1.242300e+03         -2.500000e+00  \n",
              "25%    1.080000e+01          2.500000e+00  \n",
              "50%    1.400000e+01          2.500000e+00  \n",
              "75%    1.955000e+01          2.500000e+00  \n",
              "max    1.242300e+03          2.750000e+00  "
            ],
            "text/html": [
              "\n",
              "  <div id=\"df-67cddf84-db8c-4859-b131-0a68ca0e109f\" class=\"colab-df-container\">\n",
              "    <div>\n",
              "<style scoped>\n",
              "    .dataframe tbody tr th:only-of-type {\n",
              "        vertical-align: middle;\n",
              "    }\n",
              "\n",
              "    .dataframe tbody tr th {\n",
              "        vertical-align: top;\n",
              "    }\n",
              "\n",
              "    .dataframe thead th {\n",
              "        text-align: right;\n",
              "    }\n",
              "</style>\n",
              "<table border=\"1\" class=\"dataframe\">\n",
              "  <thead>\n",
              "    <tr style=\"text-align: right;\">\n",
              "      <th></th>\n",
              "      <th>VendorID</th>\n",
              "      <th>passenger_count</th>\n",
              "      <th>trip_distance</th>\n",
              "      <th>RatecodeID</th>\n",
              "      <th>PULocationID</th>\n",
              "      <th>DOLocationID</th>\n",
              "      <th>payment_type</th>\n",
              "      <th>fare_amount</th>\n",
              "      <th>extra</th>\n",
              "      <th>mta_tax</th>\n",
              "      <th>tip_amount</th>\n",
              "      <th>tolls_amount</th>\n",
              "      <th>improvement_surcharge</th>\n",
              "      <th>total_amount</th>\n",
              "      <th>congestion_surcharge</th>\n",
              "    </tr>\n",
              "  </thead>\n",
              "  <tbody>\n",
              "    <tr>\n",
              "      <th>count</th>\n",
              "      <td>1.197616e+06</td>\n",
              "      <td>1.197616e+06</td>\n",
              "      <td>1.200000e+06</td>\n",
              "      <td>1.197616e+06</td>\n",
              "      <td>1.200000e+06</td>\n",
              "      <td>1.200000e+06</td>\n",
              "      <td>1.197616e+06</td>\n",
              "      <td>1.200000e+06</td>\n",
              "      <td>1.200000e+06</td>\n",
              "      <td>1.200000e+06</td>\n",
              "      <td>1.200000e+06</td>\n",
              "      <td>1.200000e+06</td>\n",
              "      <td>1.200000e+06</td>\n",
              "      <td>1.200000e+06</td>\n",
              "      <td>1.200000e+06</td>\n",
              "    </tr>\n",
              "    <tr>\n",
              "      <th>mean</th>\n",
              "      <td>1.676147e+00</td>\n",
              "      <td>1.569816e+00</td>\n",
              "      <td>3.074710e+00</td>\n",
              "      <td>1.071696e+00</td>\n",
              "      <td>1.630334e+02</td>\n",
              "      <td>1.611301e+02</td>\n",
              "      <td>1.320138e+00</td>\n",
              "      <td>1.283874e+01</td>\n",
              "      <td>1.049201e+00</td>\n",
              "      <td>4.931589e-01</td>\n",
              "      <td>2.088968e+00</td>\n",
              "      <td>3.741432e-01</td>\n",
              "      <td>2.978805e-01</td>\n",
              "      <td>1.866930e+01</td>\n",
              "      <td>2.258160e+00</td>\n",
              "    </tr>\n",
              "    <tr>\n",
              "      <th>std</th>\n",
              "      <td>4.679450e-01</td>\n",
              "      <td>1.182415e+00</td>\n",
              "      <td>4.096253e+00</td>\n",
              "      <td>8.894477e-01</td>\n",
              "      <td>6.604844e+01</td>\n",
              "      <td>7.078979e+01</td>\n",
              "      <td>4.972796e-01</td>\n",
              "      <td>1.284313e+01</td>\n",
              "      <td>1.240537e+00</td>\n",
              "      <td>7.043398e-02</td>\n",
              "      <td>2.841734e+00</td>\n",
              "      <td>1.893830e+00</td>\n",
              "      <td>3.482469e-02</td>\n",
              "      <td>1.553930e+01</td>\n",
              "      <td>7.600723e-01</td>\n",
              "    </tr>\n",
              "    <tr>\n",
              "      <th>min</th>\n",
              "      <td>1.000000e+00</td>\n",
              "      <td>0.000000e+00</td>\n",
              "      <td>-2.218000e+01</td>\n",
              "      <td>1.000000e+00</td>\n",
              "      <td>1.000000e+00</td>\n",
              "      <td>1.000000e+00</td>\n",
              "      <td>1.000000e+00</td>\n",
              "      <td>-1.238000e+03</td>\n",
              "      <td>-7.000000e+00</td>\n",
              "      <td>-5.000000e-01</td>\n",
              "      <td>-7.000000e+00</td>\n",
              "      <td>-3.000000e+01</td>\n",
              "      <td>-3.000000e-01</td>\n",
              "      <td>-1.242300e+03</td>\n",
              "      <td>-2.500000e+00</td>\n",
              "    </tr>\n",
              "    <tr>\n",
              "      <th>25%</th>\n",
              "      <td>1.000000e+00</td>\n",
              "      <td>1.000000e+00</td>\n",
              "      <td>9.800000e-01</td>\n",
              "      <td>1.000000e+00</td>\n",
              "      <td>1.250000e+02</td>\n",
              "      <td>1.070000e+02</td>\n",
              "      <td>1.000000e+00</td>\n",
              "      <td>6.000000e+00</td>\n",
              "      <td>0.000000e+00</td>\n",
              "      <td>5.000000e-01</td>\n",
              "      <td>0.000000e+00</td>\n",
              "      <td>0.000000e+00</td>\n",
              "      <td>3.000000e-01</td>\n",
              "      <td>1.080000e+01</td>\n",
              "      <td>2.500000e+00</td>\n",
              "    </tr>\n",
              "    <tr>\n",
              "      <th>50%</th>\n",
              "      <td>2.000000e+00</td>\n",
              "      <td>1.000000e+00</td>\n",
              "      <td>1.640000e+00</td>\n",
              "      <td>1.000000e+00</td>\n",
              "      <td>1.610000e+02</td>\n",
              "      <td>1.620000e+02</td>\n",
              "      <td>1.000000e+00</td>\n",
              "      <td>9.000000e+00</td>\n",
              "      <td>5.000000e-01</td>\n",
              "      <td>5.000000e-01</td>\n",
              "      <td>1.760000e+00</td>\n",
              "      <td>0.000000e+00</td>\n",
              "      <td>3.000000e-01</td>\n",
              "      <td>1.400000e+01</td>\n",
              "      <td>2.500000e+00</td>\n",
              "    </tr>\n",
              "    <tr>\n",
              "      <th>75%</th>\n",
              "      <td>2.000000e+00</td>\n",
              "      <td>2.000000e+00</td>\n",
              "      <td>3.100000e+00</td>\n",
              "      <td>1.000000e+00</td>\n",
              "      <td>2.330000e+02</td>\n",
              "      <td>2.340000e+02</td>\n",
              "      <td>2.000000e+00</td>\n",
              "      <td>1.350000e+01</td>\n",
              "      <td>2.500000e+00</td>\n",
              "      <td>5.000000e-01</td>\n",
              "      <td>2.750000e+00</td>\n",
              "      <td>0.000000e+00</td>\n",
              "      <td>3.000000e-01</td>\n",
              "      <td>1.955000e+01</td>\n",
              "      <td>2.500000e+00</td>\n",
              "    </tr>\n",
              "    <tr>\n",
              "      <th>max</th>\n",
              "      <td>2.000000e+00</td>\n",
              "      <td>9.000000e+00</td>\n",
              "      <td>2.592200e+02</td>\n",
              "      <td>9.900000e+01</td>\n",
              "      <td>2.650000e+02</td>\n",
              "      <td>2.650000e+02</td>\n",
              "      <td>4.000000e+00</td>\n",
              "      <td>1.238000e+03</td>\n",
              "      <td>5.250000e+01</td>\n",
              "      <td>3.300000e+00</td>\n",
              "      <td>4.500000e+02</td>\n",
              "      <td>9.105000e+02</td>\n",
              "      <td>3.000000e-01</td>\n",
              "      <td>1.242300e+03</td>\n",
              "      <td>2.750000e+00</td>\n",
              "    </tr>\n",
              "  </tbody>\n",
              "</table>\n",
              "</div>\n",
              "    <div class=\"colab-df-buttons\">\n",
              "\n",
              "  <div class=\"colab-df-container\">\n",
              "    <button class=\"colab-df-convert\" onclick=\"convertToInteractive('df-67cddf84-db8c-4859-b131-0a68ca0e109f')\"\n",
              "            title=\"Convert this dataframe to an interactive table.\"\n",
              "            style=\"display:none;\">\n",
              "\n",
              "  <svg xmlns=\"http://www.w3.org/2000/svg\" height=\"24px\" viewBox=\"0 -960 960 960\">\n",
              "    <path d=\"M120-120v-720h720v720H120Zm60-500h600v-160H180v160Zm220 220h160v-160H400v160Zm0 220h160v-160H400v160ZM180-400h160v-160H180v160Zm440 0h160v-160H620v160ZM180-180h160v-160H180v160Zm440 0h160v-160H620v160Z\"/>\n",
              "  </svg>\n",
              "    </button>\n",
              "\n",
              "  <style>\n",
              "    .colab-df-container {\n",
              "      display:flex;\n",
              "      gap: 12px;\n",
              "    }\n",
              "\n",
              "    .colab-df-convert {\n",
              "      background-color: #E8F0FE;\n",
              "      border: none;\n",
              "      border-radius: 50%;\n",
              "      cursor: pointer;\n",
              "      display: none;\n",
              "      fill: #1967D2;\n",
              "      height: 32px;\n",
              "      padding: 0 0 0 0;\n",
              "      width: 32px;\n",
              "    }\n",
              "\n",
              "    .colab-df-convert:hover {\n",
              "      background-color: #E2EBFA;\n",
              "      box-shadow: 0px 1px 2px rgba(60, 64, 67, 0.3), 0px 1px 3px 1px rgba(60, 64, 67, 0.15);\n",
              "      fill: #174EA6;\n",
              "    }\n",
              "\n",
              "    .colab-df-buttons div {\n",
              "      margin-bottom: 4px;\n",
              "    }\n",
              "\n",
              "    [theme=dark] .colab-df-convert {\n",
              "      background-color: #3B4455;\n",
              "      fill: #D2E3FC;\n",
              "    }\n",
              "\n",
              "    [theme=dark] .colab-df-convert:hover {\n",
              "      background-color: #434B5C;\n",
              "      box-shadow: 0px 1px 3px 1px rgba(0, 0, 0, 0.15);\n",
              "      filter: drop-shadow(0px 1px 2px rgba(0, 0, 0, 0.3));\n",
              "      fill: #FFFFFF;\n",
              "    }\n",
              "  </style>\n",
              "\n",
              "    <script>\n",
              "      const buttonEl =\n",
              "        document.querySelector('#df-67cddf84-db8c-4859-b131-0a68ca0e109f button.colab-df-convert');\n",
              "      buttonEl.style.display =\n",
              "        google.colab.kernel.accessAllowed ? 'block' : 'none';\n",
              "\n",
              "      async function convertToInteractive(key) {\n",
              "        const element = document.querySelector('#df-67cddf84-db8c-4859-b131-0a68ca0e109f');\n",
              "        const dataTable =\n",
              "          await google.colab.kernel.invokeFunction('convertToInteractive',\n",
              "                                                    [key], {});\n",
              "        if (!dataTable) return;\n",
              "\n",
              "        const docLinkHtml = 'Like what you see? Visit the ' +\n",
              "          '<a target=\"_blank\" href=https://colab.research.google.com/notebooks/data_table.ipynb>data table notebook</a>'\n",
              "          + ' to learn more about interactive tables.';\n",
              "        element.innerHTML = '';\n",
              "        dataTable['output_type'] = 'display_data';\n",
              "        await google.colab.output.renderOutput(dataTable, element);\n",
              "        const docLink = document.createElement('div');\n",
              "        docLink.innerHTML = docLinkHtml;\n",
              "        element.appendChild(docLink);\n",
              "      }\n",
              "    </script>\n",
              "  </div>\n",
              "\n",
              "\n",
              "    <div id=\"df-a284e0e9-e04d-4eaf-b5ec-e98fb355fb5e\">\n",
              "      <button class=\"colab-df-quickchart\" onclick=\"quickchart('df-a284e0e9-e04d-4eaf-b5ec-e98fb355fb5e')\"\n",
              "                title=\"Suggest charts\"\n",
              "                style=\"display:none;\">\n",
              "\n",
              "<svg xmlns=\"http://www.w3.org/2000/svg\" height=\"24px\"viewBox=\"0 0 24 24\"\n",
              "     width=\"24px\">\n",
              "    <g>\n",
              "        <path d=\"M19 3H5c-1.1 0-2 .9-2 2v14c0 1.1.9 2 2 2h14c1.1 0 2-.9 2-2V5c0-1.1-.9-2-2-2zM9 17H7v-7h2v7zm4 0h-2V7h2v10zm4 0h-2v-4h2v4z\"/>\n",
              "    </g>\n",
              "</svg>\n",
              "      </button>\n",
              "\n",
              "<style>\n",
              "  .colab-df-quickchart {\n",
              "      --bg-color: #E8F0FE;\n",
              "      --fill-color: #1967D2;\n",
              "      --hover-bg-color: #E2EBFA;\n",
              "      --hover-fill-color: #174EA6;\n",
              "      --disabled-fill-color: #AAA;\n",
              "      --disabled-bg-color: #DDD;\n",
              "  }\n",
              "\n",
              "  [theme=dark] .colab-df-quickchart {\n",
              "      --bg-color: #3B4455;\n",
              "      --fill-color: #D2E3FC;\n",
              "      --hover-bg-color: #434B5C;\n",
              "      --hover-fill-color: #FFFFFF;\n",
              "      --disabled-bg-color: #3B4455;\n",
              "      --disabled-fill-color: #666;\n",
              "  }\n",
              "\n",
              "  .colab-df-quickchart {\n",
              "    background-color: var(--bg-color);\n",
              "    border: none;\n",
              "    border-radius: 50%;\n",
              "    cursor: pointer;\n",
              "    display: none;\n",
              "    fill: var(--fill-color);\n",
              "    height: 32px;\n",
              "    padding: 0;\n",
              "    width: 32px;\n",
              "  }\n",
              "\n",
              "  .colab-df-quickchart:hover {\n",
              "    background-color: var(--hover-bg-color);\n",
              "    box-shadow: 0 1px 2px rgba(60, 64, 67, 0.3), 0 1px 3px 1px rgba(60, 64, 67, 0.15);\n",
              "    fill: var(--button-hover-fill-color);\n",
              "  }\n",
              "\n",
              "  .colab-df-quickchart-complete:disabled,\n",
              "  .colab-df-quickchart-complete:disabled:hover {\n",
              "    background-color: var(--disabled-bg-color);\n",
              "    fill: var(--disabled-fill-color);\n",
              "    box-shadow: none;\n",
              "  }\n",
              "\n",
              "  .colab-df-spinner {\n",
              "    border: 2px solid var(--fill-color);\n",
              "    border-color: transparent;\n",
              "    border-bottom-color: var(--fill-color);\n",
              "    animation:\n",
              "      spin 1s steps(1) infinite;\n",
              "  }\n",
              "\n",
              "  @keyframes spin {\n",
              "    0% {\n",
              "      border-color: transparent;\n",
              "      border-bottom-color: var(--fill-color);\n",
              "      border-left-color: var(--fill-color);\n",
              "    }\n",
              "    20% {\n",
              "      border-color: transparent;\n",
              "      border-left-color: var(--fill-color);\n",
              "      border-top-color: var(--fill-color);\n",
              "    }\n",
              "    30% {\n",
              "      border-color: transparent;\n",
              "      border-left-color: var(--fill-color);\n",
              "      border-top-color: var(--fill-color);\n",
              "      border-right-color: var(--fill-color);\n",
              "    }\n",
              "    40% {\n",
              "      border-color: transparent;\n",
              "      border-right-color: var(--fill-color);\n",
              "      border-top-color: var(--fill-color);\n",
              "    }\n",
              "    60% {\n",
              "      border-color: transparent;\n",
              "      border-right-color: var(--fill-color);\n",
              "    }\n",
              "    80% {\n",
              "      border-color: transparent;\n",
              "      border-right-color: var(--fill-color);\n",
              "      border-bottom-color: var(--fill-color);\n",
              "    }\n",
              "    90% {\n",
              "      border-color: transparent;\n",
              "      border-bottom-color: var(--fill-color);\n",
              "    }\n",
              "  }\n",
              "</style>\n",
              "\n",
              "      <script>\n",
              "        async function quickchart(key) {\n",
              "          const quickchartButtonEl =\n",
              "            document.querySelector('#' + key + ' button');\n",
              "          quickchartButtonEl.disabled = true;  // To prevent multiple clicks.\n",
              "          quickchartButtonEl.classList.add('colab-df-spinner');\n",
              "          try {\n",
              "            const charts = await google.colab.kernel.invokeFunction(\n",
              "                'suggestCharts', [key], {});\n",
              "          } catch (error) {\n",
              "            console.error('Error during call to suggestCharts:', error);\n",
              "          }\n",
              "          quickchartButtonEl.classList.remove('colab-df-spinner');\n",
              "          quickchartButtonEl.classList.add('colab-df-quickchart-complete');\n",
              "        }\n",
              "        (() => {\n",
              "          let quickchartButtonEl =\n",
              "            document.querySelector('#df-a284e0e9-e04d-4eaf-b5ec-e98fb355fb5e button');\n",
              "          quickchartButtonEl.style.display =\n",
              "            google.colab.kernel.accessAllowed ? 'block' : 'none';\n",
              "        })();\n",
              "      </script>\n",
              "    </div>\n",
              "\n",
              "    </div>\n",
              "  </div>\n"
            ],
            "application/vnd.google.colaboratory.intrinsic+json": {
              "type": "dataframe",
              "summary": "{\n  \"name\": \"trip_df\",\n  \"rows\": 8,\n  \"fields\": [\n    {\n      \"column\": \"VendorID\",\n      \"properties\": {\n        \"dtype\": \"number\",\n        \"std\": 423420.68507514754,\n        \"min\": 0.4679450332870801,\n        \"max\": 1197616.0,\n        \"num_unique_values\": 5,\n        \"samples\": [\n          1.6761466112677186,\n          2.0,\n          0.4679450332870801\n        ],\n        \"semantic_type\": \"\",\n        \"description\": \"\"\n      }\n    },\n    {\n      \"column\": \"passenger_count\",\n      \"properties\": {\n        \"dtype\": \"number\",\n        \"std\": 423420.40183026897,\n        \"min\": 0.0,\n        \"max\": 1197616.0,\n        \"num_unique_values\": 7,\n        \"samples\": [\n          1197616.0,\n          1.5698162015203538,\n          2.0\n        ],\n        \"semantic_type\": \"\",\n        \"description\": \"\"\n      }\n    },\n    {\n      \"column\": \"trip_distance\",\n      \"properties\": {\n        \"dtype\": \"number\",\n        \"std\": 424251.4551922803,\n        \"min\": -22.18,\n        \"max\": 1200000.0,\n        \"num_unique_values\": 8,\n        \"samples\": [\n          3.0747095583333337,\n          1.64,\n          1200000.0\n        ],\n        \"semantic_type\": \"\",\n        \"description\": \"\"\n      }\n    },\n    {\n      \"column\": \"RatecodeID\",\n      \"properties\": {\n        \"dtype\": \"number\",\n        \"std\": 423415.89747933653,\n        \"min\": 0.889447735573597,\n        \"max\": 1197616.0,\n        \"num_unique_values\": 5,\n        \"samples\": [\n          1.0716957689276028,\n          99.0,\n          0.889447735573597\n        ],\n        \"semantic_type\": \"\",\n        \"description\": \"\"\n      }\n    },\n    {\n      \"column\": \"PULocationID\",\n      \"properties\": {\n        \"dtype\": \"number\",\n        \"std\": 424212.8582789897,\n        \"min\": 1.0,\n        \"max\": 1200000.0,\n        \"num_unique_values\": 8,\n        \"samples\": [\n          163.03340333333333,\n          161.0,\n          1200000.0\n        ],\n        \"semantic_type\": \"\",\n        \"description\": \"\"\n      }\n    },\n    {\n      \"column\": \"DOLocationID\",\n      \"properties\": {\n        \"dtype\": \"number\",\n        \"std\": 424213.52312985633,\n        \"min\": 1.0,\n        \"max\": 1200000.0,\n        \"num_unique_values\": 8,\n        \"samples\": [\n          161.13012833333335,\n          162.0,\n          1200000.0\n        ],\n        \"semantic_type\": \"\",\n        \"description\": \"\"\n      }\n    },\n    {\n      \"column\": \"payment_type\",\n      \"properties\": {\n        \"dtype\": \"number\",\n        \"std\": 423420.6510680726,\n        \"min\": 0.497279561803756,\n        \"max\": 1197616.0,\n        \"num_unique_values\": 6,\n        \"samples\": [\n          1197616.0,\n          1.320137673511376,\n          4.0\n        ],\n        \"semantic_type\": \"\",\n        \"description\": \"\"\n      }\n    },\n    {\n      \"column\": \"fare_amount\",\n      \"properties\": {\n        \"dtype\": \"number\",\n        \"std\": 424261.84822030686,\n        \"min\": -1238.0,\n        \"max\": 1200000.0,\n        \"num_unique_values\": 8,\n        \"samples\": [\n          12.838743708333341,\n          9.0,\n          1200000.0\n        ],\n        \"semantic_type\": \"\",\n        \"description\": \"\"\n      }\n    },\n    {\n      \"column\": \"extra\",\n      \"properties\": {\n        \"dtype\": \"number\",\n        \"std\": 424261.50385453826,\n        \"min\": -7.0,\n        \"max\": 1200000.0,\n        \"num_unique_values\": 8,\n        \"samples\": [\n          1.049201016666668,\n          0.5,\n          1200000.0\n        ],\n        \"semantic_type\": \"\",\n        \"description\": \"\"\n      }\n    },\n    {\n      \"column\": \"mta_tax\",\n      \"properties\": {\n        \"dtype\": \"number\",\n        \"std\": 424263.8230648661,\n        \"min\": -0.5,\n        \"max\": 1200000.0,\n        \"num_unique_values\": 6,\n        \"samples\": [\n          1200000.0,\n          0.4931589166666667,\n          3.3\n        ],\n        \"semantic_type\": \"\",\n        \"description\": \"\"\n      }\n    },\n    {\n      \"column\": \"tip_amount\",\n      \"properties\": {\n        \"dtype\": \"number\",\n        \"std\": 424241.2461886115,\n        \"min\": -7.0,\n        \"max\": 1200000.0,\n        \"num_unique_values\": 8,\n        \"samples\": [\n          2.088967591666667,\n          1.76,\n          1200000.0\n        ],\n        \"semantic_type\": \"\",\n        \"description\": \"\"\n      }\n    },\n    {\n      \"column\": \"tolls_amount\",\n      \"properties\": {\n        \"dtype\": \"number\",\n        \"std\": 424219.6031895672,\n        \"min\": -30.0,\n        \"max\": 1200000.0,\n        \"num_unique_values\": 6,\n        \"samples\": [\n          1200000.0,\n          0.3741431916666667,\n          910.5\n        ],\n        \"semantic_type\": \"\",\n        \"description\": \"\"\n      }\n    },\n    {\n      \"column\": \"improvement_surcharge\",\n      \"properties\": {\n        \"dtype\": \"number\",\n        \"std\": 424264.00645096897,\n        \"min\": -0.3,\n        \"max\": 1200000.0,\n        \"num_unique_values\": 5,\n        \"samples\": [\n          0.29788049999999994,\n          0.3,\n          0.03482468564683453\n        ],\n        \"semantic_type\": \"\",\n        \"description\": \"\"\n      }\n    },\n    {\n      \"column\": \"total_amount\",\n      \"properties\": {\n        \"dtype\": \"number\",\n        \"std\": 424260.6206351324,\n        \"min\": -1242.3,\n        \"max\": 1200000.0,\n        \"num_unique_values\": 8,\n        \"samples\": [\n          18.66929846666667,\n          14.0,\n          1200000.0\n        ],\n        \"semantic_type\": \"\",\n        \"description\": \"\"\n      }\n    },\n    {\n      \"column\": \"congestion_surcharge\",\n      \"properties\": {\n        \"dtype\": \"number\",\n        \"std\": 424263.5248377256,\n        \"min\": -2.5,\n        \"max\": 1200000.0,\n        \"num_unique_values\": 6,\n        \"samples\": [\n          1200000.0,\n          2.2581597916666665,\n          2.75\n        ],\n        \"semantic_type\": \"\",\n        \"description\": \"\"\n      }\n    }\n  ]\n}"
            }
          },
          "metadata": {},
          "execution_count": 7
        }
      ]
    },
    {
      "cell_type": "markdown",
      "source": [
        "## Handling Missing Values"
      ],
      "metadata": {
        "id": "iFs18xE5CRFO"
      }
    },
    {
      "cell_type": "code",
      "source": [
        "trip_df.isnull().sum()"
      ],
      "metadata": {
        "colab": {
          "base_uri": "https://localhost:8080/",
          "height": 649
        },
        "id": "v64JDfC1CU5f",
        "outputId": "85ca6c4b-7bfc-4924-c72b-5ed3c20d291b"
      },
      "execution_count": null,
      "outputs": [
        {
          "output_type": "execute_result",
          "data": {
            "text/plain": [
              "VendorID                 2384\n",
              "tpep_pickup_datetime        0\n",
              "tpep_dropoff_datetime       0\n",
              "passenger_count          2384\n",
              "trip_distance               0\n",
              "RatecodeID               2384\n",
              "store_and_fwd_flag       2384\n",
              "PULocationID                0\n",
              "DOLocationID                0\n",
              "payment_type             2384\n",
              "fare_amount                 0\n",
              "extra                       0\n",
              "mta_tax                     0\n",
              "tip_amount                  0\n",
              "tolls_amount                0\n",
              "improvement_surcharge       0\n",
              "total_amount                0\n",
              "congestion_surcharge        0\n",
              "dtype: int64"
            ],
            "text/html": [
              "<div>\n",
              "<style scoped>\n",
              "    .dataframe tbody tr th:only-of-type {\n",
              "        vertical-align: middle;\n",
              "    }\n",
              "\n",
              "    .dataframe tbody tr th {\n",
              "        vertical-align: top;\n",
              "    }\n",
              "\n",
              "    .dataframe thead th {\n",
              "        text-align: right;\n",
              "    }\n",
              "</style>\n",
              "<table border=\"1\" class=\"dataframe\">\n",
              "  <thead>\n",
              "    <tr style=\"text-align: right;\">\n",
              "      <th></th>\n",
              "      <th>0</th>\n",
              "    </tr>\n",
              "  </thead>\n",
              "  <tbody>\n",
              "    <tr>\n",
              "      <th>VendorID</th>\n",
              "      <td>2384</td>\n",
              "    </tr>\n",
              "    <tr>\n",
              "      <th>tpep_pickup_datetime</th>\n",
              "      <td>0</td>\n",
              "    </tr>\n",
              "    <tr>\n",
              "      <th>tpep_dropoff_datetime</th>\n",
              "      <td>0</td>\n",
              "    </tr>\n",
              "    <tr>\n",
              "      <th>passenger_count</th>\n",
              "      <td>2384</td>\n",
              "    </tr>\n",
              "    <tr>\n",
              "      <th>trip_distance</th>\n",
              "      <td>0</td>\n",
              "    </tr>\n",
              "    <tr>\n",
              "      <th>RatecodeID</th>\n",
              "      <td>2384</td>\n",
              "    </tr>\n",
              "    <tr>\n",
              "      <th>store_and_fwd_flag</th>\n",
              "      <td>2384</td>\n",
              "    </tr>\n",
              "    <tr>\n",
              "      <th>PULocationID</th>\n",
              "      <td>0</td>\n",
              "    </tr>\n",
              "    <tr>\n",
              "      <th>DOLocationID</th>\n",
              "      <td>0</td>\n",
              "    </tr>\n",
              "    <tr>\n",
              "      <th>payment_type</th>\n",
              "      <td>2384</td>\n",
              "    </tr>\n",
              "    <tr>\n",
              "      <th>fare_amount</th>\n",
              "      <td>0</td>\n",
              "    </tr>\n",
              "    <tr>\n",
              "      <th>extra</th>\n",
              "      <td>0</td>\n",
              "    </tr>\n",
              "    <tr>\n",
              "      <th>mta_tax</th>\n",
              "      <td>0</td>\n",
              "    </tr>\n",
              "    <tr>\n",
              "      <th>tip_amount</th>\n",
              "      <td>0</td>\n",
              "    </tr>\n",
              "    <tr>\n",
              "      <th>tolls_amount</th>\n",
              "      <td>0</td>\n",
              "    </tr>\n",
              "    <tr>\n",
              "      <th>improvement_surcharge</th>\n",
              "      <td>0</td>\n",
              "    </tr>\n",
              "    <tr>\n",
              "      <th>total_amount</th>\n",
              "      <td>0</td>\n",
              "    </tr>\n",
              "    <tr>\n",
              "      <th>congestion_surcharge</th>\n",
              "      <td>0</td>\n",
              "    </tr>\n",
              "  </tbody>\n",
              "</table>\n",
              "</div><br><label><b>dtype:</b> int64</label>"
            ]
          },
          "metadata": {},
          "execution_count": 8
        }
      ]
    },
    {
      "cell_type": "code",
      "source": [
        "trip_df.dropna(subset=['VendorID', 'RatecodeID', 'store_and_fwd_flag'], inplace=True)"
      ],
      "metadata": {
        "id": "bK05V9qACQJH"
      },
      "execution_count": null,
      "outputs": []
    },
    {
      "cell_type": "code",
      "source": [
        "trip_df['payment_type'].fillna(trip_df['payment_type'].mode()[0], inplace=True)"
      ],
      "metadata": {
        "collapsed": true,
        "id": "4qHHZks_D6LP"
      },
      "execution_count": null,
      "outputs": []
    },
    {
      "cell_type": "code",
      "source": [
        "mean_passenger_count = abs(trip_df['passenger_count'].mean())\n",
        "trip_df['passenger_count'].fillna(round(mean_passenger_count), inplace=True)"
      ],
      "metadata": {
        "collapsed": true,
        "id": "fXP5zlbMEEKo"
      },
      "execution_count": null,
      "outputs": []
    },
    {
      "cell_type": "code",
      "source": [
        "zone_df.isnull().sum()"
      ],
      "metadata": {
        "colab": {
          "base_uri": "https://localhost:8080/",
          "height": 210
        },
        "id": "3buMq9kuE-2v",
        "outputId": "e60365fd-0bae-4f0b-8080-3117ed28ff41"
      },
      "execution_count": null,
      "outputs": [
        {
          "output_type": "execute_result",
          "data": {
            "text/plain": [
              "LocationID      0\n",
              "Borough         1\n",
              "Zone            1\n",
              "service_zone    2\n",
              "dtype: int64"
            ],
            "text/html": [
              "<div>\n",
              "<style scoped>\n",
              "    .dataframe tbody tr th:only-of-type {\n",
              "        vertical-align: middle;\n",
              "    }\n",
              "\n",
              "    .dataframe tbody tr th {\n",
              "        vertical-align: top;\n",
              "    }\n",
              "\n",
              "    .dataframe thead th {\n",
              "        text-align: right;\n",
              "    }\n",
              "</style>\n",
              "<table border=\"1\" class=\"dataframe\">\n",
              "  <thead>\n",
              "    <tr style=\"text-align: right;\">\n",
              "      <th></th>\n",
              "      <th>0</th>\n",
              "    </tr>\n",
              "  </thead>\n",
              "  <tbody>\n",
              "    <tr>\n",
              "      <th>LocationID</th>\n",
              "      <td>0</td>\n",
              "    </tr>\n",
              "    <tr>\n",
              "      <th>Borough</th>\n",
              "      <td>1</td>\n",
              "    </tr>\n",
              "    <tr>\n",
              "      <th>Zone</th>\n",
              "      <td>1</td>\n",
              "    </tr>\n",
              "    <tr>\n",
              "      <th>service_zone</th>\n",
              "      <td>2</td>\n",
              "    </tr>\n",
              "  </tbody>\n",
              "</table>\n",
              "</div><br><label><b>dtype:</b> int64</label>"
            ]
          },
          "metadata": {},
          "execution_count": 13
        }
      ]
    },
    {
      "cell_type": "code",
      "source": [
        "zone_df.dropna(inplace=True)"
      ],
      "metadata": {
        "id": "2XZoTHqCFf4P"
      },
      "execution_count": null,
      "outputs": []
    },
    {
      "cell_type": "markdown",
      "source": [
        "## Handling Duplicates"
      ],
      "metadata": {
        "id": "umyoFonXEY33"
      }
    },
    {
      "cell_type": "code",
      "source": [
        "duplicate_count = trip_df.duplicated().sum()\n",
        "duplicate_count"
      ],
      "metadata": {
        "colab": {
          "base_uri": "https://localhost:8080/"
        },
        "id": "8tEoOGtnEYS_",
        "outputId": "8c89dec3-0234-4fef-898a-79e9c36b01d4"
      },
      "execution_count": null,
      "outputs": [
        {
          "output_type": "execute_result",
          "data": {
            "text/plain": [
              "np.int64(0)"
            ]
          },
          "metadata": {},
          "execution_count": 15
        }
      ]
    },
    {
      "cell_type": "code",
      "source": [
        "zone_df.duplicated().sum()"
      ],
      "metadata": {
        "colab": {
          "base_uri": "https://localhost:8080/"
        },
        "id": "UILE4hg8FtwH",
        "outputId": "719f2614-9e3c-4818-da2f-7472e83d4dfc"
      },
      "execution_count": null,
      "outputs": [
        {
          "output_type": "execute_result",
          "data": {
            "text/plain": [
              "np.int64(0)"
            ]
          },
          "metadata": {},
          "execution_count": 16
        }
      ]
    },
    {
      "cell_type": "markdown",
      "source": [
        "### Remove Unnessecary Columns"
      ],
      "metadata": {
        "id": "jNn9M_ZeF5Xf"
      }
    },
    {
      "cell_type": "code",
      "source": [
        "# List of important columns to keep\n",
        "required_columns = [\n",
        "    'tpep_pickup_datetime', 'tpep_dropoff_datetime',\n",
        "    'passenger_count', 'trip_distance',\n",
        "    'PULocationID', 'DOLocationID',\n",
        "    'payment_type', 'fare_amount', 'tip_amount',\n",
        "    'tolls_amount', 'total_amount', 'congestion_surcharge'\n",
        "    ]\n",
        "\n",
        "# Keep only those columns\n",
        "taxi_df = trip_df[required_columns]"
      ],
      "metadata": {
        "id": "mQZZXi14FzNH"
      },
      "execution_count": null,
      "outputs": []
    },
    {
      "cell_type": "code",
      "source": [
        "# Keep only 'LocationID' and 'Borough' columns\n",
        "zone_df = zone_df[['LocationID', 'Zone']]\n",
        "zone_df.shape"
      ],
      "metadata": {
        "colab": {
          "base_uri": "https://localhost:8080/"
        },
        "id": "5qiXFCKuGA1f",
        "outputId": "5da15120-0038-4188-b590-76fa625ed83f"
      },
      "execution_count": null,
      "outputs": [
        {
          "output_type": "execute_result",
          "data": {
            "text/plain": [
              "(263, 2)"
            ]
          },
          "metadata": {},
          "execution_count": 18
        }
      ]
    },
    {
      "cell_type": "code",
      "source": [
        "taxi_df.to_csv('/content/drive/MyDrive/Taxi_Data_Analysis/cleaned_taxi.csv', index=False)\n",
        "zone_df.to_csv('/content/drive/MyDrive/Taxi_Data_Analysis/cleaned_zone.csv', index=False)"
      ],
      "metadata": {
        "id": "Q-sWfdSYGAyn"
      },
      "execution_count": null,
      "outputs": []
    },
    {
      "cell_type": "markdown",
      "source": [
        "## Merging Table using DuckDB"
      ],
      "metadata": {
        "id": "YYXyDis7J8_3"
      }
    },
    {
      "cell_type": "code",
      "source": [
        "duckdb.sql(\"\"\"\n",
        "    CREATE TABLE trip AS\n",
        "    SELECT *\n",
        "    FROM read_csv_auto('/content/drive/MyDrive/Taxi_Data_Analysis/cleaned_taxi.csv')\n",
        "    \"\"\")"
      ],
      "metadata": {
        "colab": {
          "base_uri": "https://localhost:8080/",
          "height": 49,
          "referenced_widgets": [
            "b73e8e4df0dd4f569e1b038555badc99",
            "5c868a66fb544790adf256068b60f2ee",
            "16443c28b5f349bba7ca18a207211729"
          ]
        },
        "id": "Fe_9PH8X6Co-",
        "outputId": "78908eb3-bdee-4bc5-e12c-ef5a7dae265c"
      },
      "execution_count": null,
      "outputs": [
        {
          "output_type": "display_data",
          "data": {
            "text/plain": [
              "FloatProgress(value=0.0, layout=Layout(width='auto'), style=ProgressStyle(bar_color='black'))"
            ],
            "application/vnd.jupyter.widget-view+json": {
              "version_major": 2,
              "version_minor": 0,
              "model_id": "b73e8e4df0dd4f569e1b038555badc99"
            }
          },
          "metadata": {}
        }
      ]
    },
    {
      "cell_type": "code",
      "source": [
        "duckdb.sql(\"\"\"\n",
        "    CREATE TABLE zone AS\n",
        "    SELECT *\n",
        "    FROM read_csv_auto('/content/drive/MyDrive/Taxi_Data_Analysis/cleaned_zone.csv')\n",
        "    \"\"\")"
      ],
      "metadata": {
        "id": "mmxXcgyYBCXu"
      },
      "execution_count": null,
      "outputs": []
    },
    {
      "cell_type": "code",
      "source": [
        "duckdb.sql(\"SELECT * FROM trip LIMIT 5\").df()"
      ],
      "metadata": {
        "colab": {
          "base_uri": "https://localhost:8080/",
          "height": 206
        },
        "id": "R8lZkAv3-ZH3",
        "outputId": "72eaf203-2271-4ee6-d096-f71e51e0d83b"
      },
      "execution_count": null,
      "outputs": [
        {
          "output_type": "execute_result",
          "data": {
            "text/plain": [
              "  tpep_pickup_datetime tpep_dropoff_datetime  passenger_count  trip_distance  \\\n",
              "0  2020-01-01 00:28:15   2020-01-01 00:33:03              1.0            1.2   \n",
              "1  2020-01-01 00:35:39   2020-01-01 00:43:04              1.0            1.2   \n",
              "2  2020-01-01 00:47:41   2020-01-01 00:53:52              1.0            0.6   \n",
              "3  2020-01-01 00:55:23   2020-01-01 01:00:14              1.0            0.8   \n",
              "4  2020-01-01 00:01:58   2020-01-01 00:04:16              1.0            0.0   \n",
              "\n",
              "   PULocationID  DOLocationID  payment_type  fare_amount  tip_amount  \\\n",
              "0           238           239           1.0          6.0        1.47   \n",
              "1           239           238           1.0          7.0        1.50   \n",
              "2           238           238           1.0          6.0        1.00   \n",
              "3           238           151           1.0          5.5        1.36   \n",
              "4           193           193           2.0          3.5        0.00   \n",
              "\n",
              "   tolls_amount  total_amount  congestion_surcharge  \n",
              "0           0.0         11.27                   2.5  \n",
              "1           0.0         12.30                   2.5  \n",
              "2           0.0         10.80                   2.5  \n",
              "3           0.0          8.16                   0.0  \n",
              "4           0.0          4.80                   0.0  "
            ],
            "text/html": [
              "\n",
              "  <div id=\"df-5988890d-a10a-4629-8861-1c316084f50b\" class=\"colab-df-container\">\n",
              "    <div>\n",
              "<style scoped>\n",
              "    .dataframe tbody tr th:only-of-type {\n",
              "        vertical-align: middle;\n",
              "    }\n",
              "\n",
              "    .dataframe tbody tr th {\n",
              "        vertical-align: top;\n",
              "    }\n",
              "\n",
              "    .dataframe thead th {\n",
              "        text-align: right;\n",
              "    }\n",
              "</style>\n",
              "<table border=\"1\" class=\"dataframe\">\n",
              "  <thead>\n",
              "    <tr style=\"text-align: right;\">\n",
              "      <th></th>\n",
              "      <th>tpep_pickup_datetime</th>\n",
              "      <th>tpep_dropoff_datetime</th>\n",
              "      <th>passenger_count</th>\n",
              "      <th>trip_distance</th>\n",
              "      <th>PULocationID</th>\n",
              "      <th>DOLocationID</th>\n",
              "      <th>payment_type</th>\n",
              "      <th>fare_amount</th>\n",
              "      <th>tip_amount</th>\n",
              "      <th>tolls_amount</th>\n",
              "      <th>total_amount</th>\n",
              "      <th>congestion_surcharge</th>\n",
              "    </tr>\n",
              "  </thead>\n",
              "  <tbody>\n",
              "    <tr>\n",
              "      <th>0</th>\n",
              "      <td>2020-01-01 00:28:15</td>\n",
              "      <td>2020-01-01 00:33:03</td>\n",
              "      <td>1.0</td>\n",
              "      <td>1.2</td>\n",
              "      <td>238</td>\n",
              "      <td>239</td>\n",
              "      <td>1.0</td>\n",
              "      <td>6.0</td>\n",
              "      <td>1.47</td>\n",
              "      <td>0.0</td>\n",
              "      <td>11.27</td>\n",
              "      <td>2.5</td>\n",
              "    </tr>\n",
              "    <tr>\n",
              "      <th>1</th>\n",
              "      <td>2020-01-01 00:35:39</td>\n",
              "      <td>2020-01-01 00:43:04</td>\n",
              "      <td>1.0</td>\n",
              "      <td>1.2</td>\n",
              "      <td>239</td>\n",
              "      <td>238</td>\n",
              "      <td>1.0</td>\n",
              "      <td>7.0</td>\n",
              "      <td>1.50</td>\n",
              "      <td>0.0</td>\n",
              "      <td>12.30</td>\n",
              "      <td>2.5</td>\n",
              "    </tr>\n",
              "    <tr>\n",
              "      <th>2</th>\n",
              "      <td>2020-01-01 00:47:41</td>\n",
              "      <td>2020-01-01 00:53:52</td>\n",
              "      <td>1.0</td>\n",
              "      <td>0.6</td>\n",
              "      <td>238</td>\n",
              "      <td>238</td>\n",
              "      <td>1.0</td>\n",
              "      <td>6.0</td>\n",
              "      <td>1.00</td>\n",
              "      <td>0.0</td>\n",
              "      <td>10.80</td>\n",
              "      <td>2.5</td>\n",
              "    </tr>\n",
              "    <tr>\n",
              "      <th>3</th>\n",
              "      <td>2020-01-01 00:55:23</td>\n",
              "      <td>2020-01-01 01:00:14</td>\n",
              "      <td>1.0</td>\n",
              "      <td>0.8</td>\n",
              "      <td>238</td>\n",
              "      <td>151</td>\n",
              "      <td>1.0</td>\n",
              "      <td>5.5</td>\n",
              "      <td>1.36</td>\n",
              "      <td>0.0</td>\n",
              "      <td>8.16</td>\n",
              "      <td>0.0</td>\n",
              "    </tr>\n",
              "    <tr>\n",
              "      <th>4</th>\n",
              "      <td>2020-01-01 00:01:58</td>\n",
              "      <td>2020-01-01 00:04:16</td>\n",
              "      <td>1.0</td>\n",
              "      <td>0.0</td>\n",
              "      <td>193</td>\n",
              "      <td>193</td>\n",
              "      <td>2.0</td>\n",
              "      <td>3.5</td>\n",
              "      <td>0.00</td>\n",
              "      <td>0.0</td>\n",
              "      <td>4.80</td>\n",
              "      <td>0.0</td>\n",
              "    </tr>\n",
              "  </tbody>\n",
              "</table>\n",
              "</div>\n",
              "    <div class=\"colab-df-buttons\">\n",
              "\n",
              "  <div class=\"colab-df-container\">\n",
              "    <button class=\"colab-df-convert\" onclick=\"convertToInteractive('df-5988890d-a10a-4629-8861-1c316084f50b')\"\n",
              "            title=\"Convert this dataframe to an interactive table.\"\n",
              "            style=\"display:none;\">\n",
              "\n",
              "  <svg xmlns=\"http://www.w3.org/2000/svg\" height=\"24px\" viewBox=\"0 -960 960 960\">\n",
              "    <path d=\"M120-120v-720h720v720H120Zm60-500h600v-160H180v160Zm220 220h160v-160H400v160Zm0 220h160v-160H400v160ZM180-400h160v-160H180v160Zm440 0h160v-160H620v160ZM180-180h160v-160H180v160Zm440 0h160v-160H620v160Z\"/>\n",
              "  </svg>\n",
              "    </button>\n",
              "\n",
              "  <style>\n",
              "    .colab-df-container {\n",
              "      display:flex;\n",
              "      gap: 12px;\n",
              "    }\n",
              "\n",
              "    .colab-df-convert {\n",
              "      background-color: #E8F0FE;\n",
              "      border: none;\n",
              "      border-radius: 50%;\n",
              "      cursor: pointer;\n",
              "      display: none;\n",
              "      fill: #1967D2;\n",
              "      height: 32px;\n",
              "      padding: 0 0 0 0;\n",
              "      width: 32px;\n",
              "    }\n",
              "\n",
              "    .colab-df-convert:hover {\n",
              "      background-color: #E2EBFA;\n",
              "      box-shadow: 0px 1px 2px rgba(60, 64, 67, 0.3), 0px 1px 3px 1px rgba(60, 64, 67, 0.15);\n",
              "      fill: #174EA6;\n",
              "    }\n",
              "\n",
              "    .colab-df-buttons div {\n",
              "      margin-bottom: 4px;\n",
              "    }\n",
              "\n",
              "    [theme=dark] .colab-df-convert {\n",
              "      background-color: #3B4455;\n",
              "      fill: #D2E3FC;\n",
              "    }\n",
              "\n",
              "    [theme=dark] .colab-df-convert:hover {\n",
              "      background-color: #434B5C;\n",
              "      box-shadow: 0px 1px 3px 1px rgba(0, 0, 0, 0.15);\n",
              "      filter: drop-shadow(0px 1px 2px rgba(0, 0, 0, 0.3));\n",
              "      fill: #FFFFFF;\n",
              "    }\n",
              "  </style>\n",
              "\n",
              "    <script>\n",
              "      const buttonEl =\n",
              "        document.querySelector('#df-5988890d-a10a-4629-8861-1c316084f50b button.colab-df-convert');\n",
              "      buttonEl.style.display =\n",
              "        google.colab.kernel.accessAllowed ? 'block' : 'none';\n",
              "\n",
              "      async function convertToInteractive(key) {\n",
              "        const element = document.querySelector('#df-5988890d-a10a-4629-8861-1c316084f50b');\n",
              "        const dataTable =\n",
              "          await google.colab.kernel.invokeFunction('convertToInteractive',\n",
              "                                                    [key], {});\n",
              "        if (!dataTable) return;\n",
              "\n",
              "        const docLinkHtml = 'Like what you see? Visit the ' +\n",
              "          '<a target=\"_blank\" href=https://colab.research.google.com/notebooks/data_table.ipynb>data table notebook</a>'\n",
              "          + ' to learn more about interactive tables.';\n",
              "        element.innerHTML = '';\n",
              "        dataTable['output_type'] = 'display_data';\n",
              "        await google.colab.output.renderOutput(dataTable, element);\n",
              "        const docLink = document.createElement('div');\n",
              "        docLink.innerHTML = docLinkHtml;\n",
              "        element.appendChild(docLink);\n",
              "      }\n",
              "    </script>\n",
              "  </div>\n",
              "\n",
              "\n",
              "    <div id=\"df-46b60585-00eb-42bb-aefc-47187c860c9f\">\n",
              "      <button class=\"colab-df-quickchart\" onclick=\"quickchart('df-46b60585-00eb-42bb-aefc-47187c860c9f')\"\n",
              "                title=\"Suggest charts\"\n",
              "                style=\"display:none;\">\n",
              "\n",
              "<svg xmlns=\"http://www.w3.org/2000/svg\" height=\"24px\"viewBox=\"0 0 24 24\"\n",
              "     width=\"24px\">\n",
              "    <g>\n",
              "        <path d=\"M19 3H5c-1.1 0-2 .9-2 2v14c0 1.1.9 2 2 2h14c1.1 0 2-.9 2-2V5c0-1.1-.9-2-2-2zM9 17H7v-7h2v7zm4 0h-2V7h2v10zm4 0h-2v-4h2v4z\"/>\n",
              "    </g>\n",
              "</svg>\n",
              "      </button>\n",
              "\n",
              "<style>\n",
              "  .colab-df-quickchart {\n",
              "      --bg-color: #E8F0FE;\n",
              "      --fill-color: #1967D2;\n",
              "      --hover-bg-color: #E2EBFA;\n",
              "      --hover-fill-color: #174EA6;\n",
              "      --disabled-fill-color: #AAA;\n",
              "      --disabled-bg-color: #DDD;\n",
              "  }\n",
              "\n",
              "  [theme=dark] .colab-df-quickchart {\n",
              "      --bg-color: #3B4455;\n",
              "      --fill-color: #D2E3FC;\n",
              "      --hover-bg-color: #434B5C;\n",
              "      --hover-fill-color: #FFFFFF;\n",
              "      --disabled-bg-color: #3B4455;\n",
              "      --disabled-fill-color: #666;\n",
              "  }\n",
              "\n",
              "  .colab-df-quickchart {\n",
              "    background-color: var(--bg-color);\n",
              "    border: none;\n",
              "    border-radius: 50%;\n",
              "    cursor: pointer;\n",
              "    display: none;\n",
              "    fill: var(--fill-color);\n",
              "    height: 32px;\n",
              "    padding: 0;\n",
              "    width: 32px;\n",
              "  }\n",
              "\n",
              "  .colab-df-quickchart:hover {\n",
              "    background-color: var(--hover-bg-color);\n",
              "    box-shadow: 0 1px 2px rgba(60, 64, 67, 0.3), 0 1px 3px 1px rgba(60, 64, 67, 0.15);\n",
              "    fill: var(--button-hover-fill-color);\n",
              "  }\n",
              "\n",
              "  .colab-df-quickchart-complete:disabled,\n",
              "  .colab-df-quickchart-complete:disabled:hover {\n",
              "    background-color: var(--disabled-bg-color);\n",
              "    fill: var(--disabled-fill-color);\n",
              "    box-shadow: none;\n",
              "  }\n",
              "\n",
              "  .colab-df-spinner {\n",
              "    border: 2px solid var(--fill-color);\n",
              "    border-color: transparent;\n",
              "    border-bottom-color: var(--fill-color);\n",
              "    animation:\n",
              "      spin 1s steps(1) infinite;\n",
              "  }\n",
              "\n",
              "  @keyframes spin {\n",
              "    0% {\n",
              "      border-color: transparent;\n",
              "      border-bottom-color: var(--fill-color);\n",
              "      border-left-color: var(--fill-color);\n",
              "    }\n",
              "    20% {\n",
              "      border-color: transparent;\n",
              "      border-left-color: var(--fill-color);\n",
              "      border-top-color: var(--fill-color);\n",
              "    }\n",
              "    30% {\n",
              "      border-color: transparent;\n",
              "      border-left-color: var(--fill-color);\n",
              "      border-top-color: var(--fill-color);\n",
              "      border-right-color: var(--fill-color);\n",
              "    }\n",
              "    40% {\n",
              "      border-color: transparent;\n",
              "      border-right-color: var(--fill-color);\n",
              "      border-top-color: var(--fill-color);\n",
              "    }\n",
              "    60% {\n",
              "      border-color: transparent;\n",
              "      border-right-color: var(--fill-color);\n",
              "    }\n",
              "    80% {\n",
              "      border-color: transparent;\n",
              "      border-right-color: var(--fill-color);\n",
              "      border-bottom-color: var(--fill-color);\n",
              "    }\n",
              "    90% {\n",
              "      border-color: transparent;\n",
              "      border-bottom-color: var(--fill-color);\n",
              "    }\n",
              "  }\n",
              "</style>\n",
              "\n",
              "      <script>\n",
              "        async function quickchart(key) {\n",
              "          const quickchartButtonEl =\n",
              "            document.querySelector('#' + key + ' button');\n",
              "          quickchartButtonEl.disabled = true;  // To prevent multiple clicks.\n",
              "          quickchartButtonEl.classList.add('colab-df-spinner');\n",
              "          try {\n",
              "            const charts = await google.colab.kernel.invokeFunction(\n",
              "                'suggestCharts', [key], {});\n",
              "          } catch (error) {\n",
              "            console.error('Error during call to suggestCharts:', error);\n",
              "          }\n",
              "          quickchartButtonEl.classList.remove('colab-df-spinner');\n",
              "          quickchartButtonEl.classList.add('colab-df-quickchart-complete');\n",
              "        }\n",
              "        (() => {\n",
              "          let quickchartButtonEl =\n",
              "            document.querySelector('#df-46b60585-00eb-42bb-aefc-47187c860c9f button');\n",
              "          quickchartButtonEl.style.display =\n",
              "            google.colab.kernel.accessAllowed ? 'block' : 'none';\n",
              "        })();\n",
              "      </script>\n",
              "    </div>\n",
              "\n",
              "    </div>\n",
              "  </div>\n"
            ],
            "application/vnd.google.colaboratory.intrinsic+json": {
              "type": "dataframe",
              "summary": "{\n  \"name\": \"duckdb\",\n  \"rows\": 5,\n  \"fields\": [\n    {\n      \"column\": \"tpep_pickup_datetime\",\n      \"properties\": {\n        \"dtype\": \"date\",\n        \"min\": \"2020-01-01 00:01:58\",\n        \"max\": \"2020-01-01 00:55:23\",\n        \"num_unique_values\": 5,\n        \"samples\": [\n          \"2020-01-01 00:35:39\",\n          \"2020-01-01 00:01:58\",\n          \"2020-01-01 00:47:41\"\n        ],\n        \"semantic_type\": \"\",\n        \"description\": \"\"\n      }\n    },\n    {\n      \"column\": \"tpep_dropoff_datetime\",\n      \"properties\": {\n        \"dtype\": \"date\",\n        \"min\": \"2020-01-01 00:04:16\",\n        \"max\": \"2020-01-01 01:00:14\",\n        \"num_unique_values\": 5,\n        \"samples\": [\n          \"2020-01-01 00:43:04\",\n          \"2020-01-01 00:04:16\",\n          \"2020-01-01 00:53:52\"\n        ],\n        \"semantic_type\": \"\",\n        \"description\": \"\"\n      }\n    },\n    {\n      \"column\": \"passenger_count\",\n      \"properties\": {\n        \"dtype\": \"number\",\n        \"std\": 0.0,\n        \"min\": 1.0,\n        \"max\": 1.0,\n        \"num_unique_values\": 1,\n        \"samples\": [\n          1.0\n        ],\n        \"semantic_type\": \"\",\n        \"description\": \"\"\n      }\n    },\n    {\n      \"column\": \"trip_distance\",\n      \"properties\": {\n        \"dtype\": \"number\",\n        \"std\": 0.4979959839195493,\n        \"min\": 0.0,\n        \"max\": 1.2,\n        \"num_unique_values\": 4,\n        \"samples\": [\n          0.6\n        ],\n        \"semantic_type\": \"\",\n        \"description\": \"\"\n      }\n    },\n    {\n      \"column\": \"PULocationID\",\n      \"properties\": {\n        \"dtype\": \"number\",\n        \"std\": 20,\n        \"min\": 193,\n        \"max\": 239,\n        \"num_unique_values\": 3,\n        \"samples\": [\n          238\n        ],\n        \"semantic_type\": \"\",\n        \"description\": \"\"\n      }\n    },\n    {\n      \"column\": \"DOLocationID\",\n      \"properties\": {\n        \"dtype\": \"number\",\n        \"std\": 39,\n        \"min\": 151,\n        \"max\": 239,\n        \"num_unique_values\": 4,\n        \"samples\": [\n          238\n        ],\n        \"semantic_type\": \"\",\n        \"description\": \"\"\n      }\n    },\n    {\n      \"column\": \"payment_type\",\n      \"properties\": {\n        \"dtype\": \"number\",\n        \"std\": 0.4472135954999579,\n        \"min\": 1.0,\n        \"max\": 2.0,\n        \"num_unique_values\": 2,\n        \"samples\": [\n          2.0\n        ],\n        \"semantic_type\": \"\",\n        \"description\": \"\"\n      }\n    },\n    {\n      \"column\": \"fare_amount\",\n      \"properties\": {\n        \"dtype\": \"number\",\n        \"std\": 1.2942179105544784,\n        \"min\": 3.5,\n        \"max\": 7.0,\n        \"num_unique_values\": 4,\n        \"samples\": [\n          7.0\n        ],\n        \"semantic_type\": \"\",\n        \"description\": \"\"\n      }\n    },\n    {\n      \"column\": \"tip_amount\",\n      \"properties\": {\n        \"dtype\": \"number\",\n        \"std\": 0.6282356245868265,\n        \"min\": 0.0,\n        \"max\": 1.5,\n        \"num_unique_values\": 5,\n        \"samples\": [\n          1.5\n        ],\n        \"semantic_type\": \"\",\n        \"description\": \"\"\n      }\n    },\n    {\n      \"column\": \"tolls_amount\",\n      \"properties\": {\n        \"dtype\": \"number\",\n        \"std\": 0.0,\n        \"min\": 0.0,\n        \"max\": 0.0,\n        \"num_unique_values\": 1,\n        \"samples\": [\n          0.0\n        ],\n        \"semantic_type\": \"\",\n        \"description\": \"\"\n      }\n    },\n    {\n      \"column\": \"total_amount\",\n      \"properties\": {\n        \"dtype\": \"number\",\n        \"std\": 3.022528742625949,\n        \"min\": 4.8,\n        \"max\": 12.3,\n        \"num_unique_values\": 5,\n        \"samples\": [\n          12.3\n        ],\n        \"semantic_type\": \"\",\n        \"description\": \"\"\n      }\n    },\n    {\n      \"column\": \"congestion_surcharge\",\n      \"properties\": {\n        \"dtype\": \"number\",\n        \"std\": 1.3693063937629153,\n        \"min\": 0.0,\n        \"max\": 2.5,\n        \"num_unique_values\": 2,\n        \"samples\": [\n          0.0\n        ],\n        \"semantic_type\": \"\",\n        \"description\": \"\"\n      }\n    }\n  ]\n}"
            }
          },
          "metadata": {},
          "execution_count": 32
        }
      ]
    },
    {
      "cell_type": "code",
      "source": [
        "duckdb.sql(\"\"\"\n",
        "    CREATE TABLE trips_with_pickup AS\n",
        "    SELECT t.*, z.Zone AS PU_Zone\n",
        "    FROM trip t\n",
        "    LEFT JOIN zone z\n",
        "    ON t.PULocationID = z.LocationID\n",
        "  \"\"\")\n"
      ],
      "metadata": {
        "collapsed": true,
        "id": "PyzANVzVKb_I"
      },
      "execution_count": null,
      "outputs": []
    },
    {
      "cell_type": "code",
      "source": [
        "duckdb.sql(\"\"\"\n",
        "    CREATE TABLE trips_with_zones AS\n",
        "    SELECT t.*, z.Zone AS DO_Zone\n",
        "    FROM trips_with_pickup t\n",
        "    LEFT JOIN zone z\n",
        "    ON t.DOLocationID = z.LocationID\n",
        "    \"\"\")"
      ],
      "metadata": {
        "id": "uHjzKvtBLf2w"
      },
      "execution_count": null,
      "outputs": []
    },
    {
      "cell_type": "code",
      "source": [
        "merged_df = duckdb.sql(\"SELECT * FROM trips_with_zones\").df()"
      ],
      "metadata": {
        "id": "WjkPXU9XLR3w"
      },
      "execution_count": null,
      "outputs": []
    },
    {
      "cell_type": "code",
      "source": [
        "duckdb.sql(\"select * from merged_df limit 5\").df()"
      ],
      "metadata": {
        "colab": {
          "base_uri": "https://localhost:8080/",
          "height": 365
        },
        "collapsed": true,
        "id": "59trB2u5LmiA",
        "outputId": "af5dc59c-459f-4f3b-e11f-79604937a5c8"
      },
      "execution_count": null,
      "outputs": [
        {
          "output_type": "execute_result",
          "data": {
            "text/plain": [
              "  tpep_pickup_datetime tpep_dropoff_datetime  passenger_count  trip_distance  \\\n",
              "0  2020-01-01 16:39:18   2020-01-01 16:49:27              1.0           1.93   \n",
              "1  2020-01-01 16:50:34   2020-01-01 16:57:51              1.0           1.20   \n",
              "2  2020-01-01 16:59:23   2020-01-01 17:19:08              1.0           4.84   \n",
              "3  2020-01-01 16:40:23   2020-01-01 16:54:45              1.0           6.59   \n",
              "4  2020-01-01 16:54:57   2020-01-01 17:11:10              1.0           8.86   \n",
              "\n",
              "   PULocationID  DOLocationID  payment_type  fare_amount  tip_amount  \\\n",
              "0            48            90           1.0          9.0        3.32   \n",
              "1            90           230           1.0          7.0        2.26   \n",
              "2           230            13           2.0         18.5        0.00   \n",
              "3            66           233           1.0         19.5        5.70   \n",
              "4           132            93           2.0         25.0        0.00   \n",
              "\n",
              "   tolls_amount  total_amount  congestion_surcharge  \\\n",
              "0           0.0         16.62                   2.5   \n",
              "1           0.0         13.56                   2.5   \n",
              "2           0.0         22.80                   2.5   \n",
              "3           0.0         28.50                   2.5   \n",
              "4           0.0         25.80                   0.0   \n",
              "\n",
              "                     PU_Zone                       DO_Zone  \n",
              "0               Clinton East                      Flatiron  \n",
              "1                   Flatiron     Times Sq/Theatre District  \n",
              "2  Times Sq/Theatre District             Battery Park City  \n",
              "3         DUMBO/Vinegar Hill           UN/Turtle Bay South  \n",
              "4                JFK Airport  Flushing Meadows-Corona Park  "
            ],
            "text/html": [
              "\n",
              "  <div id=\"df-9ebe2a5b-bf86-4f44-976e-6e3b7851ae0b\" class=\"colab-df-container\">\n",
              "    <div>\n",
              "<style scoped>\n",
              "    .dataframe tbody tr th:only-of-type {\n",
              "        vertical-align: middle;\n",
              "    }\n",
              "\n",
              "    .dataframe tbody tr th {\n",
              "        vertical-align: top;\n",
              "    }\n",
              "\n",
              "    .dataframe thead th {\n",
              "        text-align: right;\n",
              "    }\n",
              "</style>\n",
              "<table border=\"1\" class=\"dataframe\">\n",
              "  <thead>\n",
              "    <tr style=\"text-align: right;\">\n",
              "      <th></th>\n",
              "      <th>tpep_pickup_datetime</th>\n",
              "      <th>tpep_dropoff_datetime</th>\n",
              "      <th>passenger_count</th>\n",
              "      <th>trip_distance</th>\n",
              "      <th>PULocationID</th>\n",
              "      <th>DOLocationID</th>\n",
              "      <th>payment_type</th>\n",
              "      <th>fare_amount</th>\n",
              "      <th>tip_amount</th>\n",
              "      <th>tolls_amount</th>\n",
              "      <th>total_amount</th>\n",
              "      <th>congestion_surcharge</th>\n",
              "      <th>PU_Zone</th>\n",
              "      <th>DO_Zone</th>\n",
              "    </tr>\n",
              "  </thead>\n",
              "  <tbody>\n",
              "    <tr>\n",
              "      <th>0</th>\n",
              "      <td>2020-01-01 16:39:18</td>\n",
              "      <td>2020-01-01 16:49:27</td>\n",
              "      <td>1.0</td>\n",
              "      <td>1.93</td>\n",
              "      <td>48</td>\n",
              "      <td>90</td>\n",
              "      <td>1.0</td>\n",
              "      <td>9.0</td>\n",
              "      <td>3.32</td>\n",
              "      <td>0.0</td>\n",
              "      <td>16.62</td>\n",
              "      <td>2.5</td>\n",
              "      <td>Clinton East</td>\n",
              "      <td>Flatiron</td>\n",
              "    </tr>\n",
              "    <tr>\n",
              "      <th>1</th>\n",
              "      <td>2020-01-01 16:50:34</td>\n",
              "      <td>2020-01-01 16:57:51</td>\n",
              "      <td>1.0</td>\n",
              "      <td>1.20</td>\n",
              "      <td>90</td>\n",
              "      <td>230</td>\n",
              "      <td>1.0</td>\n",
              "      <td>7.0</td>\n",
              "      <td>2.26</td>\n",
              "      <td>0.0</td>\n",
              "      <td>13.56</td>\n",
              "      <td>2.5</td>\n",
              "      <td>Flatiron</td>\n",
              "      <td>Times Sq/Theatre District</td>\n",
              "    </tr>\n",
              "    <tr>\n",
              "      <th>2</th>\n",
              "      <td>2020-01-01 16:59:23</td>\n",
              "      <td>2020-01-01 17:19:08</td>\n",
              "      <td>1.0</td>\n",
              "      <td>4.84</td>\n",
              "      <td>230</td>\n",
              "      <td>13</td>\n",
              "      <td>2.0</td>\n",
              "      <td>18.5</td>\n",
              "      <td>0.00</td>\n",
              "      <td>0.0</td>\n",
              "      <td>22.80</td>\n",
              "      <td>2.5</td>\n",
              "      <td>Times Sq/Theatre District</td>\n",
              "      <td>Battery Park City</td>\n",
              "    </tr>\n",
              "    <tr>\n",
              "      <th>3</th>\n",
              "      <td>2020-01-01 16:40:23</td>\n",
              "      <td>2020-01-01 16:54:45</td>\n",
              "      <td>1.0</td>\n",
              "      <td>6.59</td>\n",
              "      <td>66</td>\n",
              "      <td>233</td>\n",
              "      <td>1.0</td>\n",
              "      <td>19.5</td>\n",
              "      <td>5.70</td>\n",
              "      <td>0.0</td>\n",
              "      <td>28.50</td>\n",
              "      <td>2.5</td>\n",
              "      <td>DUMBO/Vinegar Hill</td>\n",
              "      <td>UN/Turtle Bay South</td>\n",
              "    </tr>\n",
              "    <tr>\n",
              "      <th>4</th>\n",
              "      <td>2020-01-01 16:54:57</td>\n",
              "      <td>2020-01-01 17:11:10</td>\n",
              "      <td>1.0</td>\n",
              "      <td>8.86</td>\n",
              "      <td>132</td>\n",
              "      <td>93</td>\n",
              "      <td>2.0</td>\n",
              "      <td>25.0</td>\n",
              "      <td>0.00</td>\n",
              "      <td>0.0</td>\n",
              "      <td>25.80</td>\n",
              "      <td>0.0</td>\n",
              "      <td>JFK Airport</td>\n",
              "      <td>Flushing Meadows-Corona Park</td>\n",
              "    </tr>\n",
              "  </tbody>\n",
              "</table>\n",
              "</div>\n",
              "    <div class=\"colab-df-buttons\">\n",
              "\n",
              "  <div class=\"colab-df-container\">\n",
              "    <button class=\"colab-df-convert\" onclick=\"convertToInteractive('df-9ebe2a5b-bf86-4f44-976e-6e3b7851ae0b')\"\n",
              "            title=\"Convert this dataframe to an interactive table.\"\n",
              "            style=\"display:none;\">\n",
              "\n",
              "  <svg xmlns=\"http://www.w3.org/2000/svg\" height=\"24px\" viewBox=\"0 -960 960 960\">\n",
              "    <path d=\"M120-120v-720h720v720H120Zm60-500h600v-160H180v160Zm220 220h160v-160H400v160Zm0 220h160v-160H400v160ZM180-400h160v-160H180v160Zm440 0h160v-160H620v160ZM180-180h160v-160H180v160Zm440 0h160v-160H620v160Z\"/>\n",
              "  </svg>\n",
              "    </button>\n",
              "\n",
              "  <style>\n",
              "    .colab-df-container {\n",
              "      display:flex;\n",
              "      gap: 12px;\n",
              "    }\n",
              "\n",
              "    .colab-df-convert {\n",
              "      background-color: #E8F0FE;\n",
              "      border: none;\n",
              "      border-radius: 50%;\n",
              "      cursor: pointer;\n",
              "      display: none;\n",
              "      fill: #1967D2;\n",
              "      height: 32px;\n",
              "      padding: 0 0 0 0;\n",
              "      width: 32px;\n",
              "    }\n",
              "\n",
              "    .colab-df-convert:hover {\n",
              "      background-color: #E2EBFA;\n",
              "      box-shadow: 0px 1px 2px rgba(60, 64, 67, 0.3), 0px 1px 3px 1px rgba(60, 64, 67, 0.15);\n",
              "      fill: #174EA6;\n",
              "    }\n",
              "\n",
              "    .colab-df-buttons div {\n",
              "      margin-bottom: 4px;\n",
              "    }\n",
              "\n",
              "    [theme=dark] .colab-df-convert {\n",
              "      background-color: #3B4455;\n",
              "      fill: #D2E3FC;\n",
              "    }\n",
              "\n",
              "    [theme=dark] .colab-df-convert:hover {\n",
              "      background-color: #434B5C;\n",
              "      box-shadow: 0px 1px 3px 1px rgba(0, 0, 0, 0.15);\n",
              "      filter: drop-shadow(0px 1px 2px rgba(0, 0, 0, 0.3));\n",
              "      fill: #FFFFFF;\n",
              "    }\n",
              "  </style>\n",
              "\n",
              "    <script>\n",
              "      const buttonEl =\n",
              "        document.querySelector('#df-9ebe2a5b-bf86-4f44-976e-6e3b7851ae0b button.colab-df-convert');\n",
              "      buttonEl.style.display =\n",
              "        google.colab.kernel.accessAllowed ? 'block' : 'none';\n",
              "\n",
              "      async function convertToInteractive(key) {\n",
              "        const element = document.querySelector('#df-9ebe2a5b-bf86-4f44-976e-6e3b7851ae0b');\n",
              "        const dataTable =\n",
              "          await google.colab.kernel.invokeFunction('convertToInteractive',\n",
              "                                                    [key], {});\n",
              "        if (!dataTable) return;\n",
              "\n",
              "        const docLinkHtml = 'Like what you see? Visit the ' +\n",
              "          '<a target=\"_blank\" href=https://colab.research.google.com/notebooks/data_table.ipynb>data table notebook</a>'\n",
              "          + ' to learn more about interactive tables.';\n",
              "        element.innerHTML = '';\n",
              "        dataTable['output_type'] = 'display_data';\n",
              "        await google.colab.output.renderOutput(dataTable, element);\n",
              "        const docLink = document.createElement('div');\n",
              "        docLink.innerHTML = docLinkHtml;\n",
              "        element.appendChild(docLink);\n",
              "      }\n",
              "    </script>\n",
              "  </div>\n",
              "\n",
              "\n",
              "    <div id=\"df-d23828a7-c91f-4b84-81ca-1531da4f2026\">\n",
              "      <button class=\"colab-df-quickchart\" onclick=\"quickchart('df-d23828a7-c91f-4b84-81ca-1531da4f2026')\"\n",
              "                title=\"Suggest charts\"\n",
              "                style=\"display:none;\">\n",
              "\n",
              "<svg xmlns=\"http://www.w3.org/2000/svg\" height=\"24px\"viewBox=\"0 0 24 24\"\n",
              "     width=\"24px\">\n",
              "    <g>\n",
              "        <path d=\"M19 3H5c-1.1 0-2 .9-2 2v14c0 1.1.9 2 2 2h14c1.1 0 2-.9 2-2V5c0-1.1-.9-2-2-2zM9 17H7v-7h2v7zm4 0h-2V7h2v10zm4 0h-2v-4h2v4z\"/>\n",
              "    </g>\n",
              "</svg>\n",
              "      </button>\n",
              "\n",
              "<style>\n",
              "  .colab-df-quickchart {\n",
              "      --bg-color: #E8F0FE;\n",
              "      --fill-color: #1967D2;\n",
              "      --hover-bg-color: #E2EBFA;\n",
              "      --hover-fill-color: #174EA6;\n",
              "      --disabled-fill-color: #AAA;\n",
              "      --disabled-bg-color: #DDD;\n",
              "  }\n",
              "\n",
              "  [theme=dark] .colab-df-quickchart {\n",
              "      --bg-color: #3B4455;\n",
              "      --fill-color: #D2E3FC;\n",
              "      --hover-bg-color: #434B5C;\n",
              "      --hover-fill-color: #FFFFFF;\n",
              "      --disabled-bg-color: #3B4455;\n",
              "      --disabled-fill-color: #666;\n",
              "  }\n",
              "\n",
              "  .colab-df-quickchart {\n",
              "    background-color: var(--bg-color);\n",
              "    border: none;\n",
              "    border-radius: 50%;\n",
              "    cursor: pointer;\n",
              "    display: none;\n",
              "    fill: var(--fill-color);\n",
              "    height: 32px;\n",
              "    padding: 0;\n",
              "    width: 32px;\n",
              "  }\n",
              "\n",
              "  .colab-df-quickchart:hover {\n",
              "    background-color: var(--hover-bg-color);\n",
              "    box-shadow: 0 1px 2px rgba(60, 64, 67, 0.3), 0 1px 3px 1px rgba(60, 64, 67, 0.15);\n",
              "    fill: var(--button-hover-fill-color);\n",
              "  }\n",
              "\n",
              "  .colab-df-quickchart-complete:disabled,\n",
              "  .colab-df-quickchart-complete:disabled:hover {\n",
              "    background-color: var(--disabled-bg-color);\n",
              "    fill: var(--disabled-fill-color);\n",
              "    box-shadow: none;\n",
              "  }\n",
              "\n",
              "  .colab-df-spinner {\n",
              "    border: 2px solid var(--fill-color);\n",
              "    border-color: transparent;\n",
              "    border-bottom-color: var(--fill-color);\n",
              "    animation:\n",
              "      spin 1s steps(1) infinite;\n",
              "  }\n",
              "\n",
              "  @keyframes spin {\n",
              "    0% {\n",
              "      border-color: transparent;\n",
              "      border-bottom-color: var(--fill-color);\n",
              "      border-left-color: var(--fill-color);\n",
              "    }\n",
              "    20% {\n",
              "      border-color: transparent;\n",
              "      border-left-color: var(--fill-color);\n",
              "      border-top-color: var(--fill-color);\n",
              "    }\n",
              "    30% {\n",
              "      border-color: transparent;\n",
              "      border-left-color: var(--fill-color);\n",
              "      border-top-color: var(--fill-color);\n",
              "      border-right-color: var(--fill-color);\n",
              "    }\n",
              "    40% {\n",
              "      border-color: transparent;\n",
              "      border-right-color: var(--fill-color);\n",
              "      border-top-color: var(--fill-color);\n",
              "    }\n",
              "    60% {\n",
              "      border-color: transparent;\n",
              "      border-right-color: var(--fill-color);\n",
              "    }\n",
              "    80% {\n",
              "      border-color: transparent;\n",
              "      border-right-color: var(--fill-color);\n",
              "      border-bottom-color: var(--fill-color);\n",
              "    }\n",
              "    90% {\n",
              "      border-color: transparent;\n",
              "      border-bottom-color: var(--fill-color);\n",
              "    }\n",
              "  }\n",
              "</style>\n",
              "\n",
              "      <script>\n",
              "        async function quickchart(key) {\n",
              "          const quickchartButtonEl =\n",
              "            document.querySelector('#' + key + ' button');\n",
              "          quickchartButtonEl.disabled = true;  // To prevent multiple clicks.\n",
              "          quickchartButtonEl.classList.add('colab-df-spinner');\n",
              "          try {\n",
              "            const charts = await google.colab.kernel.invokeFunction(\n",
              "                'suggestCharts', [key], {});\n",
              "          } catch (error) {\n",
              "            console.error('Error during call to suggestCharts:', error);\n",
              "          }\n",
              "          quickchartButtonEl.classList.remove('colab-df-spinner');\n",
              "          quickchartButtonEl.classList.add('colab-df-quickchart-complete');\n",
              "        }\n",
              "        (() => {\n",
              "          let quickchartButtonEl =\n",
              "            document.querySelector('#df-d23828a7-c91f-4b84-81ca-1531da4f2026 button');\n",
              "          quickchartButtonEl.style.display =\n",
              "            google.colab.kernel.accessAllowed ? 'block' : 'none';\n",
              "        })();\n",
              "      </script>\n",
              "    </div>\n",
              "\n",
              "    </div>\n",
              "  </div>\n"
            ],
            "application/vnd.google.colaboratory.intrinsic+json": {
              "type": "dataframe",
              "summary": "{\n  \"name\": \"duckdb\",\n  \"rows\": 5,\n  \"fields\": [\n    {\n      \"column\": \"tpep_pickup_datetime\",\n      \"properties\": {\n        \"dtype\": \"date\",\n        \"min\": \"2020-01-01 16:39:18\",\n        \"max\": \"2020-01-01 16:59:23\",\n        \"num_unique_values\": 5,\n        \"samples\": [\n          \"2020-01-01 16:50:34\",\n          \"2020-01-01 16:54:57\",\n          \"2020-01-01 16:59:23\"\n        ],\n        \"semantic_type\": \"\",\n        \"description\": \"\"\n      }\n    },\n    {\n      \"column\": \"tpep_dropoff_datetime\",\n      \"properties\": {\n        \"dtype\": \"date\",\n        \"min\": \"2020-01-01 16:49:27\",\n        \"max\": \"2020-01-01 17:19:08\",\n        \"num_unique_values\": 5,\n        \"samples\": [\n          \"2020-01-01 16:57:51\",\n          \"2020-01-01 17:11:10\",\n          \"2020-01-01 17:19:08\"\n        ],\n        \"semantic_type\": \"\",\n        \"description\": \"\"\n      }\n    },\n    {\n      \"column\": \"passenger_count\",\n      \"properties\": {\n        \"dtype\": \"number\",\n        \"std\": 0.0,\n        \"min\": 1.0,\n        \"max\": 1.0,\n        \"num_unique_values\": 1,\n        \"samples\": [\n          1.0\n        ],\n        \"semantic_type\": \"\",\n        \"description\": \"\"\n      }\n    },\n    {\n      \"column\": \"trip_distance\",\n      \"properties\": {\n        \"dtype\": \"number\",\n        \"std\": 3.194484308930003,\n        \"min\": 1.2,\n        \"max\": 8.86,\n        \"num_unique_values\": 5,\n        \"samples\": [\n          1.2\n        ],\n        \"semantic_type\": \"\",\n        \"description\": \"\"\n      }\n    },\n    {\n      \"column\": \"PULocationID\",\n      \"properties\": {\n        \"dtype\": \"number\",\n        \"std\": 72,\n        \"min\": 48,\n        \"max\": 230,\n        \"num_unique_values\": 5,\n        \"samples\": [\n          90\n        ],\n        \"semantic_type\": \"\",\n        \"description\": \"\"\n      }\n    },\n    {\n      \"column\": \"DOLocationID\",\n      \"properties\": {\n        \"dtype\": \"number\",\n        \"std\": 96,\n        \"min\": 13,\n        \"max\": 233,\n        \"num_unique_values\": 5,\n        \"samples\": [\n          230\n        ],\n        \"semantic_type\": \"\",\n        \"description\": \"\"\n      }\n    },\n    {\n      \"column\": \"payment_type\",\n      \"properties\": {\n        \"dtype\": \"number\",\n        \"std\": 0.5477225575051661,\n        \"min\": 1.0,\n        \"max\": 2.0,\n        \"num_unique_values\": 2,\n        \"samples\": [\n          2.0\n        ],\n        \"semantic_type\": \"\",\n        \"description\": \"\"\n      }\n    },\n    {\n      \"column\": \"fare_amount\",\n      \"properties\": {\n        \"dtype\": \"number\",\n        \"std\": 7.571327492586753,\n        \"min\": 7.0,\n        \"max\": 25.0,\n        \"num_unique_values\": 5,\n        \"samples\": [\n          7.0\n        ],\n        \"semantic_type\": \"\",\n        \"description\": \"\"\n      }\n    },\n    {\n      \"column\": \"tip_amount\",\n      \"properties\": {\n        \"dtype\": \"number\",\n        \"std\": 2.406881800172165,\n        \"min\": 0.0,\n        \"max\": 5.7,\n        \"num_unique_values\": 4,\n        \"samples\": [\n          2.26\n        ],\n        \"semantic_type\": \"\",\n        \"description\": \"\"\n      }\n    },\n    {\n      \"column\": \"tolls_amount\",\n      \"properties\": {\n        \"dtype\": \"number\",\n        \"std\": 0.0,\n        \"min\": 0.0,\n        \"max\": 0.0,\n        \"num_unique_values\": 1,\n        \"samples\": [\n          0.0\n        ],\n        \"semantic_type\": \"\",\n        \"description\": \"\"\n      }\n    },\n    {\n      \"column\": \"total_amount\",\n      \"properties\": {\n        \"dtype\": \"number\",\n        \"std\": 6.245564826338767,\n        \"min\": 13.56,\n        \"max\": 28.5,\n        \"num_unique_values\": 5,\n        \"samples\": [\n          13.56\n        ],\n        \"semantic_type\": \"\",\n        \"description\": \"\"\n      }\n    },\n    {\n      \"column\": \"congestion_surcharge\",\n      \"properties\": {\n        \"dtype\": \"number\",\n        \"std\": 1.118033988749895,\n        \"min\": 0.0,\n        \"max\": 2.5,\n        \"num_unique_values\": 2,\n        \"samples\": [\n          0.0\n        ],\n        \"semantic_type\": \"\",\n        \"description\": \"\"\n      }\n    },\n    {\n      \"column\": \"PU_Zone\",\n      \"properties\": {\n        \"dtype\": \"string\",\n        \"num_unique_values\": 5,\n        \"samples\": [\n          \"Flatiron\"\n        ],\n        \"semantic_type\": \"\",\n        \"description\": \"\"\n      }\n    },\n    {\n      \"column\": \"DO_Zone\",\n      \"properties\": {\n        \"dtype\": \"string\",\n        \"num_unique_values\": 5,\n        \"samples\": [\n          \"Times Sq/Theatre District\"\n        ],\n        \"semantic_type\": \"\",\n        \"description\": \"\"\n      }\n    }\n  ]\n}"
            }
          },
          "metadata": {},
          "execution_count": 25
        }
      ]
    },
    {
      "cell_type": "markdown",
      "source": [
        "## Feature Extraction"
      ],
      "metadata": {
        "id": "hg60y9teV_Gp"
      }
    },
    {
      "cell_type": "markdown",
      "source": [
        "### Datetime Feature Extraction"
      ],
      "metadata": {
        "id": "v1-TI7PyWPei"
      }
    },
    {
      "cell_type": "code",
      "source": [
        "# convert to datetime\n",
        "merged_df['tpep_pickup_datetime'] = pd.to_datetime(merged_df['tpep_pickup_datetime'])\n",
        "merged_df['tpep_dropoff_datetime'] = pd.to_datetime(merged_df['tpep_dropoff_datetime'])"
      ],
      "metadata": {
        "id": "VTodVcV2V9z6"
      },
      "execution_count": null,
      "outputs": []
    },
    {
      "cell_type": "code",
      "source": [
        "merged_df['pickup_hour'] = merged_df['tpep_pickup_datetime'].dt.hour\n",
        "merged_df['pickup_day_of_week'] = merged_df['tpep_pickup_datetime'].dt.dayofweek\n",
        "merged_df['is_weekend'] = merged_df['pickup_day_of_week'].isin([5, 6]).astype(int)\n",
        "merged_df['trip_duration_minutes'] = (merged_df['tpep_dropoff_datetime'] - merged_df['tpep_pickup_datetime']).dt.total_seconds() / 60"
      ],
      "metadata": {
        "id": "QIOwK-1kSJQC"
      },
      "execution_count": null,
      "outputs": []
    },
    {
      "cell_type": "code",
      "source": [
        "# Rush hour flags (urban)\n",
        "merged_df['is_rush_hour'] = merged_df['pickup_hour'].isin( [15, 16, 17,  18, 19]).astype(int)"
      ],
      "metadata": {
        "id": "lQQaNzobWJPq"
      },
      "execution_count": null,
      "outputs": []
    },
    {
      "cell_type": "markdown",
      "source": [
        "### Trip-level Calculations"
      ],
      "metadata": {
        "id": "xvw1KCdQWRRi"
      }
    },
    {
      "cell_type": "code",
      "source": [
        "# Avoid divide-by-zero\n",
        "merged_df['fare_per_km'] = merged_df['fare_amount'] / merged_df['trip_distance'].replace(0, 0.1)\n",
        "merged_df['tip_percent'] = (merged_df['tip_amount'] / merged_df['fare_amount'].replace(0, 0.1)) * 100"
      ],
      "metadata": {
        "id": "05BArD9dWLaK"
      },
      "execution_count": null,
      "outputs": []
    },
    {
      "cell_type": "markdown",
      "source": [
        "### Trip Route"
      ],
      "metadata": {
        "id": "u7TuU4DbWdVS"
      }
    },
    {
      "cell_type": "code",
      "source": [
        "merged_df['trip_route'] = merged_df['PU_Zone'] + \" to \" + merged_df['DO_Zone']"
      ],
      "metadata": {
        "id": "_uP6VgE5WV-R"
      },
      "execution_count": null,
      "outputs": []
    },
    {
      "cell_type": "markdown",
      "source": [
        "### Flag Suspicious or Low-quality Trips"
      ],
      "metadata": {
        "id": "Ax9ciGDRWkZa"
      }
    },
    {
      "cell_type": "code",
      "source": [
        "merged_df['is_zero_fare'] = (merged_df['fare_amount'] == 0).astype(int)\n",
        "merged_df['is_short_trip'] = (merged_df['trip_distance'] < 0.5).astype(int)"
      ],
      "metadata": {
        "id": "zTU054yNWbaq"
      },
      "execution_count": null,
      "outputs": []
    },
    {
      "cell_type": "code",
      "source": [
        "important_cols = [\n",
        "    'tpep_pickup_datetime',\n",
        "    'pickup_hour',\n",
        "    'pickup_day_of_week',\n",
        "    'is_weekend',\n",
        "    'trip_duration_minutes',\n",
        "    'trip_distance',\n",
        "    'fare_amount',\n",
        "    'tip_amount',\n",
        "    'total_amount',\n",
        "    'PU_Zone',\n",
        "    'DO_Zone',\n",
        "    'passenger_count',\n",
        "    'fare_per_km',\n",
        "    'tip_percent',\n",
        "    'is_rush_hour',\n",
        "    'trip_route'\n",
        "    ]\n",
        "\n",
        "cleaned_df = merged_df[important_cols].copy()"
      ],
      "metadata": {
        "id": "DeWTqXecWrOK"
      },
      "execution_count": null,
      "outputs": []
    },
    {
      "cell_type": "code",
      "source": [
        "cleaned_df.to_csv('/content/drive/MyDrive/Taxi_Data_Analysis/cleaned_df.csv', index=False)"
      ],
      "metadata": {
        "id": "y2-jOVBeXota"
      },
      "execution_count": null,
      "outputs": []
    },
    {
      "cell_type": "code",
      "source": [
        "df= pd.read_csv('/content/drive/MyDrive/Taxi_Data_Analysis/cleaned_df.csv')"
      ],
      "metadata": {
        "id": "XuKzRP8Uv_rA"
      },
      "execution_count": null,
      "outputs": []
    },
    {
      "cell_type": "markdown",
      "source": [
        "## EDA using DuckDB"
      ],
      "metadata": {
        "id": "DkkslLrYZfJK"
      }
    },
    {
      "cell_type": "code",
      "source": [
        "duckdb.sql(\"\"\"\n",
        "    CREATE TABLE trip_data AS\n",
        "    SELECT *\n",
        "    FROM read_csv_auto('/content/drive/MyDrive/Taxi_Data_Analysis/cleaned_df.csv')\n",
        "    \"\"\")"
      ],
      "metadata": {
        "colab": {
          "base_uri": "https://localhost:8080/",
          "height": 211
        },
        "id": "T-yl-q0VYS4b",
        "outputId": "3466ebae-24d4-42b7-8436-0e121f6c0303",
        "collapsed": true
      },
      "execution_count": null,
      "outputs": [
        {
          "output_type": "error",
          "ename": "CatalogException",
          "evalue": "Catalog Error: Table with name \"trip_data\" already exists!",
          "traceback": [
            "\u001b[0;31m---------------------------------------------------------------------------\u001b[0m",
            "\u001b[0;31mCatalogException\u001b[0m                          Traceback (most recent call last)",
            "\u001b[0;32m/tmp/ipython-input-3135472209.py\u001b[0m in \u001b[0;36m<cell line: 0>\u001b[0;34m()\u001b[0m\n\u001b[0;32m----> 1\u001b[0;31m duckdb.sql(\"\"\"\n\u001b[0m\u001b[1;32m      2\u001b[0m     \u001b[0mCREATE\u001b[0m \u001b[0mTABLE\u001b[0m \u001b[0mtrip_data\u001b[0m \u001b[0mAS\u001b[0m\u001b[0;34m\u001b[0m\u001b[0;34m\u001b[0m\u001b[0m\n\u001b[1;32m      3\u001b[0m     \u001b[0mSELECT\u001b[0m \u001b[0;34m*\u001b[0m\u001b[0;34m\u001b[0m\u001b[0;34m\u001b[0m\u001b[0m\n\u001b[1;32m      4\u001b[0m     \u001b[0mFROM\u001b[0m \u001b[0mread_csv_auto\u001b[0m\u001b[0;34m(\u001b[0m\u001b[0;34m'/content/drive/MyDrive/Taxi_Data_Analysis/cleaned_df.csv'\u001b[0m\u001b[0;34m)\u001b[0m\u001b[0;34m\u001b[0m\u001b[0;34m\u001b[0m\u001b[0m\n\u001b[1;32m      5\u001b[0m     \"\"\")\n",
            "\u001b[0;31mCatalogException\u001b[0m: Catalog Error: Table with name \"trip_data\" already exists!"
          ]
        }
      ]
    },
    {
      "cell_type": "code",
      "source": [
        "### Trip Demand & Revenue by Hour\n",
        "\n",
        "df_busy_hours = duckdb.sql(\"\"\"\n",
        "SELECT\n",
        "  pickup_hour,\n",
        "  COUNT(*) AS total_trips,\n",
        "  SUM(total_amount) AS total_revenue\n",
        "FROM trip_data\n",
        "GROUP BY pickup_hour\n",
        "ORDER BY pickup_hour\n",
        "\"\"\").df()\n",
        "\n",
        "fig, ax1 = plt.subplots(figsize=(8, 4))\n",
        "\n",
        "ax1.bar(df_busy_hours['pickup_hour'], df_busy_hours['total_trips'], color='#E66C37', label='Total Trips')\n",
        "ax1.set_ylabel('Total Trips', color='black')\n",
        "ax1.tick_params(axis='y', labelcolor='black')\n",
        "\n",
        "\n",
        "ax2 = ax1.twinx()\n",
        "ax2.plot(df_busy_hours['pickup_hour'], df_busy_hours['total_revenue'], color='black', marker='o', label='Total Revenue')\n",
        "ax2.set_ylabel('Total Revenue ($)', color='black')\n",
        "ax2.tick_params(axis='y', labelcolor='black')\n",
        "\n",
        "\n",
        "plt.title('Hourly Trip Demand & Revenue')\n",
        "ax1.set_xlabel('Pickup Hour (0–23)')\n",
        "fig.tight_layout()\n",
        "plt.show()\n",
        "\n"
      ],
      "metadata": {
        "colab": {
          "base_uri": "https://localhost:8080/",
          "height": 407
        },
        "id": "5VSyB_aAZ1rD",
        "outputId": "8f198b94-3325-4843-d6fb-4d8b03ebab19"
      },
      "execution_count": null,
      "outputs": [
        {
          "output_type": "display_data",
          "data": {
            "text/plain": [
              "<Figure size 800x400 with 2 Axes>"
            ],
            "image/png": "[encoded data removed]"
          },
          "metadata": {}
        }
      ]
    },
    {
      "cell_type": "code",
      "metadata": {
        "colab": {
          "base_uri": "https://localhost:8080/",
          "height": 407
        },
        "id": "P4Hi68NuZ_vvT",
        "outputId": "7f090862-6e09-4968-a110-0b9f7f723f58"
      },
      "source": [
        "# Number of trips by day\n",
        "\n",
        "df_days = duckdb.sql(\"\"\"\n",
        "SELECT\n",
        "    pickup_day_of_week,\n",
        "    is_weekend,\n",
        "    COUNT(*) AS total_trips\n",
        "    FROM trip_data\n",
        "    GROUP BY pickup_day_of_week, is_weekend\n",
        "    ORDER BY pickup_day_of_week\n",
        "    \"\"\").df()\n",
        "\n",
        "plt.figure(figsize=(8, 4))\n",
        "plt.plot(df_days['pickup_day_of_week'], df_days['total_trips'],\n",
        "         color='#E66C37', marker='o', linewidth=2, markersize=8)\n",
        "\n",
        "plt.title(\"Trips by Day of Week\", fontsize=14)\n",
        "plt.xlabel(\"Day of Week (0 = Monday, 6 = Sunday)\", fontsize=12)\n",
        "plt.ylabel(\"Total Trips\", fontsize=12)\n",
        "plt.xticks(df_days['pickup_day_of_week'])\n",
        "plt.grid(axis='y', linestyle='--', alpha=0.6)\n",
        "plt.gca().spines[['top', 'right']].set_visible(False)\n",
        "\n",
        "plt.tight_layout()\n",
        "plt.show()"
      ],
      "execution_count": null,
      "outputs": [
        {
          "output_type": "display_data",
          "data": {
            "text/plain": [
              "<Figure size 800x400 with 1 Axes>"
            ],
            "image/png": "[encoded data removed]"
          },
          "metadata": {}
        }
      ]
    },
    {
      "cell_type": "code",
      "source": [
        "###  Hourly patterns by day of week\n",
        "# this help for identify in which day which time most trip , help in proper design reduce the idle\n",
        "duckdb.sql(\n",
        "    \"\"\"SELECT pickup_hour,\n",
        "            pickup_day_of_week,\n",
        "                COUNT(*) as trip_count,\n",
        "                    AVG(total_amount) as avg_revenue\n",
        "                    FROM trip_data\n",
        "                    GROUP BY pickup_hour, pickup_day_of_week\n",
        "                    ORDER BY trip_count desc limit 7\n",
        "                    \"\"\"\n",
        ").df()"
      ],
      "metadata": {
        "colab": {
          "base_uri": "https://localhost:8080/",
          "height": 269
        },
        "id": "m4DwZ4pwv3KK",
        "outputId": "49861323-bcf9-47b0-e1ff-aa4213d6c5ea"
      },
      "execution_count": null,
      "outputs": [
        {
          "output_type": "execute_result",
          "data": {
            "text/plain": [
              "   pickup_hour  pickup_day_of_week  trip_count  avg_revenue\n",
              "0           18                   1       14860    17.844816\n",
              "1            1                   2       14751    18.605896\n",
              "2            2                   2       13229    18.496998\n",
              "3            0                   2       13034    18.216224\n",
              "4           19                   1       12918    17.750373\n",
              "5           17                   1       12762    18.152293\n",
              "6           18                   0       12574    18.555301"
            ],
            "text/html": [
              "\n",
              "  <div id=\"df-fa87464d-3980-43cf-bc08-981d3ea57f4e\" class=\"colab-df-container\">\n",
              "    <div>\n",
              "<style scoped>\n",
              "    .dataframe tbody tr th:only-of-type {\n",
              "        vertical-align: middle;\n",
              "    }\n",
              "\n",
              "    .dataframe tbody tr th {\n",
              "        vertical-align: top;\n",
              "    }\n",
              "\n",
              "    .dataframe thead th {\n",
              "        text-align: right;\n",
              "    }\n",
              "</style>\n",
              "<table border=\"1\" class=\"dataframe\">\n",
              "  <thead>\n",
              "    <tr style=\"text-align: right;\">\n",
              "      <th></th>\n",
              "      <th>pickup_hour</th>\n",
              "      <th>pickup_day_of_week</th>\n",
              "      <th>trip_count</th>\n",
              "      <th>avg_revenue</th>\n",
              "    </tr>\n",
              "  </thead>\n",
              "  <tbody>\n",
              "    <tr>\n",
              "      <th>0</th>\n",
              "      <td>18</td>\n",
              "      <td>1</td>\n",
              "      <td>14860</td>\n",
              "      <td>17.844816</td>\n",
              "    </tr>\n",
              "    <tr>\n",
              "      <th>1</th>\n",
              "      <td>1</td>\n",
              "      <td>2</td>\n",
              "      <td>14751</td>\n",
              "      <td>18.605896</td>\n",
              "    </tr>\n",
              "    <tr>\n",
              "      <th>2</th>\n",
              "      <td>2</td>\n",
              "      <td>2</td>\n",
              "      <td>13229</td>\n",
              "      <td>18.496998</td>\n",
              "    </tr>\n",
              "    <tr>\n",
              "      <th>3</th>\n",
              "      <td>0</td>\n",
              "      <td>2</td>\n",
              "      <td>13034</td>\n",
              "      <td>18.216224</td>\n",
              "    </tr>\n",
              "    <tr>\n",
              "      <th>4</th>\n",
              "      <td>19</td>\n",
              "      <td>1</td>\n",
              "      <td>12918</td>\n",
              "      <td>17.750373</td>\n",
              "    </tr>\n",
              "    <tr>\n",
              "      <th>5</th>\n",
              "      <td>17</td>\n",
              "      <td>1</td>\n",
              "      <td>12762</td>\n",
              "      <td>18.152293</td>\n",
              "    </tr>\n",
              "    <tr>\n",
              "      <th>6</th>\n",
              "      <td>18</td>\n",
              "      <td>0</td>\n",
              "      <td>12574</td>\n",
              "      <td>18.555301</td>\n",
              "    </tr>\n",
              "  </tbody>\n",
              "</table>\n",
              "</div>\n",
              "    <div class=\"colab-df-buttons\">\n",
              "\n",
              "  <div class=\"colab-df-container\">\n",
              "    <button class=\"colab-df-convert\" onclick=\"convertToInteractive('df-fa87464d-3980-43cf-bc08-981d3ea57f4e')\"\n",
              "            title=\"Convert this dataframe to an interactive table.\"\n",
              "            style=\"display:none;\">\n",
              "\n",
              "  <svg xmlns=\"http://www.w3.org/2000/svg\" height=\"24px\" viewBox=\"0 -960 960 960\">\n",
              "    <path d=\"M120-120v-720h720v720H120Zm60-500h600v-160H180v160Zm220 220h160v-160H400v160Zm0 220h160v-160H400v160ZM180-400h160v-160H180v160Zm440 0h160v-160H620v160ZM180-180h160v-160H180v160Zm440 0h160v-160H620v160Z\"/>\n",
              "  </svg>\n",
              "    </button>\n",
              "\n",
              "  <style>\n",
              "    .colab-df-container {\n",
              "      display:flex;\n",
              "      gap: 12px;\n",
              "    }\n",
              "\n",
              "    .colab-df-convert {\n",
              "      background-color: #E8F0FE;\n",
              "      border: none;\n",
              "      border-radius: 50%;\n",
              "      cursor: pointer;\n",
              "      display: none;\n",
              "      fill: #1967D2;\n",
              "      height: 32px;\n",
              "      padding: 0 0 0 0;\n",
              "      width: 32px;\n",
              "    }\n",
              "\n",
              "    .colab-df-convert:hover {\n",
              "      background-color: #E2EBFA;\n",
              "      box-shadow: 0px 1px 2px rgba(60, 64, 67, 0.3), 0px 1px 3px 1px rgba(60, 64, 67, 0.15);\n",
              "      fill: #174EA6;\n",
              "    }\n",
              "\n",
              "    .colab-df-buttons div {\n",
              "      margin-bottom: 4px;\n",
              "    }\n",
              "\n",
              "    [theme=dark] .colab-df-convert {\n",
              "      background-color: #3B4455;\n",
              "      fill: #D2E3FC;\n",
              "    }\n",
              "\n",
              "    [theme=dark] .colab-df-convert:hover {\n",
              "      background-color: #434B5C;\n",
              "      box-shadow: 0px 1px 3px 1px rgba(0, 0, 0, 0.15);\n",
              "      filter: drop-shadow(0px 1px 2px rgba(0, 0, 0, 0.3));\n",
              "      fill: #FFFFFF;\n",
              "    }\n",
              "  </style>\n",
              "\n",
              "    <script>\n",
              "      const buttonEl =\n",
              "        document.querySelector('#df-fa87464d-3980-43cf-bc08-981d3ea57f4e button.colab-df-convert');\n",
              "      buttonEl.style.display =\n",
              "        google.colab.kernel.accessAllowed ? 'block' : 'none';\n",
              "\n",
              "      async function convertToInteractive(key) {\n",
              "        const element = document.querySelector('#df-fa87464d-3980-43cf-bc08-981d3ea57f4e');\n",
              "        const dataTable =\n",
              "          await google.colab.kernel.invokeFunction('convertToInteractive',\n",
              "                                                    [key], {});\n",
              "        if (!dataTable) return;\n",
              "\n",
              "        const docLinkHtml = 'Like what you see? Visit the ' +\n",
              "          '<a target=\"_blank\" href=https://colab.research.google.com/notebooks/data_table.ipynb>data table notebook</a>'\n",
              "          + ' to learn more about interactive tables.';\n",
              "        element.innerHTML = '';\n",
              "        dataTable['output_type'] = 'display_data';\n",
              "        await google.colab.output.renderOutput(dataTable, element);\n",
              "        const docLink = document.createElement('div');\n",
              "        docLink.innerHTML = docLinkHtml;\n",
              "        element.appendChild(docLink);\n",
              "      }\n",
              "    </script>\n",
              "  </div>\n",
              "\n",
              "\n",
              "    <div id=\"df-0babd407-5527-43ba-9a6d-4ce236b6ba6c\">\n",
              "      <button class=\"colab-df-quickchart\" onclick=\"quickchart('df-0babd407-5527-43ba-9a6d-4ce236b6ba6c')\"\n",
              "                title=\"Suggest charts\"\n",
              "                style=\"display:none;\">\n",
              "\n",
              "<svg xmlns=\"http://www.w3.org/2000/svg\" height=\"24px\"viewBox=\"0 0 24 24\"\n",
              "     width=\"24px\">\n",
              "    <g>\n",
              "        <path d=\"M19 3H5c-1.1 0-2 .9-2 2v14c0 1.1.9 2 2 2h14c1.1 0 2-.9 2-2V5c0-1.1-.9-2-2-2zM9 17H7v-7h2v7zm4 0h-2V7h2v10zm4 0h-2v-4h2v4z\"/>\n",
              "    </g>\n",
              "</svg>\n",
              "      </button>\n",
              "\n",
              "<style>\n",
              "  .colab-df-quickchart {\n",
              "      --bg-color: #E8F0FE;\n",
              "      --fill-color: #1967D2;\n",
              "      --hover-bg-color: #E2EBFA;\n",
              "      --hover-fill-color: #174EA6;\n",
              "      --disabled-fill-color: #AAA;\n",
              "      --disabled-bg-color: #DDD;\n",
              "  }\n",
              "\n",
              "  [theme=dark] .colab-df-quickchart {\n",
              "      --bg-color: #3B4455;\n",
              "      --fill-color: #D2E3FC;\n",
              "      --hover-bg-color: #434B5C;\n",
              "      --hover-fill-color: #FFFFFF;\n",
              "      --disabled-bg-color: #3B4455;\n",
              "      --disabled-fill-color: #666;\n",
              "  }\n",
              "\n",
              "  .colab-df-quickchart {\n",
              "    background-color: var(--bg-color);\n",
              "    border: none;\n",
              "    border-radius: 50%;\n",
              "    cursor: pointer;\n",
              "    display: none;\n",
              "    fill: var(--fill-color);\n",
              "    height: 32px;\n",
              "    padding: 0;\n",
              "    width: 32px;\n",
              "  }\n",
              "\n",
              "  .colab-df-quickchart:hover {\n",
              "    background-color: var(--hover-bg-color);\n",
              "    box-shadow: 0 1px 2px rgba(60, 64, 67, 0.3), 0 1px 3px 1px rgba(60, 64, 67, 0.15);\n",
              "    fill: var(--button-hover-fill-color);\n",
              "  }\n",
              "\n",
              "  .colab-df-quickchart-complete:disabled,\n",
              "  .colab-df-quickchart-complete:disabled:hover {\n",
              "    background-color: var(--disabled-bg-color);\n",
              "    fill: var(--disabled-fill-color);\n",
              "    box-shadow: none;\n",
              "  }\n",
              "\n",
              "  .colab-df-spinner {\n",
              "    border: 2px solid var(--fill-color);\n",
              "    border-color: transparent;\n",
              "    border-bottom-color: var(--fill-color);\n",
              "    animation:\n",
              "      spin 1s steps(1) infinite;\n",
              "  }\n",
              "\n",
              "  @keyframes spin {\n",
              "    0% {\n",
              "      border-color: transparent;\n",
              "      border-bottom-color: var(--fill-color);\n",
              "      border-left-color: var(--fill-color);\n",
              "    }\n",
              "    20% {\n",
              "      border-color: transparent;\n",
              "      border-left-color: var(--fill-color);\n",
              "      border-top-color: var(--fill-color);\n",
              "    }\n",
              "    30% {\n",
              "      border-color: transparent;\n",
              "      border-left-color: var(--fill-color);\n",
              "      border-top-color: var(--fill-color);\n",
              "      border-right-color: var(--fill-color);\n",
              "    }\n",
              "    40% {\n",
              "      border-color: transparent;\n",
              "      border-right-color: var(--fill-color);\n",
              "      border-top-color: var(--fill-color);\n",
              "    }\n",
              "    60% {\n",
              "      border-color: transparent;\n",
              "      border-right-color: var(--fill-color);\n",
              "    }\n",
              "    80% {\n",
              "      border-color: transparent;\n",
              "      border-right-color: var(--fill-color);\n",
              "      border-bottom-color: var(--fill-color);\n",
              "    }\n",
              "    90% {\n",
              "      border-color: transparent;\n",
              "      border-bottom-color: var(--fill-color);\n",
              "    }\n",
              "  }\n",
              "</style>\n",
              "\n",
              "      <script>\n",
              "        async function quickchart(key) {\n",
              "          const quickchartButtonEl =\n",
              "            document.querySelector('#' + key + ' button');\n",
              "          quickchartButtonEl.disabled = true;  // To prevent multiple clicks.\n",
              "          quickchartButtonEl.classList.add('colab-df-spinner');\n",
              "          try {\n",
              "            const charts = await google.colab.kernel.invokeFunction(\n",
              "                'suggestCharts', [key], {});\n",
              "          } catch (error) {\n",
              "            console.error('Error during call to suggestCharts:', error);\n",
              "          }\n",
              "          quickchartButtonEl.classList.remove('colab-df-spinner');\n",
              "          quickchartButtonEl.classList.add('colab-df-quickchart-complete');\n",
              "        }\n",
              "        (() => {\n",
              "          let quickchartButtonEl =\n",
              "            document.querySelector('#df-0babd407-5527-43ba-9a6d-4ce236b6ba6c button');\n",
              "          quickchartButtonEl.style.display =\n",
              "            google.colab.kernel.accessAllowed ? 'block' : 'none';\n",
              "        })();\n",
              "      </script>\n",
              "    </div>\n",
              "\n",
              "    </div>\n",
              "  </div>\n"
            ],
            "application/vnd.google.colaboratory.intrinsic+json": {
              "type": "dataframe",
              "summary": "{\n  \"name\": \")\",\n  \"rows\": 7,\n  \"fields\": [\n    {\n      \"column\": \"pickup_hour\",\n      \"properties\": {\n        \"dtype\": \"number\",\n        \"std\": 9,\n        \"min\": 0,\n        \"max\": 19,\n        \"num_unique_values\": 6,\n        \"samples\": [\n          18,\n          1,\n          17\n        ],\n        \"semantic_type\": \"\",\n        \"description\": \"\"\n      }\n    },\n    {\n      \"column\": \"pickup_day_of_week\",\n      \"properties\": {\n        \"dtype\": \"number\",\n        \"std\": 0,\n        \"min\": 0,\n        \"max\": 2,\n        \"num_unique_values\": 3,\n        \"samples\": [\n          1,\n          2,\n          0\n        ],\n        \"semantic_type\": \"\",\n        \"description\": \"\"\n      }\n    },\n    {\n      \"column\": \"trip_count\",\n      \"properties\": {\n        \"dtype\": \"number\",\n        \"std\": 950,\n        \"min\": 12574,\n        \"max\": 14860,\n        \"num_unique_values\": 7,\n        \"samples\": [\n          14860,\n          14751,\n          12762\n        ],\n        \"semantic_type\": \"\",\n        \"description\": \"\"\n      }\n    },\n    {\n      \"column\": \"avg_revenue\",\n      \"properties\": {\n        \"dtype\": \"number\",\n        \"std\": 0.34230159143271316,\n        \"min\": 17.75037312277298,\n        \"max\": 18.605895871464078,\n        \"num_unique_values\": 7,\n        \"samples\": [\n          17.84481628532795,\n          18.605895871464078,\n          18.152292744082434\n        ],\n        \"semantic_type\": \"\",\n        \"description\": \"\"\n      }\n    }\n  ]\n}"
            }
          },
          "metadata": {},
          "execution_count": 41
        }
      ]
    },
    {
      "cell_type": "code",
      "source": [
        "# supply demand gap analysis\n",
        "\n",
        "duckdb.sql(\"\"\"\n",
        "    -- Peak hour zone imbalances (6-8 PM)\n",
        "    WITH pickups AS (\n",
        "        SELECT PU_Zone AS zone, pickup_hour, COUNT(*) AS pickup_count\n",
        "        FROM trip_data\n",
        "        WHERE pickup_hour BETWEEN 18 AND 20\n",
        "        GROUP BY PU_Zone, pickup_hour\n",
        "    ),\n",
        "    dropoffs AS (\n",
        "        SELECT DO_Zone AS zone, pickup_hour, COUNT(*) AS dropoff_count\n",
        "        FROM trip_data\n",
        "        WHERE pickup_hour BETWEEN 18 AND 20\n",
        "        GROUP BY DO_Zone, pickup_hour\n",
        "    ),\n",
        "    zone_net_demand AS (\n",
        "        SELECT\n",
        "            COALESCE(p.zone, d.zone) AS zone,\n",
        "            COALESCE(p.pickup_hour, d.pickup_hour) AS hour,\n",
        "            COALESCE(p.pickup_count, 0) AS pickups,\n",
        "            COALESCE(d.dropoff_count, 0) AS dropoffs,\n",
        "            COALESCE(p.pickup_count, 0) - COALESCE(d.dropoff_count, 0) AS net_demand,\n",
        "            CASE\n",
        "                WHEN COALESCE(p.pickup_count, 0) > COALESCE(d.dropoff_count, 0)\n",
        "                THEN 'UNDERSUPPLIED'\n",
        "                ELSE 'OVERSUPPLIED'\n",
        "            END AS zone_status\n",
        "        FROM pickups p\n",
        "        FULL OUTER JOIN dropoffs d\n",
        "        ON p.zone = d.zone AND p.pickup_hour = d.pickup_hour\n",
        "    )\n",
        "    SELECT *\n",
        "    FROM zone_net_demand\n",
        "    ORDER BY net_demand DESC;\n",
        "    \"\"\").df()"
      ],
      "metadata": {
        "colab": {
          "base_uri": "https://localhost:8080/",
          "height": 424
        },
        "id": "u3x7vrJP6DaA",
        "outputId": "00ddb996-a0fe-4606-dd96-65e3ee16ca82"
      },
      "execution_count": null,
      "outputs": [
        {
          "output_type": "execute_result",
          "data": {
            "text/plain": [
              "                      zone  hour  pickups  dropoffs  net_demand    zone_status\n",
              "0              JFK Airport    20     3759       314        3445  UNDERSUPPLIED\n",
              "1              JFK Airport    19     3609       525        3084  UNDERSUPPLIED\n",
              "2              JFK Airport    18     3476       754        2722  UNDERSUPPLIED\n",
              "3           Midtown Center    18     4415      2044        2371  UNDERSUPPLIED\n",
              "4           Midtown Center    19     3893      1865        2028  UNDERSUPPLIED\n",
              "..                     ...   ...      ...       ...         ...            ...\n",
              "731           Clinton East    18     2085      2670        -585   OVERSUPPLIED\n",
              "732         Yorkville East    20      444      1033        -589   OVERSUPPLIED\n",
              "733  Upper West Side North    20      897      1488        -591   OVERSUPPLIED\n",
              "734                   None    18        0       663        -663   OVERSUPPLIED\n",
              "735           East Village    18     1425      2152        -727   OVERSUPPLIED\n",
              "\n",
              "[736 rows x 6 columns]"
            ],
            "text/html": [
              "\n",
              "  <div id=\"df-cd1169f1-dcc7-4af3-a4d1-6585548736a4\" class=\"colab-df-container\">\n",
              "    <div>\n",
              "<style scoped>\n",
              "    .dataframe tbody tr th:only-of-type {\n",
              "        vertical-align: middle;\n",
              "    }\n",
              "\n",
              "    .dataframe tbody tr th {\n",
              "        vertical-align: top;\n",
              "    }\n",
              "\n",
              "    .dataframe thead th {\n",
              "        text-align: right;\n",
              "    }\n",
              "</style>\n",
              "<table border=\"1\" class=\"dataframe\">\n",
              "  <thead>\n",
              "    <tr style=\"text-align: right;\">\n",
              "      <th></th>\n",
              "      <th>zone</th>\n",
              "      <th>hour</th>\n",
              "      <th>pickups</th>\n",
              "      <th>dropoffs</th>\n",
              "      <th>net_demand</th>\n",
              "      <th>zone_status</th>\n",
              "    </tr>\n",
              "  </thead>\n",
              "  <tbody>\n",
              "    <tr>\n",
              "      <th>0</th>\n",
              "      <td>JFK Airport</td>\n",
              "      <td>20</td>\n",
              "      <td>3759</td>\n",
              "      <td>314</td>\n",
              "      <td>3445</td>\n",
              "      <td>UNDERSUPPLIED</td>\n",
              "    </tr>\n",
              "    <tr>\n",
              "      <th>1</th>\n",
              "      <td>JFK Airport</td>\n",
              "      <td>19</td>\n",
              "      <td>3609</td>\n",
              "      <td>525</td>\n",
              "      <td>3084</td>\n",
              "      <td>UNDERSUPPLIED</td>\n",
              "    </tr>\n",
              "    <tr>\n",
              "      <th>2</th>\n",
              "      <td>JFK Airport</td>\n",
              "      <td>18</td>\n",
              "      <td>3476</td>\n",
              "      <td>754</td>\n",
              "      <td>2722</td>\n",
              "      <td>UNDERSUPPLIED</td>\n",
              "    </tr>\n",
              "    <tr>\n",
              "      <th>3</th>\n",
              "      <td>Midtown Center</td>\n",
              "      <td>18</td>\n",
              "      <td>4415</td>\n",
              "      <td>2044</td>\n",
              "      <td>2371</td>\n",
              "      <td>UNDERSUPPLIED</td>\n",
              "    </tr>\n",
              "    <tr>\n",
              "      <th>4</th>\n",
              "      <td>Midtown Center</td>\n",
              "      <td>19</td>\n",
              "      <td>3893</td>\n",
              "      <td>1865</td>\n",
              "      <td>2028</td>\n",
              "      <td>UNDERSUPPLIED</td>\n",
              "    </tr>\n",
              "    <tr>\n",
              "      <th>...</th>\n",
              "      <td>...</td>\n",
              "      <td>...</td>\n",
              "      <td>...</td>\n",
              "      <td>...</td>\n",
              "      <td>...</td>\n",
              "      <td>...</td>\n",
              "    </tr>\n",
              "    <tr>\n",
              "      <th>731</th>\n",
              "      <td>Clinton East</td>\n",
              "      <td>18</td>\n",
              "      <td>2085</td>\n",
              "      <td>2670</td>\n",
              "      <td>-585</td>\n",
              "      <td>OVERSUPPLIED</td>\n",
              "    </tr>\n",
              "    <tr>\n",
              "      <th>732</th>\n",
              "      <td>Yorkville East</td>\n",
              "      <td>20</td>\n",
              "      <td>444</td>\n",
              "      <td>1033</td>\n",
              "      <td>-589</td>\n",
              "      <td>OVERSUPPLIED</td>\n",
              "    </tr>\n",
              "    <tr>\n",
              "      <th>733</th>\n",
              "      <td>Upper West Side North</td>\n",
              "      <td>20</td>\n",
              "      <td>897</td>\n",
              "      <td>1488</td>\n",
              "      <td>-591</td>\n",
              "      <td>OVERSUPPLIED</td>\n",
              "    </tr>\n",
              "    <tr>\n",
              "      <th>734</th>\n",
              "      <td>None</td>\n",
              "      <td>18</td>\n",
              "      <td>0</td>\n",
              "      <td>663</td>\n",
              "      <td>-663</td>\n",
              "      <td>OVERSUPPLIED</td>\n",
              "    </tr>\n",
              "    <tr>\n",
              "      <th>735</th>\n",
              "      <td>East Village</td>\n",
              "      <td>18</td>\n",
              "      <td>1425</td>\n",
              "      <td>2152</td>\n",
              "      <td>-727</td>\n",
              "      <td>OVERSUPPLIED</td>\n",
              "    </tr>\n",
              "  </tbody>\n",
              "</table>\n",
              "<p>736 rows × 6 columns</p>\n",
              "</div>\n",
              "    <div class=\"colab-df-buttons\">\n",
              "\n",
              "  <div class=\"colab-df-container\">\n",
              "    <button class=\"colab-df-convert\" onclick=\"convertToInteractive('df-cd1169f1-dcc7-4af3-a4d1-6585548736a4')\"\n",
              "            title=\"Convert this dataframe to an interactive table.\"\n",
              "            style=\"display:none;\">\n",
              "\n",
              "  <svg xmlns=\"http://www.w3.org/2000/svg\" height=\"24px\" viewBox=\"0 -960 960 960\">\n",
              "    <path d=\"M120-120v-720h720v720H120Zm60-500h600v-160H180v160Zm220 220h160v-160H400v160Zm0 220h160v-160H400v160ZM180-400h160v-160H180v160Zm440 0h160v-160H620v160ZM180-180h160v-160H180v160Zm440 0h160v-160H620v160Z\"/>\n",
              "  </svg>\n",
              "    </button>\n",
              "\n",
              "  <style>\n",
              "    .colab-df-container {\n",
              "      display:flex;\n",
              "      gap: 12px;\n",
              "    }\n",
              "\n",
              "    .colab-df-convert {\n",
              "      background-color: #E8F0FE;\n",
              "      border: none;\n",
              "      border-radius: 50%;\n",
              "      cursor: pointer;\n",
              "      display: none;\n",
              "      fill: #1967D2;\n",
              "      height: 32px;\n",
              "      padding: 0 0 0 0;\n",
              "      width: 32px;\n",
              "    }\n",
              "\n",
              "    .colab-df-convert:hover {\n",
              "      background-color: #E2EBFA;\n",
              "      box-shadow: 0px 1px 2px rgba(60, 64, 67, 0.3), 0px 1px 3px 1px rgba(60, 64, 67, 0.15);\n",
              "      fill: #174EA6;\n",
              "    }\n",
              "\n",
              "    .colab-df-buttons div {\n",
              "      margin-bottom: 4px;\n",
              "    }\n",
              "\n",
              "    [theme=dark] .colab-df-convert {\n",
              "      background-color: #3B4455;\n",
              "      fill: #D2E3FC;\n",
              "    }\n",
              "\n",
              "    [theme=dark] .colab-df-convert:hover {\n",
              "      background-color: #434B5C;\n",
              "      box-shadow: 0px 1px 3px 1px rgba(0, 0, 0, 0.15);\n",
              "      filter: drop-shadow(0px 1px 2px rgba(0, 0, 0, 0.3));\n",
              "      fill: #FFFFFF;\n",
              "    }\n",
              "  </style>\n",
              "\n",
              "    <script>\n",
              "      const buttonEl =\n",
              "        document.querySelector('#df-cd1169f1-dcc7-4af3-a4d1-6585548736a4 button.colab-df-convert');\n",
              "      buttonEl.style.display =\n",
              "        google.colab.kernel.accessAllowed ? 'block' : 'none';\n",
              "\n",
              "      async function convertToInteractive(key) {\n",
              "        const element = document.querySelector('#df-cd1169f1-dcc7-4af3-a4d1-6585548736a4');\n",
              "        const dataTable =\n",
              "          await google.colab.kernel.invokeFunction('convertToInteractive',\n",
              "                                                    [key], {});\n",
              "        if (!dataTable) return;\n",
              "\n",
              "        const docLinkHtml = 'Like what you see? Visit the ' +\n",
              "          '<a target=\"_blank\" href=https://colab.research.google.com/notebooks/data_table.ipynb>data table notebook</a>'\n",
              "          + ' to learn more about interactive tables.';\n",
              "        element.innerHTML = '';\n",
              "        dataTable['output_type'] = 'display_data';\n",
              "        await google.colab.output.renderOutput(dataTable, element);\n",
              "        const docLink = document.createElement('div');\n",
              "        docLink.innerHTML = docLinkHtml;\n",
              "        element.appendChild(docLink);\n",
              "      }\n",
              "    </script>\n",
              "  </div>\n",
              "\n",
              "\n",
              "    <div id=\"df-3034b15d-4b75-434b-85c5-ab4ba890ea2c\">\n",
              "      <button class=\"colab-df-quickchart\" onclick=\"quickchart('df-3034b15d-4b75-434b-85c5-ab4ba890ea2c')\"\n",
              "                title=\"Suggest charts\"\n",
              "                style=\"display:none;\">\n",
              "\n",
              "<svg xmlns=\"http://www.w3.org/2000/svg\" height=\"24px\"viewBox=\"0 0 24 24\"\n",
              "     width=\"24px\">\n",
              "    <g>\n",
              "        <path d=\"M19 3H5c-1.1 0-2 .9-2 2v14c0 1.1.9 2 2 2h14c1.1 0 2-.9 2-2V5c0-1.1-.9-2-2-2zM9 17H7v-7h2v7zm4 0h-2V7h2v10zm4 0h-2v-4h2v4z\"/>\n",
              "    </g>\n",
              "</svg>\n",
              "      </button>\n",
              "\n",
              "<style>\n",
              "  .colab-df-quickchart {\n",
              "      --bg-color: #E8F0FE;\n",
              "      --fill-color: #1967D2;\n",
              "      --hover-bg-color: #E2EBFA;\n",
              "      --hover-fill-color: #174EA6;\n",
              "      --disabled-fill-color: #AAA;\n",
              "      --disabled-bg-color: #DDD;\n",
              "  }\n",
              "\n",
              "  [theme=dark] .colab-df-quickchart {\n",
              "      --bg-color: #3B4455;\n",
              "      --fill-color: #D2E3FC;\n",
              "      --hover-bg-color: #434B5C;\n",
              "      --hover-fill-color: #FFFFFF;\n",
              "      --disabled-bg-color: #3B4455;\n",
              "      --disabled-fill-color: #666;\n",
              "  }\n",
              "\n",
              "  .colab-df-quickchart {\n",
              "    background-color: var(--bg-color);\n",
              "    border: none;\n",
              "    border-radius: 50%;\n",
              "    cursor: pointer;\n",
              "    display: none;\n",
              "    fill: var(--fill-color);\n",
              "    height: 32px;\n",
              "    padding: 0;\n",
              "    width: 32px;\n",
              "  }\n",
              "\n",
              "  .colab-df-quickchart:hover {\n",
              "    background-color: var(--hover-bg-color);\n",
              "    box-shadow: 0 1px 2px rgba(60, 64, 67, 0.3), 0 1px 3px 1px rgba(60, 64, 67, 0.15);\n",
              "    fill: var(--button-hover-fill-color);\n",
              "  }\n",
              "\n",
              "  .colab-df-quickchart-complete:disabled,\n",
              "  .colab-df-quickchart-complete:disabled:hover {\n",
              "    background-color: var(--disabled-bg-color);\n",
              "    fill: var(--disabled-fill-color);\n",
              "    box-shadow: none;\n",
              "  }\n",
              "\n",
              "  .colab-df-spinner {\n",
              "    border: 2px solid var(--fill-color);\n",
              "    border-color: transparent;\n",
              "    border-bottom-color: var(--fill-color);\n",
              "    animation:\n",
              "      spin 1s steps(1) infinite;\n",
              "  }\n",
              "\n",
              "  @keyframes spin {\n",
              "    0% {\n",
              "      border-color: transparent;\n",
              "      border-bottom-color: var(--fill-color);\n",
              "      border-left-color: var(--fill-color);\n",
              "    }\n",
              "    20% {\n",
              "      border-color: transparent;\n",
              "      border-left-color: var(--fill-color);\n",
              "      border-top-color: var(--fill-color);\n",
              "    }\n",
              "    30% {\n",
              "      border-color: transparent;\n",
              "      border-left-color: var(--fill-color);\n",
              "      border-top-color: var(--fill-color);\n",
              "      border-right-color: var(--fill-color);\n",
              "    }\n",
              "    40% {\n",
              "      border-color: transparent;\n",
              "      border-right-color: var(--fill-color);\n",
              "      border-top-color: var(--fill-color);\n",
              "    }\n",
              "    60% {\n",
              "      border-color: transparent;\n",
              "      border-right-color: var(--fill-color);\n",
              "    }\n",
              "    80% {\n",
              "      border-color: transparent;\n",
              "      border-right-color: var(--fill-color);\n",
              "      border-bottom-color: var(--fill-color);\n",
              "    }\n",
              "    90% {\n",
              "      border-color: transparent;\n",
              "      border-bottom-color: var(--fill-color);\n",
              "    }\n",
              "  }\n",
              "</style>\n",
              "\n",
              "      <script>\n",
              "        async function quickchart(key) {\n",
              "          const quickchartButtonEl =\n",
              "            document.querySelector('#' + key + ' button');\n",
              "          quickchartButtonEl.disabled = true;  // To prevent multiple clicks.\n",
              "          quickchartButtonEl.classList.add('colab-df-spinner');\n",
              "          try {\n",
              "            const charts = await google.colab.kernel.invokeFunction(\n",
              "                'suggestCharts', [key], {});\n",
              "          } catch (error) {\n",
              "            console.error('Error during call to suggestCharts:', error);\n",
              "          }\n",
              "          quickchartButtonEl.classList.remove('colab-df-spinner');\n",
              "          quickchartButtonEl.classList.add('colab-df-quickchart-complete');\n",
              "        }\n",
              "        (() => {\n",
              "          let quickchartButtonEl =\n",
              "            document.querySelector('#df-3034b15d-4b75-434b-85c5-ab4ba890ea2c button');\n",
              "          quickchartButtonEl.style.display =\n",
              "            google.colab.kernel.accessAllowed ? 'block' : 'none';\n",
              "        })();\n",
              "      </script>\n",
              "    </div>\n",
              "\n",
              "    </div>\n",
              "  </div>\n"
            ],
            "application/vnd.google.colaboratory.intrinsic+json": {
              "type": "dataframe",
              "summary": "{\n  \"name\": \"    \\\"\\\"\\\")\",\n  \"rows\": 736,\n  \"fields\": [\n    {\n      \"column\": \"zone\",\n      \"properties\": {\n        \"dtype\": \"category\",\n        \"num_unique_values\": 253,\n        \"samples\": [\n          \"Prospect Heights\",\n          \"Times Sq/Theatre District\",\n          \"Pelham Bay\"\n        ],\n        \"semantic_type\": \"\",\n        \"description\": \"\"\n      }\n    },\n    {\n      \"column\": \"hour\",\n      \"properties\": {\n        \"dtype\": \"number\",\n        \"std\": 0,\n        \"min\": 18,\n        \"max\": 20,\n        \"num_unique_values\": 3,\n        \"samples\": [\n          20,\n          19,\n          18\n        ],\n        \"semantic_type\": \"\",\n        \"description\": \"\"\n      }\n    },\n    {\n      \"column\": \"pickups\",\n      \"properties\": {\n        \"dtype\": \"number\",\n        \"std\": 685,\n        \"min\": 0,\n        \"max\": 4415,\n        \"num_unique_values\": 223,\n        \"samples\": [\n          2842,\n          901,\n          24\n        ],\n        \"semantic_type\": \"\",\n        \"description\": \"\"\n      }\n    },\n    {\n      \"column\": \"dropoffs\",\n      \"properties\": {\n        \"dtype\": \"number\",\n        \"std\": 583,\n        \"min\": 0,\n        \"max\": 3678,\n        \"num_unique_values\": 302,\n        \"samples\": [\n          119,\n          1657,\n          31\n        ],\n        \"semantic_type\": \"\",\n        \"description\": \"\"\n      }\n    },\n    {\n      \"column\": \"net_demand\",\n      \"properties\": {\n        \"dtype\": \"number\",\n        \"std\": 329,\n        \"min\": -727,\n        \"max\": 3445,\n        \"num_unique_values\": 262,\n        \"samples\": [\n          -501,\n          -269,\n          -193\n        ],\n        \"semantic_type\": \"\",\n        \"description\": \"\"\n      }\n    },\n    {\n      \"column\": \"zone_status\",\n      \"properties\": {\n        \"dtype\": \"category\",\n        \"num_unique_values\": 2,\n        \"samples\": [\n          \"OVERSUPPLIED\",\n          \"UNDERSUPPLIED\"\n        ],\n        \"semantic_type\": \"\",\n        \"description\": \"\"\n      }\n    }\n  ]\n}"
            }
          },
          "metadata": {},
          "execution_count": 46
        }
      ]
    },
    {
      "cell_type": "code",
      "source": [
        "#spatial analysis\n",
        "# Most common pickup-drop pairs (OD matrix)\n",
        "top_routes_df = duckdb.sql(\"\"\"\n",
        "    SELECT\n",
        "    trip_route,\n",
        "     COUNT(*) AS trip_count\n",
        "    FROM trip_data\n",
        "    WHERE trip_route IS NOT NULL\n",
        "    GROUP BY trip_route\n",
        "    ORDER BY trip_count DESC\n",
        "    LIMIT 5\n",
        "\"\"\").df()\n",
        "\n",
        "plt.figure(figsize=(8, 4))\n",
        "sns.barplot(data=top_routes_df, y='trip_route', x='trip_count', palette='YlOrBr')\n",
        "plt.title('Top 10 Most Frequent Pickup-Drop Routes')\n",
        "plt.xlabel('Number of Trips')\n",
        "plt.ylabel('Pickup → Drop Route')\n",
        "plt.grid(axis='x', linestyle='--', alpha=0.6)\n",
        "plt.gca().spines[['top', 'right']].set_visible(False)\n",
        "plt.tight_layout()\n",
        "plt.show()\n"
      ],
      "metadata": {
        "colab": {
          "base_uri": "https://localhost:8080/",
          "height": 407
        },
        "id": "PM2btl6lq9qf",
        "outputId": "9d4a34eb-a03c-4f7a-870c-6d44686d39a5"
      },
      "execution_count": null,
      "outputs": [
        {
          "output_type": "display_data",
          "data": {
            "text/plain": [
              "<Figure size 800x400 with 1 Axes>"
            ],
            "image/png": "[encoded data removed]"
          },
          "metadata": {}
        }
      ]
    },
    {
      "cell_type": "code",
      "source": [
        "# Aggregating fare, tip, and duration by pickup zone\n",
        "zone_profit_df = duckdb.sql(\"\"\"\n",
        "    SELECT\n",
        "            PU_Zone,\n",
        "            COUNT(*) AS total_trips,\n",
        "            ROUND(AVG(fare_amount), 2) AS avg_fare,\n",
        "            ROUND(AVG(tip_amount), 2) AS avg_tip,\n",
        "            ROUND(AVG(trip_duration_minutes), 2) AS avg_duration\n",
        "            FROM trip_data\n",
        "            WHERE PU_Zone IS NOT NULL\n",
        "            GROUP BY PU_Zone\n",
        "            HAVING total_trips >= 100\n",
        "            ORDER BY avg_fare DESC\n",
        "            LIMIT 5\n",
        "            \"\"\").df()\n",
        "\n",
        "# Plot average fare and tip by PU_Zone\n",
        "plt.figure(figsize=(10, 5))\n",
        "\n",
        "# Avg Fare\n",
        "plt.subplot(1, 2, 1)\n",
        "sns.barplot(data=zone_profit_df, x='avg_fare', y='PU_Zone', palette='YlOrBr')\n",
        "plt.title('Top 10 Zones by Avg Fare')\n",
        "plt.xlabel('Average Fare ($)')\n",
        "plt.ylabel('Pickup Zone')\n",
        "plt.grid(axis='x', linestyle='--', alpha=0.5)\n",
        "plt.gca().spines[['top', 'right']].set_visible(False)\n",
        "\n",
        "# Avg Tip\n",
        "plt.subplot(1, 2, 2)\n",
        "sns.barplot(data=zone_profit_df, x='avg_tip', y='PU_Zone', palette='YlOrBr')\n",
        "plt.title('Top 10 Zones by Avg Tip')\n",
        "plt.xlabel('Average Tip ($)')\n",
        "plt.ylabel('')\n",
        "plt.grid(axis='x', linestyle='--', alpha=0.5)\n",
        "plt.gca().spines[['top', 'right']].set_visible(False)\n",
        "\n",
        "plt.tight_layout()\n",
        "plt.show()\n"
      ],
      "metadata": {
        "colab": {
          "base_uri": "https://localhost:8080/",
          "height": 507
        },
        "id": "_1P6rSbtq9n3",
        "outputId": "eb15af63-1fa3-4e64-b5b7-11c2d332ea82"
      },
      "execution_count": null,
      "outputs": [
        {
          "output_type": "display_data",
          "data": {
            "text/plain": [
              "<Figure size 1000x500 with 2 Axes>"
            ],
            "image/png": "[encoded data removed]"
          },
          "metadata": {}
        }
      ]
    },
    {
      "cell_type": "code",
      "source": [
        "import matplotlib.pyplot as plt\n",
        "\n",
        "df = duckdb.sql(\"\"\"\n",
        "    SELECT PU_Zone, SUM(total_amount) AS total_revenue\n",
        "    FROM trip_data\n",
        "    GROUP BY PU_Zone\n",
        "    ORDER BY total_revenue DESC\n",
        "    LIMIT 10\n",
        "    \"\"\").df()\n",
        "\n",
        "plt.figure(figsize=(8,4))\n",
        "plt.scatter(df['total_revenue'], df['PU_Zone'], color='#E66C37')\n",
        "plt.xlabel(\"Total Revenue\")\n",
        "plt.title(\"Top 10 Pickup Zones by Revenue\")\n",
        "plt.grid(True, linestyle='--', alpha=0.5)\n",
        "plt.show()\n"
      ],
      "metadata": {
        "colab": {
          "base_uri": "https://localhost:8080/",
          "height": 410
        },
        "id": "seMezZcaq9gI",
        "outputId": "6ee7fabb-2268-49c5-acfc-7eee3c3e2949"
      },
      "execution_count": null,
      "outputs": [
        {
          "output_type": "display_data",
          "data": {
            "text/plain": [
              "<Figure size 800x400 with 1 Axes>"
            ],
            "image/png": "[encoded data removed]"
          },
          "metadata": {}
        }
      ]
    },
    {
      "cell_type": "code",
      "source": [
        "###Profitability: Tip % vs Fare per Km\n",
        "# See if longer, higher fare trips also bring better tips → helps in revenue optimization.\n",
        "\n",
        "duckdb.sql(\"\"\"\n",
        "SELECT\n",
        "    fare_per_km,\n",
        "    tip_percent\n",
        "    FROM trip_data\n",
        "    WHERE fare_per_km BETWEEN 1 AND 10 AND tip_percent BETWEEN 0 AND 100\n",
        "    \"\"\").df().plot.scatter(x='fare_per_km', y='tip_percent', alpha=0.5, color=\"#E66C37\", title='Tip % vs Fare per Km')\n"
      ],
      "metadata": {
        "colab": {
          "base_uri": "https://localhost:8080/",
          "height": 489
        },
        "id": "C2nkgnEwhfE9",
        "outputId": "498ec501-c22f-4a6c-e43d-dcdde2a5bff3"
      },
      "execution_count": null,
      "outputs": [
        {
          "output_type": "execute_result",
          "data": {
            "text/plain": [
              "<Axes: title={'center': 'Tip % vs Fare per Km'}, xlabel='fare_per_km', ylabel='tip_percent'>"
            ]
          },
          "metadata": {},
          "execution_count": 52
        },
        {
          "output_type": "display_data",
          "data": {
            "text/plain": [
              "<Figure size 640x480 with 1 Axes>"
            ],
            "image/png": "[encoded data removed]"
          },
          "metadata": {}
        }
      ]
    },
    {
      "cell_type": "code",
      "source": [
        "# revenue vs passenger count\n",
        "duckdb.sql(\"\"\"\n",
        "SELECT\n",
        "     passenger_count,\n",
        "      COUNT(*) AS trip_count,\n",
        "      AVG(total_amount) AS avg_total_amount,\n",
        "        SUM(total_amount) AS total_revenue\n",
        "        FROM trip_data\n",
        "        GROUP BY passenger_count\n",
        "        ORDER BY avg_total_amount desc limit 5\n",
        "        \"\"\").df()\n"
      ],
      "metadata": {
        "colab": {
          "base_uri": "https://localhost:8080/",
          "height": 206
        },
        "id": "oBGUFehJk6VF",
        "outputId": "82b36e0d-61aa-4ce4-f6f7-78eac2d691d1"
      },
      "execution_count": null,
      "outputs": [
        {
          "output_type": "execute_result",
          "data": {
            "text/plain": [
              "   passenger_count  trip_count  avg_total_amount  total_revenue\n",
              "0              9.0           4         90.595000   3.623800e+02\n",
              "1              7.0           5         73.856000   3.692800e+02\n",
              "2              8.0           4         54.925000   2.197000e+02\n",
              "3              4.0       30089         19.744523   5.940929e+05\n",
              "4              2.0      193700         19.262229   3.731094e+06"
            ],
            "text/html": [
              "\n",
              "  <div id=\"df-fcefac3a-0f44-4e32-bcb3-7db289c1438e\" class=\"colab-df-container\">\n",
              "    <div>\n",
              "<style scoped>\n",
              "    .dataframe tbody tr th:only-of-type {\n",
              "        vertical-align: middle;\n",
              "    }\n",
              "\n",
              "    .dataframe tbody tr th {\n",
              "        vertical-align: top;\n",
              "    }\n",
              "\n",
              "    .dataframe thead th {\n",
              "        text-align: right;\n",
              "    }\n",
              "</style>\n",
              "<table border=\"1\" class=\"dataframe\">\n",
              "  <thead>\n",
              "    <tr style=\"text-align: right;\">\n",
              "      <th></th>\n",
              "      <th>passenger_count</th>\n",
              "      <th>trip_count</th>\n",
              "      <th>avg_total_amount</th>\n",
              "      <th>total_revenue</th>\n",
              "    </tr>\n",
              "  </thead>\n",
              "  <tbody>\n",
              "    <tr>\n",
              "      <th>0</th>\n",
              "      <td>9.0</td>\n",
              "      <td>4</td>\n",
              "      <td>90.595000</td>\n",
              "      <td>3.623800e+02</td>\n",
              "    </tr>\n",
              "    <tr>\n",
              "      <th>1</th>\n",
              "      <td>7.0</td>\n",
              "      <td>5</td>\n",
              "      <td>73.856000</td>\n",
              "      <td>3.692800e+02</td>\n",
              "    </tr>\n",
              "    <tr>\n",
              "      <th>2</th>\n",
              "      <td>8.0</td>\n",
              "      <td>4</td>\n",
              "      <td>54.925000</td>\n",
              "      <td>2.197000e+02</td>\n",
              "    </tr>\n",
              "    <tr>\n",
              "      <th>3</th>\n",
              "      <td>4.0</td>\n",
              "      <td>30089</td>\n",
              "      <td>19.744523</td>\n",
              "      <td>5.940929e+05</td>\n",
              "    </tr>\n",
              "    <tr>\n",
              "      <th>4</th>\n",
              "      <td>2.0</td>\n",
              "      <td>193700</td>\n",
              "      <td>19.262229</td>\n",
              "      <td>3.731094e+06</td>\n",
              "    </tr>\n",
              "  </tbody>\n",
              "</table>\n",
              "</div>\n",
              "    <div class=\"colab-df-buttons\">\n",
              "\n",
              "  <div class=\"colab-df-container\">\n",
              "    <button class=\"colab-df-convert\" onclick=\"convertToInteractive('df-fcefac3a-0f44-4e32-bcb3-7db289c1438e')\"\n",
              "            title=\"Convert this dataframe to an interactive table.\"\n",
              "            style=\"display:none;\">\n",
              "\n",
              "  <svg xmlns=\"http://www.w3.org/2000/svg\" height=\"24px\" viewBox=\"0 -960 960 960\">\n",
              "    <path d=\"M120-120v-720h720v720H120Zm60-500h600v-160H180v160Zm220 220h160v-160H400v160Zm0 220h160v-160H400v160ZM180-400h160v-160H180v160Zm440 0h160v-160H620v160ZM180-180h160v-160H180v160Zm440 0h160v-160H620v160Z\"/>\n",
              "  </svg>\n",
              "    </button>\n",
              "\n",
              "  <style>\n",
              "    .colab-df-container {\n",
              "      display:flex;\n",
              "      gap: 12px;\n",
              "    }\n",
              "\n",
              "    .colab-df-convert {\n",
              "      background-color: #E8F0FE;\n",
              "      border: none;\n",
              "      border-radius: 50%;\n",
              "      cursor: pointer;\n",
              "      display: none;\n",
              "      fill: #1967D2;\n",
              "      height: 32px;\n",
              "      padding: 0 0 0 0;\n",
              "      width: 32px;\n",
              "    }\n",
              "\n",
              "    .colab-df-convert:hover {\n",
              "      background-color: #E2EBFA;\n",
              "      box-shadow: 0px 1px 2px rgba(60, 64, 67, 0.3), 0px 1px 3px 1px rgba(60, 64, 67, 0.15);\n",
              "      fill: #174EA6;\n",
              "    }\n",
              "\n",
              "    .colab-df-buttons div {\n",
              "      margin-bottom: 4px;\n",
              "    }\n",
              "\n",
              "    [theme=dark] .colab-df-convert {\n",
              "      background-color: #3B4455;\n",
              "      fill: #D2E3FC;\n",
              "    }\n",
              "\n",
              "    [theme=dark] .colab-df-convert:hover {\n",
              "      background-color: #434B5C;\n",
              "      box-shadow: 0px 1px 3px 1px rgba(0, 0, 0, 0.15);\n",
              "      filter: drop-shadow(0px 1px 2px rgba(0, 0, 0, 0.3));\n",
              "      fill: #FFFFFF;\n",
              "    }\n",
              "  </style>\n",
              "\n",
              "    <script>\n",
              "      const buttonEl =\n",
              "        document.querySelector('#df-fcefac3a-0f44-4e32-bcb3-7db289c1438e button.colab-df-convert');\n",
              "      buttonEl.style.display =\n",
              "        google.colab.kernel.accessAllowed ? 'block' : 'none';\n",
              "\n",
              "      async function convertToInteractive(key) {\n",
              "        const element = document.querySelector('#df-fcefac3a-0f44-4e32-bcb3-7db289c1438e');\n",
              "        const dataTable =\n",
              "          await google.colab.kernel.invokeFunction('convertToInteractive',\n",
              "                                                    [key], {});\n",
              "        if (!dataTable) return;\n",
              "\n",
              "        const docLinkHtml = 'Like what you see? Visit the ' +\n",
              "          '<a target=\"_blank\" href=https://colab.research.google.com/notebooks/data_table.ipynb>data table notebook</a>'\n",
              "          + ' to learn more about interactive tables.';\n",
              "        element.innerHTML = '';\n",
              "        dataTable['output_type'] = 'display_data';\n",
              "        await google.colab.output.renderOutput(dataTable, element);\n",
              "        const docLink = document.createElement('div');\n",
              "        docLink.innerHTML = docLinkHtml;\n",
              "        element.appendChild(docLink);\n",
              "      }\n",
              "    </script>\n",
              "  </div>\n",
              "\n",
              "\n",
              "    <div id=\"df-eb450057-c8d9-4769-a136-bb236866504e\">\n",
              "      <button class=\"colab-df-quickchart\" onclick=\"quickchart('df-eb450057-c8d9-4769-a136-bb236866504e')\"\n",
              "                title=\"Suggest charts\"\n",
              "                style=\"display:none;\">\n",
              "\n",
              "<svg xmlns=\"http://www.w3.org/2000/svg\" height=\"24px\"viewBox=\"0 0 24 24\"\n",
              "     width=\"24px\">\n",
              "    <g>\n",
              "        <path d=\"M19 3H5c-1.1 0-2 .9-2 2v14c0 1.1.9 2 2 2h14c1.1 0 2-.9 2-2V5c0-1.1-.9-2-2-2zM9 17H7v-7h2v7zm4 0h-2V7h2v10zm4 0h-2v-4h2v4z\"/>\n",
              "    </g>\n",
              "</svg>\n",
              "      </button>\n",
              "\n",
              "<style>\n",
              "  .colab-df-quickchart {\n",
              "      --bg-color: #E8F0FE;\n",
              "      --fill-color: #1967D2;\n",
              "      --hover-bg-color: #E2EBFA;\n",
              "      --hover-fill-color: #174EA6;\n",
              "      --disabled-fill-color: #AAA;\n",
              "      --disabled-bg-color: #DDD;\n",
              "  }\n",
              "\n",
              "  [theme=dark] .colab-df-quickchart {\n",
              "      --bg-color: #3B4455;\n",
              "      --fill-color: #D2E3FC;\n",
              "      --hover-bg-color: #434B5C;\n",
              "      --hover-fill-color: #FFFFFF;\n",
              "      --disabled-bg-color: #3B4455;\n",
              "      --disabled-fill-color: #666;\n",
              "  }\n",
              "\n",
              "  .colab-df-quickchart {\n",
              "    background-color: var(--bg-color);\n",
              "    border: none;\n",
              "    border-radius: 50%;\n",
              "    cursor: pointer;\n",
              "    display: none;\n",
              "    fill: var(--fill-color);\n",
              "    height: 32px;\n",
              "    padding: 0;\n",
              "    width: 32px;\n",
              "  }\n",
              "\n",
              "  .colab-df-quickchart:hover {\n",
              "    background-color: var(--hover-bg-color);\n",
              "    box-shadow: 0 1px 2px rgba(60, 64, 67, 0.3), 0 1px 3px 1px rgba(60, 64, 67, 0.15);\n",
              "    fill: var(--button-hover-fill-color);\n",
              "  }\n",
              "\n",
              "  .colab-df-quickchart-complete:disabled,\n",
              "  .colab-df-quickchart-complete:disabled:hover {\n",
              "    background-color: var(--disabled-bg-color);\n",
              "    fill: var(--disabled-fill-color);\n",
              "    box-shadow: none;\n",
              "  }\n",
              "\n",
              "  .colab-df-spinner {\n",
              "    border: 2px solid var(--fill-color);\n",
              "    border-color: transparent;\n",
              "    border-bottom-color: var(--fill-color);\n",
              "    animation:\n",
              "      spin 1s steps(1) infinite;\n",
              "  }\n",
              "\n",
              "  @keyframes spin {\n",
              "    0% {\n",
              "      border-color: transparent;\n",
              "      border-bottom-color: var(--fill-color);\n",
              "      border-left-color: var(--fill-color);\n",
              "    }\n",
              "    20% {\n",
              "      border-color: transparent;\n",
              "      border-left-color: var(--fill-color);\n",
              "      border-top-color: var(--fill-color);\n",
              "    }\n",
              "    30% {\n",
              "      border-color: transparent;\n",
              "      border-left-color: var(--fill-color);\n",
              "      border-top-color: var(--fill-color);\n",
              "      border-right-color: var(--fill-color);\n",
              "    }\n",
              "    40% {\n",
              "      border-color: transparent;\n",
              "      border-right-color: var(--fill-color);\n",
              "      border-top-color: var(--fill-color);\n",
              "    }\n",
              "    60% {\n",
              "      border-color: transparent;\n",
              "      border-right-color: var(--fill-color);\n",
              "    }\n",
              "    80% {\n",
              "      border-color: transparent;\n",
              "      border-right-color: var(--fill-color);\n",
              "      border-bottom-color: var(--fill-color);\n",
              "    }\n",
              "    90% {\n",
              "      border-color: transparent;\n",
              "      border-bottom-color: var(--fill-color);\n",
              "    }\n",
              "  }\n",
              "</style>\n",
              "\n",
              "      <script>\n",
              "        async function quickchart(key) {\n",
              "          const quickchartButtonEl =\n",
              "            document.querySelector('#' + key + ' button');\n",
              "          quickchartButtonEl.disabled = true;  // To prevent multiple clicks.\n",
              "          quickchartButtonEl.classList.add('colab-df-spinner');\n",
              "          try {\n",
              "            const charts = await google.colab.kernel.invokeFunction(\n",
              "                'suggestCharts', [key], {});\n",
              "          } catch (error) {\n",
              "            console.error('Error during call to suggestCharts:', error);\n",
              "          }\n",
              "          quickchartButtonEl.classList.remove('colab-df-spinner');\n",
              "          quickchartButtonEl.classList.add('colab-df-quickchart-complete');\n",
              "        }\n",
              "        (() => {\n",
              "          let quickchartButtonEl =\n",
              "            document.querySelector('#df-eb450057-c8d9-4769-a136-bb236866504e button');\n",
              "          quickchartButtonEl.style.display =\n",
              "            google.colab.kernel.accessAllowed ? 'block' : 'none';\n",
              "        })();\n",
              "      </script>\n",
              "    </div>\n",
              "\n",
              "    </div>\n",
              "  </div>\n"
            ],
            "application/vnd.google.colaboratory.intrinsic+json": {
              "type": "dataframe",
              "summary": "{\n  \"name\": \"        \\\"\\\"\\\")\",\n  \"rows\": 5,\n  \"fields\": [\n    {\n      \"column\": \"passenger_count\",\n      \"properties\": {\n        \"dtype\": \"number\",\n        \"std\": 2.9154759474226504,\n        \"min\": 2.0,\n        \"max\": 9.0,\n        \"num_unique_values\": 5,\n        \"samples\": [\n          7.0,\n          2.0,\n          8.0\n        ],\n        \"semantic_type\": \"\",\n        \"description\": \"\"\n      }\n    },\n    {\n      \"column\": \"trip_count\",\n      \"properties\": {\n        \"dtype\": \"number\",\n        \"std\": 84272,\n        \"min\": 4,\n        \"max\": 193700,\n        \"num_unique_values\": 4,\n        \"samples\": [\n          5,\n          193700,\n          4\n        ],\n        \"semantic_type\": \"\",\n        \"description\": \"\"\n      }\n    },\n    {\n      \"column\": \"avg_total_amount\",\n      \"properties\": {\n        \"dtype\": \"number\",\n        \"std\": 31.966657508061548,\n        \"min\": 19.26222854931414,\n        \"max\": 90.595,\n        \"num_unique_values\": 5,\n        \"samples\": [\n          73.856,\n          19.26222854931414,\n          54.925000000000004\n        ],\n        \"semantic_type\": \"\",\n        \"description\": \"\"\n      }\n    },\n    {\n      \"column\": \"total_revenue\",\n      \"properties\": {\n        \"dtype\": \"number\",\n        \"std\": 1622568.392943847,\n        \"min\": 219.70000000000002,\n        \"max\": 3731093.670002149,\n        \"num_unique_values\": 5,\n        \"samples\": [\n          369.28,\n          3731093.670002149,\n          219.70000000000002\n        ],\n        \"semantic_type\": \"\",\n        \"description\": \"\"\n      }\n    }\n  ]\n}"
            }
          },
          "metadata": {},
          "execution_count": 54
        }
      ]
    },
    {
      "cell_type": "code",
      "source": [
        "duckdb.sql(\"\"\"\n",
        "    SELECT trip_distance, fare_per_km\n",
        "        FROM trip_data\n",
        "            WHERE trip_distance BETWEEN 1 AND 30 AND fare_per_km BETWEEN 1 AND 20\n",
        "            \"\"\").df().plot.scatter(x='trip_distance',y='fare_per_km',\n",
        "                         alpha=0.5,color='#E66C37',\n",
        "                         title='Trip Distance vs Fare per Km',\n",
        "                         grid=True)\n",
        "\n"
      ],
      "metadata": {
        "colab": {
          "base_uri": "https://localhost:8080/",
          "height": 489
        },
        "id": "2FwUn3X289i3",
        "outputId": "3d9f013d-097d-4e91-dceb-1a6975cf18a2"
      },
      "execution_count": null,
      "outputs": [
        {
          "output_type": "execute_result",
          "data": {
            "text/plain": [
              "<Axes: title={'center': 'Trip Distance vs Fare per Km'}, xlabel='trip_distance', ylabel='fare_per_km'>"
            ]
          },
          "metadata": {},
          "execution_count": 55
        },
        {
          "output_type": "display_data",
          "data": {
            "text/plain": [
              "<Figure size 640x480 with 1 Axes>"
            ],
            "image/png": "[encoded data removed]"
          },
          "metadata": {}
        }
      ]
    },
    {
      "cell_type": "markdown",
      "source": [
        "## Statistical Analysis"
      ],
      "metadata": {
        "id": "QrY5Zgl3AT3A"
      }
    },
    {
      "cell_type": "code",
      "source": [
        "trip_df=duckdb.sql(\"select * from trip_data\").df();"
      ],
      "metadata": {
        "id": "0M3djX527wLh"
      },
      "execution_count": null,
      "outputs": []
    },
    {
      "cell_type": "markdown",
      "source": [
        "###  Correlation Analysis & Multi-collinearity Check"
      ],
      "metadata": {
        "id": "KPurojewA1iH"
      }
    },
    {
      "cell_type": "code",
      "source": [
        "numerical_cols = ['trip_distance', 'fare_amount', 'tip_amount', 'total_amount',\n",
        "                  'passenger_count', 'fare_per_km', 'tip_percent', 'trip_duration_minutes',\n",
        "                  'pickup_hour', 'pickup_day_of_week']\n",
        "correlation_matrix = trip_df[numerical_cols].corr()\n",
        "plt.figure(figsize=(8,6))\n",
        "sns.heatmap(correlation_matrix, annot=True, cmap='coolwarm', center=0,\n",
        "            square=True, fmt='.2f')\n",
        "plt.title('Correlation Matrix of Numerical Features')\n",
        "plt.tight_layout()\n",
        "plt.show()"
      ],
      "metadata": {
        "colab": {
          "base_uri": "https://localhost:8080/",
          "height": 607
        },
        "id": "IVmBs6vFAtig",
        "outputId": "1c752137-aca1-4d0b-ef6d-89503b1ef3d7"
      },
      "execution_count": null,
      "outputs": [
        {
          "output_type": "display_data",
          "data": {
            "text/plain": [
              "<Figure size 800x600 with 2 Axes>"
            ],
            "image/png": "[encoded data removed]"
          },
          "metadata": {}
        }
      ]
    },
    {
      "cell_type": "code",
      "source": [
        "# Find highly correlated pairs (above 0.7 or below -0.7)\n",
        "high_corr_pairs = []\n",
        "for i in range(len(correlation_matrix.columns)):\n",
        "    for j in range(i+1, len(correlation_matrix.columns)):\n",
        "        corr_value = correlation_matrix.iloc[i, j]\n",
        "        if abs(corr_value) > 0.7:\n",
        "            high_corr_pairs.append({\n",
        "                'Feature1': correlation_matrix.columns[i],\n",
        "                'Feature2': correlation_matrix.columns[j],\n",
        "                'Correlation': corr_value\n",
        "            })\n",
        "\n",
        "print(\"Highly correlated feature pairs:\")\n",
        "for pair in high_corr_pairs:\n",
        "    print(f\"{pair['Feature1']} vs {pair['Feature2']}: {pair['Correlation']:.3f}\")"
      ],
      "metadata": {
        "colab": {
          "base_uri": "https://localhost:8080/"
        },
        "id": "HINxArQSA_JY",
        "outputId": "04fc2ff2-708e-4dbc-d426-956a3fc4a677"
      },
      "execution_count": null,
      "outputs": [
        {
          "output_type": "stream",
          "name": "stdout",
          "text": [
            "Highly correlated feature pairs:\n",
            "trip_distance vs fare_amount: 0.887\n",
            "trip_distance vs total_amount: 0.879\n",
            "fare_amount vs total_amount: 0.976\n"
          ]
        }
      ]
    },
    {
      "cell_type": "code",
      "source": [
        "\n",
        "\n",
        "# Check for multicollinearity using VIF\n",
        "vif_data = trip_df[numerical_cols].dropna()\n",
        "\n",
        "# Calculate VIF for each feature\n",
        "vif_results = []\n",
        "for i, col in enumerate(vif_data.columns):\n",
        "    vif_value = variance_inflation_factor(vif_data.values, i)\n",
        "    vif_results.append({'Feature': col, 'VIF': vif_value})\n",
        "\n",
        "vif_df = pd.DataFrame(vif_results)\n",
        "print(\"\\nVariance Inflation Factor (VIF):\")\n",
        "print(\"VIF > 10 indicates high multicollinearity\")\n",
        "print(vif_df.sort_values('VIF', ascending=False))"
      ],
      "metadata": {
        "colab": {
          "base_uri": "https://localhost:8080/"
        },
        "id": "0kI18qAVBjPX",
        "outputId": "d8154cad-2c9d-41a5-db23-9d63be665b7b"
      },
      "execution_count": null,
      "outputs": [
        {
          "output_type": "stream",
          "name": "stdout",
          "text": [
            "\n",
            "Variance Inflation Factor (VIF):\n",
            "VIF > 10 indicates high multicollinearity\n",
            "                 Feature         VIF\n",
            "3           total_amount  142.898067\n",
            "1            fare_amount  103.155026\n",
            "0          trip_distance    9.033508\n",
            "2             tip_amount    6.197627\n",
            "8            pickup_hour    4.084837\n",
            "9     pickup_day_of_week    2.735326\n",
            "4        passenger_count    2.454665\n",
            "5            fare_per_km    1.283123\n",
            "7  trip_duration_minutes    1.072513\n",
            "6            tip_percent    1.013859\n"
          ]
        }
      ]
    },
    {
      "cell_type": "code",
      "source": [
        "features_to_remove_for_modeling = ['total_amount', 'fare_amount']\n",
        "features_to_keep_for_modeling = [\n",
        "    'trip_distance', 'tip_amount', 'fare_per_km', 'tip_percent',\n",
        "     'trip_duration_minutes', 'pickup_hour', 'pickup_day_of_week',\n",
        "    'passenger_count'\n",
        "]"
      ],
      "metadata": {
        "id": "DFIXh6TLCcjw"
      },
      "execution_count": null,
      "outputs": []
    },
    {
      "cell_type": "markdown",
      "source": [
        "###  Statistical Significance Testing (ANOVA/T-tests)"
      ],
      "metadata": {
        "id": "K5aqaCVyEmnn"
      }
    },
    {
      "cell_type": "code",
      "source": [
        "\n",
        "\n",
        "# T-test 1 -is weekend demand significantly different from weekday?\n",
        "print(\"=\"*50)\n",
        "print(\"TEST 1: Weekend vs Weekday Demand\")\n",
        "print(\"=\"*50)\n",
        "\n",
        "# separate weekend and weekday data\n",
        "weekend_data = trip_df[trip_df['is_weekend'] == 1]['total_amount']\n",
        "weekday_data = trip_df[trip_df['is_weekend'] == 0]['total_amount']\n",
        "\n",
        "# perform t-test\n",
        "t_stat, p_value = ttest_ind(weekend_data, weekday_data)\n",
        "\n",
        "print(f\"Weekend trips average revenue: ${weekend_data.mean():.2f}\")\n",
        "print(f\"Weekday trips average revenue: ${weekday_data.mean():.2f}\")\n",
        "print(f\"T-statistic: {t_stat:.4f}\")\n",
        "print(f\"P-value: {p_value:.6f}\")\n",
        "\n",
        "if p_value < 0.05:\n",
        "    print(\" SIGNIFICANT: Weekend and weekday revenues are statistically different!\")\n",
        "else:\n",
        "    print(\" NOT SIGNIFICANT: No statistical difference between weekend and weekday revenues\")"
      ],
      "metadata": {
        "colab": {
          "base_uri": "https://localhost:8080/"
        },
        "id": "KPRcO_SXD-bI",
        "outputId": "c52ca29d-2ed3-4007-ba67-c10fdcb9b9bb"
      },
      "execution_count": null,
      "outputs": [
        {
          "output_type": "stream",
          "name": "stdout",
          "text": [
            "==================================================\n",
            "TEST 1: Weekend vs Weekday Demand\n",
            "==================================================\n",
            "Weekend trips average revenue: $18.05\n",
            "Weekday trips average revenue: $18.47\n",
            "T-statistic: -14.1692\n",
            "P-value: 0.000000\n",
            " SIGNIFICANT: Weekend and weekday revenues are statistically different!\n"
          ]
        }
      ]
    },
    {
      "cell_type": "code",
      "source": [
        "#  T-test 2 - Does rush hour affect fare per km?\n",
        "print(\"\\n\" + \"=\"*50)\n",
        "print(\"TEST 2: Rush Hour vs Non-Rush Hour Pricing\")\n",
        "print(\"=\"*50)\n",
        "\n",
        "rush_hour_fares = trip_df[trip_df['is_rush_hour'] == 1]['fare_per_km']\n",
        "non_rush_fares = trip_df[trip_df['is_rush_hour'] == 0]['fare_per_km']\n",
        "\n",
        "t_stat2, p_value2 = ttest_ind(rush_hour_fares, non_rush_fares)\n",
        "\n",
        "print(f\"Rush hour average fare per km: ${rush_hour_fares.mean():.2f}\")\n",
        "print(f\"Non-rush hour average fare per km: ${non_rush_fares.mean():.2f}\")\n",
        "print(f\"T-statistic: {t_stat2:.4f}\")\n",
        "print(f\"P-value: {p_value2:.6f}\")\n",
        "\n",
        "if p_value2 < 0.05:\n",
        "        print(\" SIGNIFICANT: Rush hour pricing is statistically different!\")\n",
        "else:\n",
        "        print(\" NOT SIGNIFICANT: No statistical difference in rush hour pricing\")"
      ],
      "metadata": {
        "colab": {
          "base_uri": "https://localhost:8080/"
        },
        "id": "iyDDrUM-EscX",
        "outputId": "04fe8155-d0c4-47a9-dbeb-32b346f2fe22"
      },
      "execution_count": null,
      "outputs": [
        {
          "output_type": "stream",
          "name": "stdout",
          "text": [
            "\n",
            "==================================================\n",
            "TEST 2: Rush Hour vs Non-Rush Hour Pricing\n",
            "==================================================\n",
            "Rush hour average fare per km: $9.79\n",
            "Non-rush hour average fare per km: $8.93\n",
            "T-statistic: 4.7104\n",
            "P-value: 0.000002\n",
            " SIGNIFICANT: Rush hour pricing is statistically different!\n"
          ]
        }
      ]
    },
    {
      "cell_type": "code",
      "source": [
        "# Test 3: ANOVA - Do different zones have significantly different revenues?\n",
        "print(\"\\n\" + \"=\"*50)\n",
        "print(\"TEST 3: Zone-wise Revenue Differences (ANOVA)\")\n",
        "print(\"=\"*50)\n",
        "\n",
        "# get top 5 zones by trip count for cleaner analysis\n",
        "top_zones = trip_df['PU_Zone'].value_counts().head(5).index.tolist()\n",
        "zone_revenue_groups = []\n",
        "\n",
        "for zone in top_zones:\n",
        "    zone_data = trip_df[trip_df['PU_Zone'] == zone]['total_amount']\n",
        "    zone_revenue_groups.append(zone_data)\n",
        "    print(f\"{zone}: Average revenue ${zone_data.mean():.2f}, Count: {len(zone_data)}\")"
      ],
      "metadata": {
        "colab": {
          "base_uri": "https://localhost:8080/"
        },
        "id": "m2TlIyapG8sw",
        "outputId": "ef70b285-44f5-4b54-9711-1b13250b07be"
      },
      "execution_count": null,
      "outputs": [
        {
          "output_type": "stream",
          "name": "stdout",
          "text": [
            "\n",
            "==================================================\n",
            "TEST 3: Zone-wise Revenue Differences (ANOVA)\n",
            "==================================================\n",
            "Upper East Side South: Average revenue $13.98, Count: 50825\n",
            "JFK Airport: Average revenue $51.94, Count: 50671\n",
            "Midtown Center: Average revenue $16.70, Count: 47579\n",
            "Upper East Side North: Average revenue $14.37, Count: 47536\n",
            "Penn Station/Madison Sq West: Average revenue $16.72, Count: 43415\n"
          ]
        }
      ]
    },
    {
      "cell_type": "code",
      "source": [
        "# Perform one-way ANOVA\n",
        "f_stat, p_value3 = f_oneway(*zone_revenue_groups)\n",
        "\n",
        "print(f\"\\nF-statistic: {f_stat:.4f}\")\n",
        "print(f\"P-value: {p_value3:.6f}\")\n",
        "\n",
        "if p_value3 < 0.05:\n",
        "    print(\" SIGNIFICANT: Different zones have statistically different revenues!\")\n",
        "    print(\" Business insight: Zone-based pricing/resource allocation is justified!\")\n",
        "else:\n",
        "    print(\" NOT SIGNIFICANT: No statistical difference between zone revenues\")\n"
      ],
      "metadata": {
        "colab": {
          "base_uri": "https://localhost:8080/"
        },
        "id": "kOy_5jnBIBew",
        "outputId": "26c681cd-d99e-4020-bc70-078bd37d8127"
      },
      "execution_count": null,
      "outputs": [
        {
          "output_type": "stream",
          "name": "stdout",
          "text": [
            "\n",
            "F-statistic: 69913.0263\n",
            "P-value: 0.000000\n",
            " SIGNIFICANT: Different zones have statistically different revenues!\n",
            " Business insight: Zone-based pricing/resource allocation is justified!\n"
          ]
        }
      ]
    },
    {
      "cell_type": "code",
      "source": [
        "# Test 4: Chi-square test - Are rush hour patterns independent of day of week?\n",
        "print(\"\\n\" + \"=\"*50)\n",
        "print(\"TEST 4: Rush Hour Independence from Day of Week\")\n",
        "print(\"=\"*50)\n",
        "\n",
        "# Create contingency table\n",
        "contingency_table = pd.crosstab(trip_df['pickup_day_of_week'], trip_df['is_rush_hour'])\n",
        "print(\"Contingency Table:\")\n",
        "print(contingency_table)\n",
        "\n",
        "# Perform chi-square test\n",
        "chi2_stat, p_value4, dof, expected = chi2_contingency(contingency_table)\n",
        "\n",
        "print(f\"\\nChi-square statistic: {chi2_stat:.4f}\")\n",
        "print(f\"P-value: {p_value4:.6f}\")\n",
        "print(f\"Degrees of freedom: {dof}\")\n",
        "\n",
        "if p_value4 < 0.05:\n",
        "      print(\" SIGNIFICANT: Rush hour patterns depend on day of week!\")\n",
        "      print(\" Business insight: Different days have different rush hour intensities!\")\n",
        "else:\n",
        "      print(\" NOT SIGNIFICANT: Rush hour patterns are independent of day of week\")\n"
      ],
      "metadata": {
        "colab": {
          "base_uri": "https://localhost:8080/"
        },
        "id": "iXiUX1qtIRVv",
        "outputId": "fac00b0c-1675-4d63-a360-f90d6d9c48b4"
      },
      "execution_count": null,
      "outputs": [
        {
          "output_type": "stream",
          "name": "stdout",
          "text": [
            "\n",
            "==================================================\n",
            "TEST 4: Rush Hour Independence from Day of Week\n",
            "==================================================\n",
            "Contingency Table:\n",
            "is_rush_hour             0      1\n",
            "pickup_day_of_week               \n",
            "0                   117105  56343\n",
            "1                   101858  63178\n",
            "2                   125806  40464\n",
            "3                   106289  52201\n",
            "4                   123891  55894\n",
            "5                   125402  54534\n",
            "6                   111513  49480\n",
            "\n",
            "Chi-square statistic: 7884.4542\n",
            "P-value: 0.000000\n",
            "Degrees of freedom: 6\n",
            " SIGNIFICANT: Rush hour patterns depend on day of week!\n",
            " Business insight: Different days have different rush hour intensities!\n"
          ]
        }
      ]
    },
    {
      "cell_type": "code",
      "source": [
        "# Summary of all tests\n",
        "print(\"\\n\" + \"=\"*60)\n",
        "print(\"SUMMARY OF STATISTICAL TESTS\")\n",
        "print(\"=\"*60)\n",
        "tests_summary = [\n",
        "    (\"Weekend vs Weekday Revenue\", p_value < 0.05, p_value),\n",
        "        (\"Rush Hour vs Non-Rush Pricing\", p_value2 < 0.05, p_value2),\n",
        "            (\"Zone Revenue Differences\", p_value3 < 0.05, p_value3),\n",
        "                (\"Rush Hour Day Independence\", p_value4 < 0.05, p_value4)\n",
        "                ]\n",
        "\n",
        "for test_name, is_significant, p_val in tests_summary:\n",
        "     status = \"SIGNIFICANT\" if is_significant else \"NOT SIGNIFICANT\"\n",
        "     print(f\"{test_name}: {status} (p={p_val:.6f})\")"
      ],
      "metadata": {
        "id": "aHlnqWmbJEaP",
        "colab": {
          "base_uri": "https://localhost:8080/"
        },
        "outputId": "169d7a5a-f84b-4d92-a542-61f485d8506d"
      },
      "execution_count": null,
      "outputs": [
        {
          "output_type": "stream",
          "name": "stdout",
          "text": [
            "\n",
            "============================================================\n",
            "SUMMARY OF STATISTICAL TESTS\n",
            "============================================================\n",
            "Weekend vs Weekday Revenue: SIGNIFICANT (p=0.000000)\n",
            "Rush Hour vs Non-Rush Pricing: SIGNIFICANT (p=0.000002)\n",
            "Zone Revenue Differences: SIGNIFICANT (p=0.000000)\n",
            "Rush Hour Day Independence: SIGNIFICANT (p=0.000000)\n"
          ]
        }
      ]
    },
    {
      "cell_type": "markdown",
      "source": [
        "<br>📊 STRATEGIC RECOMMENDATIONS:\n",
        "Immediate Actions (High Priority):\n",
        "Fix surge pricing strategy - Rush hours should command premium rates\n",
        "Implement zone-based pricing - Charge more in high-revenue zones\n",
        "Weekend-specific operations - Different strategies for weekends"
      ],
      "metadata": {
        "id": "wvgyNf8h3_G0"
      }
    },
    {
      "cell_type": "code",
      "source": [
        "# Test 1: Check if trip volume follows Poisson distribution (common for count data)\n",
        "print(\"=\"*60)\n",
        "print(\"TEST 1: Distribution Analysis for Trip Volume\")\n",
        "print(\"=\"*60)\n",
        "\n",
        "# Create hourly trip counts\n",
        "hourly_trips = trip_df.groupby(['pickup_hour']).size().values\n",
        "\n",
        "print(f\"Trip volume statistics:\")\n",
        "print(f\"Mean: {hourly_trips.mean():.2f}\")\n",
        "print(f\"Variance: {hourly_trips.var():.2f}\")\n",
        "print(f\"Standard deviation: {hourly_trips.std():.2f}\")\n",
        "print(f\"Variance/Mean ratio: {hourly_trips.var()/hourly_trips.mean():.2f}\")\n",
        "print(\"(For Poisson: variance should ≈ mean, ratio ≈ 1.0)\")\n",
        "\n",
        "# Test for Poisson distribution\n",
        "# For Poisson test, we'll use Kolmogorov-Smirnov test\n",
        "estimated_lambda = hourly_trips.mean()\n",
        "ks_stat, p_value_poisson = stats.kstest(hourly_trips,\n",
        "                                        lambda x: poisson.cdf(x, estimated_lambda))\n",
        "\n",
        "print(f\"\\nPoisson Distribution Test:\")\n",
        "print(f\"Estimated λ (lambda): {estimated_lambda:.2f}\")\n",
        "print(f\"KS statistic: {ks_stat:.4f}\")\n",
        "print(f\"P-value: {p_value_poisson:.6f}\")\n",
        "\n",
        "if p_value_poisson > 0.05:\n",
        "  print(\" FOLLOWS POISSON: Use Poisson regression for demand forecasting!\")\n",
        "else:\n",
        "  print(\" NOT POISSON: Consider Negative Binomial or other models\")\n"
      ],
      "metadata": {
        "colab": {
          "base_uri": "https://localhost:8080/"
        },
        "id": "GzQrIBXY4ccF",
        "outputId": "aa3adc1b-74a9-4310-f7d9-ed2f001be871"
      },
      "execution_count": null,
      "outputs": [
        {
          "output_type": "stream",
          "name": "stdout",
          "text": [
            "============================================================\n",
            "TEST 1: Distribution Analysis for Trip Volume\n",
            "============================================================\n",
            "Trip volume statistics:\n",
            "Mean: 49331.58\n",
            "Variance: 428596028.24\n",
            "Standard deviation: 20702.56\n",
            "Variance/Mean ratio: 8688.07\n",
            "(For Poisson: variance should ≈ mean, ratio ≈ 1.0)\n",
            "\n",
            "Poisson Distribution Test:\n",
            "Estimated λ (lambda): 49331.58\n",
            "KS statistic: 0.5417\n",
            "P-value: 0.000000\n",
            " NOT POISSON: Consider Negative Binomial or other models\n"
          ]
        }
      ]
    },
    {
      "cell_type": "code",
      "source": [
        "# Test 2: Normality test for fare_amount\n",
        "print(\"\\n\" + \"=\"*60)\n",
        "print(\"TEST 2: Normality Test for Fare Amount\")\n",
        "print(\"=\"*60)\n",
        "\n",
        "# Clean data (remove extreme outliers for cleaner test)\n",
        "fare_clean = trip_df[(trip_df['fare_amount'] > 0) & (trip_df['fare_amount'] < 100)]['fare_amount']\n",
        "\n",
        "print(f\"Fare amount statistics (cleaned):\")\n",
        "print(f\"Mean: ${fare_clean.mean():.2f}\")\n",
        "print(f\"Median: ${fare_clean.median():.2f}\")\n",
        "print(f\"Std: ${fare_clean.std():.2f}\")\n",
        "print(f\"Skewness: {fare_clean.skew():.3f}\")\n",
        "print(f\"Kurtosis: {fare_clean.kurtosis():.3f}\")\n",
        "\n",
        "# Shapiro-Wilk test (sample size limit)\n",
        "if len(fare_clean) > 5000:\n",
        "    fare_sample = fare_clean.sample(5000, random_state=42)\n",
        "else:\n",
        "    fare_sample = fare_clean\n",
        "\n",
        "shapiro_stat, shapiro_p = shapiro(fare_sample)\n",
        "print(f\"\\nShapiro-Wilk Test (sample of {len(fare_sample)} trips):\")\n",
        "print(f\"Statistic: {shapiro_stat:.4f}\")\n",
        "print(f\"P-value: {shapiro_p:.6f}\")\n",
        "\n",
        "# Jarque-Bera test (better for large samples)\n",
        "jb_stat, jb_p = jarque_bera(fare_clean)\n",
        "print(f\"\\nJarque-Bera Test:\")\n",
        "print(f\"Statistic: {jb_stat:.4f}\")\n",
        "print(f\"P-value: {jb_p:.6f}\")\n",
        "\n",
        "if shapiro_p > 0.05 and jb_p > 0.05:\n",
        "    print(\" NORMAL DISTRIBUTION: Use linear regression, t-tests valid\")\n",
        "else:\n",
        "    print(\" NOT NORMAL: Consider log-transformation or non-parametric methods\")\n",
        "\n",
        "    # Visualize normality\n",
        "    plt.figure(figsize=(12, 4))\n",
        "\n",
        "    plt.subplot(1, 2, 1)\n",
        "    plt.hist(fare_clean, bins=50, alpha=0.7, color='Gold', edgecolor='black')\n",
        "    plt.title('Fare Amount Distribution')\n",
        "    plt.xlabel('Fare Amount ($)')\n",
        "    plt.ylabel('Frequency')\n",
        "\n",
        "    plt.subplot(1, 2, 2)\n",
        "    stats.probplot(fare_clean, dist=\"norm\", plot=plt)\n",
        "    plt.title('Q-Q Plot (Normal Distribution)')\n",
        "    plt.grid(True)\n",
        "    plt.tight_layout()\n",
        "    plt.show()"
      ],
      "metadata": {
        "colab": {
          "base_uri": "https://localhost:8080/",
          "height": 737
        },
        "id": "y5KMNNnO4uAl",
        "outputId": "fb4a4e76-f42d-48c5-9beb-f8baa25227c1"
      },
      "execution_count": null,
      "outputs": [
        {
          "output_type": "stream",
          "name": "stdout",
          "text": [
            "\n",
            "============================================================\n",
            "TEST 2: Normality Test for Fare Amount\n",
            "============================================================\n",
            "Fare amount statistics (cleaned):\n",
            "Mean: $12.58\n",
            "Median: $9.00\n",
            "Std: $11.24\n",
            "Skewness: 2.588\n",
            "Kurtosis: 7.164\n",
            "\n",
            "Shapiro-Wilk Test (sample of 5000 trips):\n",
            "Statistic: 0.6711\n",
            "P-value: 0.000000\n",
            "\n",
            "Jarque-Bera Test:\n",
            "Statistic: 3839297.0615\n",
            "P-value: 0.000000\n",
            "❌ NOT NORMAL: Consider log-transformation or non-parametric methods\n"
          ]
        },
        {
          "output_type": "display_data",
          "data": {
            "text/plain": [
              "<Figure size 1200x400 with 2 Axes>"
            ],
            "image/png": "[encoded data removed]"
          },
          "metadata": {}
        }
      ]
    },
    {
      "cell_type": "code",
      "source": [
        "# Test 3: Outlier Detection\n",
        "print(\"\\n\" + \"=\"*60)\n",
        "print(\"TEST 3: Outlier Detection Analysis\")\n",
        "print(\"=\"*60)\n",
        "\n",
        "#  IQR Method for fare_amount\n",
        "Q1 = trip_df['fare_amount'].quantile(0.25)\n",
        "Q3 = trip_df['fare_amount'].quantile(0.75)\n",
        "IQR = Q3 - Q1\n",
        "lower_bound = Q1 - 1.5 * IQR\n",
        "upper_bound = Q3 + 1.5 * IQR\n",
        "\n",
        "iqr_outliers = trip_df[(trip_df['fare_amount'] < lower_bound) | (trip_df['fare_amount'] > upper_bound)]\n",
        "\n",
        "print(f\"IQR Method - Fare Amount:\")\n",
        "print(f\"Q1: ${Q1:.2f}, Q3: ${Q3:.2f}, IQR: ${IQR:.2f}\")\n",
        "print(f\"Outlier bounds: ${lower_bound:.2f} to ${upper_bound:.2f}\")\n",
        "print(f\"Number of outliers: {len(iqr_outliers):,} ({len(iqr_outliers)/len(trip_df)*100:.1f}% of data)\")"
      ],
      "metadata": {
        "colab": {
          "base_uri": "https://localhost:8080/"
        },
        "id": "PtnHCfq173Ee",
        "outputId": "88aeb0d8-573a-4c5d-ccdd-677df0075de3"
      },
      "execution_count": null,
      "outputs": [
        {
          "output_type": "stream",
          "name": "stdout",
          "text": [
            "\n",
            "============================================================\n",
            "TEST 3: Outlier Detection Analysis\n",
            "============================================================\n",
            "IQR Method - Fare Amount:\n",
            "Q1: $6.00, Q3: $13.50, IQR: $7.50\n",
            "Outlier bounds: $-5.25 to $24.75\n",
            "Number of outliers: 121,052 (10.2% of data)\n"
          ]
        }
      ]
    },
    {
      "cell_type": "code",
      "source": [
        "#  Z-score method for trip_distance\n",
        "z_scores = np.abs(stats.zscore(trip_df['trip_distance']))\n",
        "z_outliers = trip_df[z_scores > 3]\n",
        "\n",
        "print(f\"\\nZ-score Method - Trip Distance:\")\n",
        "print(f\"Outliers (|z| > 3): {len(z_outliers):,} ({len(z_outliers)/len(trip_df)*100:.1f}% of data)\")"
      ],
      "metadata": {
        "colab": {
          "base_uri": "https://localhost:8080/"
        },
        "id": "24SHVCol9maN",
        "outputId": "de7e7947-4ca3-40c8-d6ce-31c7fff39aac"
      },
      "execution_count": null,
      "outputs": [
        {
          "output_type": "stream",
          "name": "stdout",
          "text": [
            "\n",
            "Z-score Method - Trip Distance:\n",
            "Outliers (|z| > 3): 44,829 (3.8% of data)\n"
          ]
        }
      ]
    },
    {
      "cell_type": "code",
      "source": [
        "#  Isolation Forest for multivariate outliers\n",
        "print(f\"\\nIsolation Forest - Multivariate Outliers:\")\n",
        "# Select features for outlier detection\n",
        "outlier_features = ['trip_distance', 'fare_amount', 'trip_duration_minutes', 'tip_amount']\n",
        "outlier_data = trip_df[outlier_features].dropna()\n",
        "\n",
        "# Fit Isolation Forest\n",
        "iso_forest = IsolationForest(contamination=0.05, random_state=42)\n",
        "outlier_predictions = iso_forest.fit_predict(outlier_data)\n",
        "\n",
        "multivariate_outliers = outlier_data[outlier_predictions == -1]\n",
        "print(f\"Multivariate outliers detected: {len(multivariate_outliers):,} ({len(multivariate_outliers)/len(outlier_data)*100:.1f}% of data)\")\n",
        "\n",
        "# Analyze outlier characteristics\n",
        "print(f\"\\nOutlier Characteristics (IQR method):\")\n",
        "if len(iqr_outliers) > 0:\n",
        "    print(f\"Average fare of outliers: ${iqr_outliers['fare_amount'].mean():.2f}\")\n",
        "    print(f\"Max fare outlier: ${iqr_outliers['fare_amount'].max():.2f}\")\n",
        "    print(f\"Most common outlier zones:\")\n",
        "    print(iqr_outliers['PU_Zone'].value_counts().head(3))"
      ],
      "metadata": {
        "colab": {
          "base_uri": "https://localhost:8080/"
        },
        "id": "UxWHQ0rW9w-1",
        "outputId": "33972456-476e-40e7-b303-01d43d17be1e"
      },
      "execution_count": null,
      "outputs": [
        {
          "output_type": "stream",
          "name": "stdout",
          "text": [
            "\n",
            "Isolation Forest - Multivariate Outliers:\n",
            "Multivariate outliers detected: 59,198 (5.0% of data)\n",
            "\n",
            "Outlier Characteristics (IQR method):\n",
            "Average fare of outliers: $40.59\n",
            "Max fare outlier: $1238.00\n",
            "Most common outlier zones:\n",
            "PU_Zone\n",
            "JFK Airport                  41462\n",
            "LaGuardia Airport            19344\n",
            "Times Sq/Theatre District     3973\n",
            "Name: count, dtype: int64\n"
          ]
        }
      ]
    },
    {
      "cell_type": "code",
      "source": [
        "print(\"\\n\" + \"=\"*60)\n",
        "print(\"DISTRIBUTION ANALYSIS SUMMARY\")\n",
        "print(\"=\"*60)\n",
        "\n",
        "distribution_summary = [\n",
        "    (\"Trip Volume Distribution\", \"Poisson\" if p_value_poisson > 0.05 else \"Non-Poisson\", p_value_poisson),\n",
        "        (\"Fare Amount Normality\", \"Normal\" if jb_p > 0.05 else \"Non-Normal\", jb_p),\n",
        "            (\"Outlier Percentage (IQR)\", f\"{len(iqr_outliers)/len(trip_df)*100:.1f}%\", None),\n",
        "                (\"Outlier Percentage (Multivariate)\", f\"{len(multivariate_outliers)/len(outlier_data)*100:.1f}%\", None)\n",
        "                ]\n",
        "\n",
        "for analysis, result, p_val in distribution_summary:\n",
        "       if p_val is not None:\n",
        "           print(f\"{analysis}: {result} (p={p_val:.6f})\")\n",
        "       else:\n",
        "           print(f\"{analysis}: {result}\")"
      ],
      "metadata": {
        "colab": {
          "base_uri": "https://localhost:8080/"
        },
        "id": "MKIraFHW8qtu",
        "outputId": "f5cb7053-036a-4760-e781-f752d1f2d9de"
      },
      "execution_count": null,
      "outputs": [
        {
          "output_type": "stream",
          "name": "stdout",
          "text": [
            "\n",
            "============================================================\n",
            "DISTRIBUTION ANALYSIS SUMMARY\n",
            "============================================================\n",
            "Trip Volume Distribution: Non-Poisson (p=0.000000)\n",
            "Fare Amount Normality: Non-Normal (p=0.000000)\n",
            "Outlier Percentage (IQR): 10.2%\n",
            "Outlier Percentage (Multivariate): 5.0%\n"
          ]
        }
      ]
    },
    {
      "cell_type": "markdown",
      "source": [
        "# **Revenue Prediction**"
      ],
      "metadata": {
        "id": "zEsCcf8W9N1x"
      }
    },
    {
      "cell_type": "markdown",
      "source": [
        "\n",
        "### Data Preparation"
      ],
      "metadata": {
        "id": "eMyn08F4E9vu"
      }
    },
    {
      "cell_type": "code",
      "source": [
        "# Based on your VIF analysis:\n",
        "features_to_remove_for_modeling = ['total_amount', 'fare_amount']\n",
        "features_to_keep_for_modeling = [\n",
        "    'trip_distance', 'tip_amount', 'fare_per_km', 'tip_percent',\n",
        "    'trip_duration_minutes', 'pickup_hour', 'pickup_day_of_week',\n",
        "    'passenger_count','trip_route'\n",
        "    ]"
      ],
      "metadata": {
        "id": "uc_NutQM9X1a"
      },
      "execution_count": null,
      "outputs": []
    },
    {
      "cell_type": "code",
      "source": [
        "df = trip_df.copy()\n",
        "original_shape = len(df)"
      ],
      "metadata": {
        "id": "1b7uAf6o-iWy"
      },
      "execution_count": null,
      "outputs": []
    },
    {
      "cell_type": "code",
      "source": [
        "# Remove only impossible values (not outliers)\n",
        "df = df[\n",
        "    (df['fare_amount'] > 0) &           # Positive fare\n",
        "    (df['trip_distance'] > 0) &         # Positive distance\n",
        "    (df['total_amount'] > 0) &          # Positive total\n",
        "    (df['tip_amount'] >= 0) &           # Non-negative tips\n",
        "    (df['passenger_count'] > 0) &       # At least 1 passenger\n",
        "    (df['trip_duration_minutes'] > 0)   # Positive duration\n",
        "    ]"
      ],
      "metadata": {
        "id": "1fKBj8Ok_m4p"
      },
      "execution_count": null,
      "outputs": []
    },
    {
      "cell_type": "code",
      "source": [
        "# create target variable\n",
        "df['revenue_per_minute'] = df['total_amount'] / df['trip_duration_minutes']\n",
        "target_variable = 'revenue_per_minute'"
      ],
      "metadata": {
        "id": "V6Dw9hM8BcQA"
      },
      "execution_count": null,
      "outputs": []
    },
    {
      "cell_type": "code",
      "source": [
        "df = df.replace([np.inf, -np.inf], np.nan)\n",
        "df = df.dropna(subset=['revenue_per_minute'])"
      ],
      "metadata": {
        "id": "z64d1bwqCvBO"
      },
      "execution_count": null,
      "outputs": []
    },
    {
      "cell_type": "code",
      "source": [
        "print(df[target_variable].describe())"
      ],
      "metadata": {
        "colab": {
          "base_uri": "https://localhost:8080/"
        },
        "id": "R35MQpKzB-No",
        "outputId": "2d82ce02-4780-425f-e7c7-8f11692db78a"
      },
      "execution_count": null,
      "outputs": [
        {
          "output_type": "stream",
          "name": "stdout",
          "text": [
            "count    1.150575e+06\n",
            "mean     2.150380e+00\n",
            "std      1.637593e+01\n",
            "min      1.964096e-03\n",
            "25%      1.233735e+00\n",
            "50%      1.515400e+00\n",
            "75%      1.940668e+00\n",
            "max      3.129000e+03\n",
            "Name: revenue_per_minute, dtype: float64\n"
          ]
        }
      ]
    },
    {
      "cell_type": "code",
      "source": [
        "df_model = df[features_to_keep_for_modeling + [target_variable]].dropna()"
      ],
      "metadata": {
        "id": "ORQiynz3ETT-"
      },
      "execution_count": null,
      "outputs": []
    },
    {
      "cell_type": "code",
      "source": [
        "# Show outlier statistics we're keeping\n",
        "print(f\"\\nOutlier statistics we're KEEPING:\")\n",
        "print(f\"Revenue per minute range: ${df_model[target_variable].min():.2f} to ${df_model[target_variable].max():.2f}\")\n",
        "print(f\"Trip distance range: {df_model['trip_distance'].min():.1f} to {df_model['trip_distance'].max():.1f} miles\")\n",
        "print(f\"Tip amount range: ${df_model['tip_amount'].min():.2f} to ${df_model['tip_amount'].max():.2f}\")"
      ],
      "metadata": {
        "colab": {
          "base_uri": "https://localhost:8080/"
        },
        "id": "5QhN9kaPEMk_",
        "outputId": "f9f46dd5-3056-402f-d4aa-1454254f5831"
      },
      "execution_count": null,
      "outputs": [
        {
          "output_type": "stream",
          "name": "stdout",
          "text": [
            "\n",
            "Outlier statistics we're KEEPING:\n",
            "Revenue per minute range: $0.00 to $3129.00\n",
            "Trip distance range: 0.0 to 86.0 miles\n",
            "Tip amount range: $0.00 to $450.00\n"
          ]
        }
      ]
    },
    {
      "cell_type": "code",
      "source": [
        "print(f\"\\nFeature correlation with target:\")\n",
        "correlations = df_model[features_to_keep_for_modeling].corrwith(df_model[target_variable])\n",
        "print(correlations.sort_values(ascending=False))"
      ],
      "metadata": {
        "colab": {
          "base_uri": "https://localhost:8080/",
          "height": 356
        },
        "id": "uFH6FweuEPs3",
        "outputId": "1423ac01-e261-4c8f-be3e-6d46280916d4",
        "collapsed": true
      },
      "execution_count": null,
      "outputs": [
        {
          "output_type": "stream",
          "name": "stdout",
          "text": [
            "\n",
            "Feature correlation with target:\n"
          ]
        },
        {
          "output_type": "error",
          "ename": "ValueError",
          "evalue": "could not convert string to float: 'Clinton East to Flatiron'",
          "traceback": [
            "\u001b[0;31m---------------------------------------------------------------------------\u001b[0m",
            "\u001b[0;31mValueError\u001b[0m                                Traceback (most recent call last)",
            "\u001b[0;32m/tmp/ipython-input-3511629162.py\u001b[0m in \u001b[0;36m<cell line: 0>\u001b[0;34m()\u001b[0m\n\u001b[1;32m      1\u001b[0m \u001b[0mprint\u001b[0m\u001b[0;34m(\u001b[0m\u001b[0;34mf\"\\nFeature correlation with target:\"\u001b[0m\u001b[0;34m)\u001b[0m\u001b[0;34m\u001b[0m\u001b[0;34m\u001b[0m\u001b[0m\n\u001b[0;32m----> 2\u001b[0;31m \u001b[0mcorrelations\u001b[0m \u001b[0;34m=\u001b[0m \u001b[0mdf_model\u001b[0m\u001b[0;34m[\u001b[0m\u001b[0mfeatures_to_keep_for_modeling\u001b[0m\u001b[0;34m]\u001b[0m\u001b[0;34m.\u001b[0m\u001b[0mcorrwith\u001b[0m\u001b[0;34m(\u001b[0m\u001b[0mdf_model\u001b[0m\u001b[0;34m[\u001b[0m\u001b[0mtarget_variable\u001b[0m\u001b[0;34m]\u001b[0m\u001b[0;34m)\u001b[0m\u001b[0;34m\u001b[0m\u001b[0;34m\u001b[0m\u001b[0m\n\u001b[0m\u001b[1;32m      3\u001b[0m \u001b[0mprint\u001b[0m\u001b[0;34m(\u001b[0m\u001b[0mcorrelations\u001b[0m\u001b[0;34m.\u001b[0m\u001b[0msort_values\u001b[0m\u001b[0;34m(\u001b[0m\u001b[0mascending\u001b[0m\u001b[0;34m=\u001b[0m\u001b[0;32mFalse\u001b[0m\u001b[0;34m)\u001b[0m\u001b[0;34m)\u001b[0m\u001b[0;34m\u001b[0m\u001b[0;34m\u001b[0m\u001b[0m\n",
            "\u001b[0;32m/usr/local/lib/python3.11/dist-packages/pandas/core/frame.py\u001b[0m in \u001b[0;36mcorrwith\u001b[0;34m(self, other, axis, drop, method, numeric_only)\u001b[0m\n\u001b[1;32m  11293\u001b[0m \u001b[0;34m\u001b[0m\u001b[0m\n\u001b[1;32m  11294\u001b[0m         \u001b[0;32mif\u001b[0m \u001b[0misinstance\u001b[0m\u001b[0;34m(\u001b[0m\u001b[0mother\u001b[0m\u001b[0;34m,\u001b[0m \u001b[0mSeries\u001b[0m\u001b[0;34m)\u001b[0m\u001b[0;34m:\u001b[0m\u001b[0;34m\u001b[0m\u001b[0;34m\u001b[0m\u001b[0m\n\u001b[0;32m> 11295\u001b[0;31m             \u001b[0;32mreturn\u001b[0m \u001b[0mthis\u001b[0m\u001b[0;34m.\u001b[0m\u001b[0mapply\u001b[0m\u001b[0;34m(\u001b[0m\u001b[0;32mlambda\u001b[0m \u001b[0mx\u001b[0m\u001b[0;34m:\u001b[0m \u001b[0mother\u001b[0m\u001b[0;34m.\u001b[0m\u001b[0mcorr\u001b[0m\u001b[0;34m(\u001b[0m\u001b[0mx\u001b[0m\u001b[0;34m,\u001b[0m \u001b[0mmethod\u001b[0m\u001b[0;34m=\u001b[0m\u001b[0mmethod\u001b[0m\u001b[0;34m)\u001b[0m\u001b[0;34m,\u001b[0m \u001b[0maxis\u001b[0m\u001b[0;34m=\u001b[0m\u001b[0maxis\u001b[0m\u001b[0;34m)\u001b[0m\u001b[0;34m\u001b[0m\u001b[0;34m\u001b[0m\u001b[0m\n\u001b[0m\u001b[1;32m  11296\u001b[0m \u001b[0;34m\u001b[0m\u001b[0m\n\u001b[1;32m  11297\u001b[0m         \u001b[0;32mif\u001b[0m \u001b[0mnumeric_only\u001b[0m\u001b[0;34m:\u001b[0m\u001b[0;34m\u001b[0m\u001b[0;34m\u001b[0m\u001b[0m\n",
            "\u001b[0;32m/usr/local/lib/python3.11/dist-packages/pandas/core/frame.py\u001b[0m in \u001b[0;36mapply\u001b[0;34m(self, func, axis, raw, result_type, args, by_row, engine, engine_kwargs, **kwargs)\u001b[0m\n\u001b[1;32m  10372\u001b[0m             \u001b[0mkwargs\u001b[0m\u001b[0;34m=\u001b[0m\u001b[0mkwargs\u001b[0m\u001b[0;34m,\u001b[0m\u001b[0;34m\u001b[0m\u001b[0;34m\u001b[0m\u001b[0m\n\u001b[1;32m  10373\u001b[0m         )\n\u001b[0;32m> 10374\u001b[0;31m         \u001b[0;32mreturn\u001b[0m \u001b[0mop\u001b[0m\u001b[0;34m.\u001b[0m\u001b[0mapply\u001b[0m\u001b[0;34m(\u001b[0m\u001b[0;34m)\u001b[0m\u001b[0;34m.\u001b[0m\u001b[0m__finalize__\u001b[0m\u001b[0;34m(\u001b[0m\u001b[0mself\u001b[0m\u001b[0;34m,\u001b[0m \u001b[0mmethod\u001b[0m\u001b[0;34m=\u001b[0m\u001b[0;34m\"apply\"\u001b[0m\u001b[0;34m)\u001b[0m\u001b[0;34m\u001b[0m\u001b[0;34m\u001b[0m\u001b[0m\n\u001b[0m\u001b[1;32m  10375\u001b[0m \u001b[0;34m\u001b[0m\u001b[0m\n\u001b[1;32m  10376\u001b[0m     def map(\n",
            "\u001b[0;32m/usr/local/lib/python3.11/dist-packages/pandas/core/apply.py\u001b[0m in \u001b[0;36mapply\u001b[0;34m(self)\u001b[0m\n\u001b[1;32m    914\u001b[0m             \u001b[0;32mreturn\u001b[0m \u001b[0mself\u001b[0m\u001b[0;34m.\u001b[0m\u001b[0mapply_raw\u001b[0m\u001b[0;34m(\u001b[0m\u001b[0mengine\u001b[0m\u001b[0;34m=\u001b[0m\u001b[0mself\u001b[0m\u001b[0;34m.\u001b[0m\u001b[0mengine\u001b[0m\u001b[0;34m,\u001b[0m \u001b[0mengine_kwargs\u001b[0m\u001b[0;34m=\u001b[0m\u001b[0mself\u001b[0m\u001b[0;34m.\u001b[0m\u001b[0mengine_kwargs\u001b[0m\u001b[0;34m)\u001b[0m\u001b[0;34m\u001b[0m\u001b[0;34m\u001b[0m\u001b[0m\n\u001b[1;32m    915\u001b[0m \u001b[0;34m\u001b[0m\u001b[0m\n\u001b[0;32m--> 916\u001b[0;31m         \u001b[0;32mreturn\u001b[0m \u001b[0mself\u001b[0m\u001b[0;34m.\u001b[0m\u001b[0mapply_standard\u001b[0m\u001b[0;34m(\u001b[0m\u001b[0;34m)\u001b[0m\u001b[0;34m\u001b[0m\u001b[0;34m\u001b[0m\u001b[0m\n\u001b[0m\u001b[1;32m    917\u001b[0m \u001b[0;34m\u001b[0m\u001b[0m\n\u001b[1;32m    918\u001b[0m     \u001b[0;32mdef\u001b[0m \u001b[0magg\u001b[0m\u001b[0;34m(\u001b[0m\u001b[0mself\u001b[0m\u001b[0;34m)\u001b[0m\u001b[0;34m:\u001b[0m\u001b[0;34m\u001b[0m\u001b[0;34m\u001b[0m\u001b[0m\n",
            "\u001b[0;32m/usr/local/lib/python3.11/dist-packages/pandas/core/apply.py\u001b[0m in \u001b[0;36mapply_standard\u001b[0;34m(self)\u001b[0m\n\u001b[1;32m   1061\u001b[0m     \u001b[0;32mdef\u001b[0m \u001b[0mapply_standard\u001b[0m\u001b[0;34m(\u001b[0m\u001b[0mself\u001b[0m\u001b[0;34m)\u001b[0m\u001b[0;34m:\u001b[0m\u001b[0;34m\u001b[0m\u001b[0;34m\u001b[0m\u001b[0m\n\u001b[1;32m   1062\u001b[0m         \u001b[0;32mif\u001b[0m \u001b[0mself\u001b[0m\u001b[0;34m.\u001b[0m\u001b[0mengine\u001b[0m \u001b[0;34m==\u001b[0m \u001b[0;34m\"python\"\u001b[0m\u001b[0;34m:\u001b[0m\u001b[0;34m\u001b[0m\u001b[0;34m\u001b[0m\u001b[0m\n\u001b[0;32m-> 1063\u001b[0;31m             \u001b[0mresults\u001b[0m\u001b[0;34m,\u001b[0m \u001b[0mres_index\u001b[0m \u001b[0;34m=\u001b[0m \u001b[0mself\u001b[0m\u001b[0;34m.\u001b[0m\u001b[0mapply_series_generator\u001b[0m\u001b[0;34m(\u001b[0m\u001b[0;34m)\u001b[0m\u001b[0;34m\u001b[0m\u001b[0;34m\u001b[0m\u001b[0m\n\u001b[0m\u001b[1;32m   1064\u001b[0m         \u001b[0;32melse\u001b[0m\u001b[0;34m:\u001b[0m\u001b[0;34m\u001b[0m\u001b[0;34m\u001b[0m\u001b[0m\n\u001b[1;32m   1065\u001b[0m             \u001b[0mresults\u001b[0m\u001b[0;34m,\u001b[0m \u001b[0mres_index\u001b[0m \u001b[0;34m=\u001b[0m \u001b[0mself\u001b[0m\u001b[0;34m.\u001b[0m\u001b[0mapply_series_numba\u001b[0m\u001b[0;34m(\u001b[0m\u001b[0;34m)\u001b[0m\u001b[0;34m\u001b[0m\u001b[0;34m\u001b[0m\u001b[0m\n",
            "\u001b[0;32m/usr/local/lib/python3.11/dist-packages/pandas/core/apply.py\u001b[0m in \u001b[0;36mapply_series_generator\u001b[0;34m(self)\u001b[0m\n\u001b[1;32m   1079\u001b[0m             \u001b[0;32mfor\u001b[0m \u001b[0mi\u001b[0m\u001b[0;34m,\u001b[0m \u001b[0mv\u001b[0m \u001b[0;32min\u001b[0m \u001b[0menumerate\u001b[0m\u001b[0;34m(\u001b[0m\u001b[0mseries_gen\u001b[0m\u001b[0;34m)\u001b[0m\u001b[0;34m:\u001b[0m\u001b[0;34m\u001b[0m\u001b[0;34m\u001b[0m\u001b[0m\n\u001b[1;32m   1080\u001b[0m                 \u001b[0;31m# ignore SettingWithCopy here in case the user mutates\u001b[0m\u001b[0;34m\u001b[0m\u001b[0;34m\u001b[0m\u001b[0m\n\u001b[0;32m-> 1081\u001b[0;31m                 \u001b[0mresults\u001b[0m\u001b[0;34m[\u001b[0m\u001b[0mi\u001b[0m\u001b[0;34m]\u001b[0m \u001b[0;34m=\u001b[0m \u001b[0mself\u001b[0m\u001b[0;34m.\u001b[0m\u001b[0mfunc\u001b[0m\u001b[0;34m(\u001b[0m\u001b[0mv\u001b[0m\u001b[0;34m,\u001b[0m \u001b[0;34m*\u001b[0m\u001b[0mself\u001b[0m\u001b[0;34m.\u001b[0m\u001b[0margs\u001b[0m\u001b[0;34m,\u001b[0m \u001b[0;34m**\u001b[0m\u001b[0mself\u001b[0m\u001b[0;34m.\u001b[0m\u001b[0mkwargs\u001b[0m\u001b[0;34m)\u001b[0m\u001b[0;34m\u001b[0m\u001b[0;34m\u001b[0m\u001b[0m\n\u001b[0m\u001b[1;32m   1082\u001b[0m                 \u001b[0;32mif\u001b[0m \u001b[0misinstance\u001b[0m\u001b[0;34m(\u001b[0m\u001b[0mresults\u001b[0m\u001b[0;34m[\u001b[0m\u001b[0mi\u001b[0m\u001b[0;34m]\u001b[0m\u001b[0;34m,\u001b[0m \u001b[0mABCSeries\u001b[0m\u001b[0;34m)\u001b[0m\u001b[0;34m:\u001b[0m\u001b[0;34m\u001b[0m\u001b[0;34m\u001b[0m\u001b[0m\n\u001b[1;32m   1083\u001b[0m                     \u001b[0;31m# If we have a view on v, we need to make a copy because\u001b[0m\u001b[0;34m\u001b[0m\u001b[0;34m\u001b[0m\u001b[0m\n",
            "\u001b[0;32m/usr/local/lib/python3.11/dist-packages/pandas/core/frame.py\u001b[0m in \u001b[0;36m<lambda>\u001b[0;34m(x)\u001b[0m\n\u001b[1;32m  11293\u001b[0m \u001b[0;34m\u001b[0m\u001b[0m\n\u001b[1;32m  11294\u001b[0m         \u001b[0;32mif\u001b[0m \u001b[0misinstance\u001b[0m\u001b[0;34m(\u001b[0m\u001b[0mother\u001b[0m\u001b[0;34m,\u001b[0m \u001b[0mSeries\u001b[0m\u001b[0;34m)\u001b[0m\u001b[0;34m:\u001b[0m\u001b[0;34m\u001b[0m\u001b[0;34m\u001b[0m\u001b[0m\n\u001b[0;32m> 11295\u001b[0;31m             \u001b[0;32mreturn\u001b[0m \u001b[0mthis\u001b[0m\u001b[0;34m.\u001b[0m\u001b[0mapply\u001b[0m\u001b[0;34m(\u001b[0m\u001b[0;32mlambda\u001b[0m \u001b[0mx\u001b[0m\u001b[0;34m:\u001b[0m \u001b[0mother\u001b[0m\u001b[0;34m.\u001b[0m\u001b[0mcorr\u001b[0m\u001b[0;34m(\u001b[0m\u001b[0mx\u001b[0m\u001b[0;34m,\u001b[0m \u001b[0mmethod\u001b[0m\u001b[0;34m=\u001b[0m\u001b[0mmethod\u001b[0m\u001b[0;34m)\u001b[0m\u001b[0;34m,\u001b[0m \u001b[0maxis\u001b[0m\u001b[0;34m=\u001b[0m\u001b[0maxis\u001b[0m\u001b[0;34m)\u001b[0m\u001b[0;34m\u001b[0m\u001b[0;34m\u001b[0m\u001b[0m\n\u001b[0m\u001b[1;32m  11296\u001b[0m \u001b[0;34m\u001b[0m\u001b[0m\n\u001b[1;32m  11297\u001b[0m         \u001b[0;32mif\u001b[0m \u001b[0mnumeric_only\u001b[0m\u001b[0;34m:\u001b[0m\u001b[0;34m\u001b[0m\u001b[0;34m\u001b[0m\u001b[0m\n",
            "\u001b[0;32m/usr/local/lib/python3.11/dist-packages/pandas/core/series.py\u001b[0m in \u001b[0;36mcorr\u001b[0;34m(self, other, method, min_periods)\u001b[0m\n\u001b[1;32m   2972\u001b[0m \u001b[0;34m\u001b[0m\u001b[0m\n\u001b[1;32m   2973\u001b[0m         \u001b[0mthis_values\u001b[0m \u001b[0;34m=\u001b[0m \u001b[0mthis\u001b[0m\u001b[0;34m.\u001b[0m\u001b[0mto_numpy\u001b[0m\u001b[0;34m(\u001b[0m\u001b[0mdtype\u001b[0m\u001b[0;34m=\u001b[0m\u001b[0mfloat\u001b[0m\u001b[0;34m,\u001b[0m \u001b[0mna_value\u001b[0m\u001b[0;34m=\u001b[0m\u001b[0mnp\u001b[0m\u001b[0;34m.\u001b[0m\u001b[0mnan\u001b[0m\u001b[0;34m,\u001b[0m \u001b[0mcopy\u001b[0m\u001b[0;34m=\u001b[0m\u001b[0;32mFalse\u001b[0m\u001b[0;34m)\u001b[0m\u001b[0;34m\u001b[0m\u001b[0;34m\u001b[0m\u001b[0m\n\u001b[0;32m-> 2974\u001b[0;31m         \u001b[0mother_values\u001b[0m \u001b[0;34m=\u001b[0m \u001b[0mother\u001b[0m\u001b[0;34m.\u001b[0m\u001b[0mto_numpy\u001b[0m\u001b[0;34m(\u001b[0m\u001b[0mdtype\u001b[0m\u001b[0;34m=\u001b[0m\u001b[0mfloat\u001b[0m\u001b[0;34m,\u001b[0m \u001b[0mna_value\u001b[0m\u001b[0;34m=\u001b[0m\u001b[0mnp\u001b[0m\u001b[0;34m.\u001b[0m\u001b[0mnan\u001b[0m\u001b[0;34m,\u001b[0m \u001b[0mcopy\u001b[0m\u001b[0;34m=\u001b[0m\u001b[0;32mFalse\u001b[0m\u001b[0;34m)\u001b[0m\u001b[0;34m\u001b[0m\u001b[0;34m\u001b[0m\u001b[0m\n\u001b[0m\u001b[1;32m   2975\u001b[0m \u001b[0;34m\u001b[0m\u001b[0m\n\u001b[1;32m   2976\u001b[0m         \u001b[0;32mif\u001b[0m \u001b[0mmethod\u001b[0m \u001b[0;32min\u001b[0m \u001b[0;34m[\u001b[0m\u001b[0;34m\"pearson\"\u001b[0m\u001b[0;34m,\u001b[0m \u001b[0;34m\"spearman\"\u001b[0m\u001b[0;34m,\u001b[0m \u001b[0;34m\"kendall\"\u001b[0m\u001b[0;34m]\u001b[0m \u001b[0;32mor\u001b[0m \u001b[0mcallable\u001b[0m\u001b[0;34m(\u001b[0m\u001b[0mmethod\u001b[0m\u001b[0;34m)\u001b[0m\u001b[0;34m:\u001b[0m\u001b[0;34m\u001b[0m\u001b[0;34m\u001b[0m\u001b[0m\n",
            "\u001b[0;32m/usr/local/lib/python3.11/dist-packages/pandas/core/base.py\u001b[0m in \u001b[0;36mto_numpy\u001b[0;34m(self, dtype, copy, na_value, **kwargs)\u001b[0m\n\u001b[1;32m    660\u001b[0m             \u001b[0mvalues\u001b[0m\u001b[0;34m[\u001b[0m\u001b[0mnp\u001b[0m\u001b[0;34m.\u001b[0m\u001b[0masanyarray\u001b[0m\u001b[0;34m(\u001b[0m\u001b[0misna\u001b[0m\u001b[0;34m(\u001b[0m\u001b[0mself\u001b[0m\u001b[0;34m)\u001b[0m\u001b[0;34m)\u001b[0m\u001b[0;34m]\u001b[0m \u001b[0;34m=\u001b[0m \u001b[0mna_value\u001b[0m\u001b[0;34m\u001b[0m\u001b[0;34m\u001b[0m\u001b[0m\n\u001b[1;32m    661\u001b[0m \u001b[0;34m\u001b[0m\u001b[0m\n\u001b[0;32m--> 662\u001b[0;31m         \u001b[0mresult\u001b[0m \u001b[0;34m=\u001b[0m \u001b[0mnp\u001b[0m\u001b[0;34m.\u001b[0m\u001b[0masarray\u001b[0m\u001b[0;34m(\u001b[0m\u001b[0mvalues\u001b[0m\u001b[0;34m,\u001b[0m \u001b[0mdtype\u001b[0m\u001b[0;34m=\u001b[0m\u001b[0mdtype\u001b[0m\u001b[0;34m)\u001b[0m\u001b[0;34m\u001b[0m\u001b[0;34m\u001b[0m\u001b[0m\n\u001b[0m\u001b[1;32m    663\u001b[0m \u001b[0;34m\u001b[0m\u001b[0m\n\u001b[1;32m    664\u001b[0m         \u001b[0;32mif\u001b[0m \u001b[0;34m(\u001b[0m\u001b[0mcopy\u001b[0m \u001b[0;32mand\u001b[0m \u001b[0;32mnot\u001b[0m \u001b[0mfillna\u001b[0m\u001b[0;34m)\u001b[0m \u001b[0;32mor\u001b[0m \u001b[0;34m(\u001b[0m\u001b[0;32mnot\u001b[0m \u001b[0mcopy\u001b[0m \u001b[0;32mand\u001b[0m \u001b[0musing_copy_on_write\u001b[0m\u001b[0;34m(\u001b[0m\u001b[0;34m)\u001b[0m\u001b[0;34m)\u001b[0m\u001b[0;34m:\u001b[0m\u001b[0;34m\u001b[0m\u001b[0;34m\u001b[0m\u001b[0m\n",
            "\u001b[0;31mValueError\u001b[0m: could not convert string to float: 'Clinton East to Flatiron'"
          ]
        }
      ]
    },
    {
      "cell_type": "markdown",
      "source": [
        "###Feature Engineering\n"
      ],
      "metadata": {
        "id": "_mFI2KprFGt_"
      }
    },
    {
      "cell_type": "code",
      "source": [
        "# trip efficiency (distance per minute)\n",
        "df_model['distance_per_minute'] = df_model['trip_distance'] / df_model['trip_duration_minutes']"
      ],
      "metadata": {
        "id": "6XHEKUXpFKbP"
      },
      "execution_count": null,
      "outputs": []
    },
    {
      "cell_type": "code",
      "source": [
        "# high-value trip indicator\n",
        "df_model['is_high_value'] = (df_model['tip_amount'] > df_model['tip_amount'].quantile(0.75)).astype(int)"
      ],
      "metadata": {
        "id": "0lYcMWlBGg_-"
      },
      "execution_count": null,
      "outputs": []
    },
    {
      "cell_type": "code",
      "source": [
        "# busyday Like Friday & Saturday\n",
        "df_model['is_busyday'] = (df_model['pickup_day_of_week'].isin([4, 5])).astype(int)"
      ],
      "metadata": {
        "id": "pqwWkFfrGjBu"
      },
      "execution_count": null,
      "outputs": []
    },
    {
      "cell_type": "code",
      "source": [
        "# peak hours (morning and evening rush)\n",
        "df_model['is_peak_hour'] = (\n",
        "    ((df_model['pickup_hour'] >= 7) & (df_model['pickup_hour'] <= 9)) |\n",
        "    ((df_model['pickup_hour'] >= 17) & (df_model['pickup_hour'] <= 19))).astype(int)"
      ],
      "metadata": {
        "id": "qB8ziXpNINwF"
      },
      "execution_count": null,
      "outputs": []
    },
    {
      "cell_type": "code",
      "source": [
        "features_final = [\n",
        "    'trip_distance', 'tip_amount', 'fare_per_km', 'tip_percent',\n",
        "    'trip_duration_minutes', 'pickup_hour', 'pickup_day_of_week',\n",
        "    'passenger_count' ,'distance_per_minute', 'is_high_value', 'is_busyday', 'is_peak_hour']"
      ],
      "metadata": {
        "id": "pAGi7JLZIR8t"
      },
      "execution_count": null,
      "outputs": []
    },
    {
      "cell_type": "code",
      "source": [
        "route_target_mean = df.groupby('trip_route')['revenue_per_minute'].mean().to_dict()\n",
        "df['trip_route_encoded'] = df['trip_route'].map(route_target_mean)\n",
        "\n",
        "\n",
        "df[['trip_route', 'trip_route_encoded']].head()\n"
      ],
      "metadata": {
        "id": "DuUuSmiLnidL"
      },
      "execution_count": null,
      "outputs": []
    },
    {
      "cell_type": "markdown",
      "source": [
        "## Data Splitting"
      ],
      "metadata": {
        "id": "6zKkmts7Iw1t"
      }
    },
    {
      "cell_type": "code",
      "source": [
        "X = df_model[features_final]\n",
        "y = df_model['revenue_per_minute']"
      ],
      "metadata": {
        "id": "tQQVbTuAIqdN"
      },
      "execution_count": null,
      "outputs": []
    },
    {
      "cell_type": "code",
      "source": [
        "X_train, X_test, y_train, y_test = train_test_split(X, y, test_size=0.2, random_state=42, stratify=None)"
      ],
      "metadata": {
        "id": "qI9eCglKI72V"
      },
      "execution_count": null,
      "outputs": []
    },
    {
      "cell_type": "code",
      "source": [
        "train_correlations = X_train.corrwith(y_train)\n",
        "print(train_correlations.sort_values(ascending=False))"
      ],
      "metadata": {
        "colab": {
          "base_uri": "https://localhost:8080/"
        },
        "collapsed": true,
        "id": "zgaMAceKJEUF",
        "outputId": "c1937bc2-68b9-4418-b66b-088854e96747"
      },
      "execution_count": null,
      "outputs": [
        {
          "output_type": "stream",
          "name": "stdout",
          "text": [
            "fare_per_km              0.535693\n",
            "distance_per_minute      0.253939\n",
            "tip_amount               0.060096\n",
            "tip_percent              0.034438\n",
            "is_high_value            0.015912\n",
            "pickup_day_of_week       0.003379\n",
            "is_peak_hour            -0.000940\n",
            "pickup_hour             -0.002413\n",
            "passenger_count         -0.002641\n",
            "is_busyday              -0.002737\n",
            "trip_duration_minutes   -0.013920\n",
            "trip_distance           -0.014917\n",
            "dtype: float64\n"
          ]
        }
      ]
    },
    {
      "cell_type": "code",
      "source": [
        "from sklearn.ensemble import RandomForestRegressor, GradientBoostingRegressor\n",
        "from xgboost import XGBRegressor\n",
        "from sklearn.preprocessing import StandardScaler\n",
        "import time"
      ],
      "metadata": {
        "id": "L_IgGvA2JJE1"
      },
      "execution_count": null,
      "outputs": []
    },
    {
      "cell_type": "code",
      "source": [
        "models = {\n",
        "      'Random Forest': RandomForestRegressor(n_estimators=100, random_state=42, n_jobs=-1),\n",
        "      'Gradient Boosting': GradientBoostingRegressor(n_estimators=100, random_state=42),\n",
        "      'XGBoost': XGBRegressor(n_estimators=100, random_state=42, n_jobs=-1)\n",
        "       }"
      ],
      "metadata": {
        "id": "dhnxNvnPJ7jl"
      },
      "execution_count": null,
      "outputs": []
    },
    {
      "cell_type": "code",
      "source": [
        "results = {}\n",
        "\n",
        "for name, model in models.items():\n",
        "    print(f\"\\n Training {name}...\")\n",
        "    start_time = time.time()\n",
        "\n",
        "    model.fit(X_train, y_train)\n",
        "    y_pred_train = model.predict(X_train)\n",
        "    y_pred_test = model.predict(X_test)\n",
        "\n",
        "    # evaluation metrics\n",
        "    train_mae = mean_absolute_error(y_train, y_pred_train)\n",
        "    test_mae = mean_absolute_error(y_test, y_pred_test)\n",
        "    train_rmse = np.sqrt(mean_squared_error(y_train, y_pred_train))\n",
        "    test_rmse = np.sqrt(mean_squared_error(y_test, y_pred_test))\n",
        "    train_r2 = r2_score(y_train, y_pred_train)\n",
        "    test_r2 = r2_score(y_test, y_pred_test)\n",
        "\n",
        "    training_time = time.time() - start_time\n",
        "\n",
        "    results[name] = {\n",
        "        'model': model,\n",
        "        'train_mae': train_mae,\n",
        "        'test_mae': test_mae,\n",
        "        'train_rmse': train_rmse,\n",
        "        'test_rmse': test_rmse,\n",
        "        'train_r2': train_r2,\n",
        "        'test_r2': test_r2,\n",
        "        'training_time': training_time,\n",
        "        'predictions': y_pred_test\n",
        "    }\n",
        "\n",
        "    print(f\" {name} completed in {training_time:.2f} seconds\")\n",
        "    print(f\"   Train MAE: ${train_mae:.3f} | Test MAE: ${test_mae:.3f}\")\n",
        "    print(f\"   Train R²: {train_r2:.3f} | Test R²: {test_r2:.3f}\")"
      ],
      "metadata": {
        "colab": {
          "base_uri": "https://localhost:8080/"
        },
        "id": "_5Ig5HXLR-1t",
        "outputId": "78af6632-6ce2-4382-a56f-dff2816a00e6"
      },
      "execution_count": null,
      "outputs": [
        {
          "output_type": "stream",
          "name": "stdout",
          "text": [
            "Training Random Forest...  Random Forest completed in 1020.17 seconds\n",
            "   Train MAE: $0.044 | Test MAE: $0.115\n",
            "   Train R²: 0.942 | Test R²: 0.906\n",
            "\n",
            "Training Gradient Boosting...  Gradient Boosting completed in 285.50 seconds\n",
            "   Train MAE: $0.303 | Test MAE: $0.327\n",
            "   Train R²: 0.973 | Test R²: 0.949\n",
            "\n",
            "Training XGBoost...  XGBoost completed in 9.81 seconds\n",
            "   Train MAE: $0.269 | Test MAE: $0.477\n",
            "   Train R²: 0.883 | Test R²: 0.572\n",
            "\n"
          ]
        }
      ]
    },
    {
      "cell_type": "code",
      "source": [
        "comparison_df = pd.DataFrame({\n",
        "    'Model': list(results.keys()),\n",
        "    'Test MAE ($)': [f\"${results[name]['test_mae']:.3f}\" for name in results.keys()],\n",
        "    'Test R²': [f\"{results[name]['test_r2']:.3f}\" for name in results.keys()],\n",
        "    'Test RMSE ($)': [f\"${results[name]['test_rmse']:.3f}\" for name in results.keys()],\n",
        "    'Training Time (s)': [f\"{results[name]['training_time']:.2f}\" for name in results.keys()]\n",
        "})\n",
        "\n",
        "print(comparison_df.to_string(index=False))\n",
        "\n",
        "# Find best model (lowest test MAE)\n",
        "best_model_name = min(results.keys(), key=lambda x: results[x]['test_mae'])\n",
        "best_model = results[best_model_name]['model']\n",
        "\n",
        "print(f\"\\n BEST MODEL: {best_model_name}\")\n",
        "print(f\"   Best Test MAE: ${results[best_model_name]['test_mae']:.3f}\")\n",
        "print(f\"   Best Test R²: {results[best_model_name]['test_r2']:.3f}\")"
      ],
      "metadata": {
        "colab": {
          "base_uri": "https://localhost:8080/"
        },
        "id": "YXpNf1okMUS8",
        "outputId": "89fc7e71-c172-4263-e209-6b0dca37c07e"
      },
      "execution_count": null,
      "outputs": [
        {
          "output_type": "stream",
          "name": "stdout",
          "text": [
            "            Model Test MAE ($) Test R² Test RMSE ($) Training Time (s)\n",
            "    Random Forest       $0.115   0.906        $4.859           1020.17\n",
            "Gradient Boosting       $0.321   0.934        $4.073            233.01\n",
            "          XGBoost       $0.434   0.493       $11.301              7.11\n",
            "\n",
            " BEST MODEL: Random Forest\n",
            "   Best Test MAE: $0.115\n",
            "   Best Test R²: 0.906\n"
          ]
        }
      ]
    },
    {
      "cell_type": "markdown",
      "source": [
        "# **MODEL 2: Hourly Zone-Based Taxi Demand Forecasting**"
      ],
      "metadata": {
        "id": "ef0RFvsD27nD"
      }
    },
    {
      "cell_type": "markdown",
      "source": [
        "### Feature Engineering"
      ],
      "metadata": {
        "id": "5g1i-daBHgft"
      }
    },
    {
      "cell_type": "code",
      "source": [
        "#Create is_busyday feature (Friday and Saturday)\n",
        "trip_df['is_busyday'] = (trip_df['pickup_day_of_week'].isin([4, 5])).astype(int)"
      ],
      "metadata": {
        "id": "JgGHqwoS_mw5"
      },
      "execution_count": null,
      "outputs": []
    },
    {
      "cell_type": "code",
      "source": [
        "# Extract date from datetime column\n",
        "trip_df['pickup_date'] = trip_df['tpep_pickup_datetime'].dt.date\n",
        "\n",
        "demand_df = trip_df.groupby(['PU_Zone', 'pickup_date', 'pickup_hour']).agg({\n",
        "    'tpep_pickup_datetime': 'count',\n",
        "    'is_busyday': 'first',\n",
        "    'pickup_day_of_week': 'first',\n",
        "    'is_rush_hour': 'first'\n",
        "}).reset_index()\n",
        "\n",
        "\n",
        "demand_df.rename(columns={'tpep_pickup_datetime': 'demand'}, inplace=True)"
      ],
      "metadata": {
        "id": "6IPLSMGhHv5M"
      },
      "execution_count": null,
      "outputs": []
    },
    {
      "cell_type": "code",
      "source": [
        "# Create lag features\n",
        "\n",
        "# Sort by zone and time first\n",
        "demand_df = demand_df.sort_values(['PU_Zone', 'pickup_date', 'pickup_hour'])\n",
        "\n",
        "# Add lag features for each zone\n",
        "demand_df['demand_last_hour'] = demand_df.groupby('PU_Zone')['demand'].shift(1)\n",
        "demand_df['demand_yesterday_same_hour'] = demand_df.groupby('PU_Zone')['demand'].shift(24)\n",
        "demand_df['demand_avg_last_3hours'] = demand_df.groupby('PU_Zone')['demand'].rolling(3).mean().shift(1).values\n",
        "\n",
        "# Fill missing values with 0\n",
        "demand_df[['demand_last_hour', 'demand_yesterday_same_hour', 'demand_avg_last_3hours']] = demand_df[['demand_last_hour', 'demand_yesterday_same_hour', 'demand_avg_last_3hours']].fillna(0)\n"
      ],
      "metadata": {
        "id": "myjjmqXtIp-0"
      },
      "execution_count": null,
      "outputs": []
    },
    {
      "cell_type": "code",
      "source": [
        "feature_columns = [\n",
        "    'PU_Zone',\n",
        "    'pickup_hour',\n",
        "    'pickup_day_of_week',\n",
        "    'is_busyday',\n",
        "    'is_rush_hour',\n",
        "    'demand_last_hour',\n",
        "    'demand_yesterday_same_hour',\n",
        "    'demand_avg_last_3hours'\n",
        "]\n",
        "\n",
        "\n",
        "model_df = demand_df[feature_columns + ['demand']].copy()\n"
      ],
      "metadata": {
        "id": "bvaTjQfzJUOE"
      },
      "execution_count": null,
      "outputs": []
    },
    {
      "cell_type": "code",
      "source": [
        "# check data quality\n",
        "print(\"Data Quality Check:\")\n",
        "print(f\"Total records: {len(model_df)}\")\n",
        "print(f\"Records with missing values: {model_df.isnull().sum().sum()}\")\n",
        "\n",
        "print(\"\\nBasic Statistics:\")\n",
        "print(model_df['demand'].describe())\n",
        "\n",
        "print(\"\\nFeature Summary:\")\n",
        "print(f\"Unique zones: {model_df['PU_Zone'].nunique()}\")\n",
        "print(f\"Hours covered: {model_df['pickup_hour'].nunique()}\")\n",
        "print(f\"Busy days percentage: {model_df['is_busyday'].mean()*100:.1f}%\")\n",
        "print(f\"Rush hours percentage: {model_df['is_rush_hour'].mean()*100:.1f}%\")"
      ],
      "metadata": {
        "colab": {
          "base_uri": "https://localhost:8080/"
        },
        "id": "IFm3xHNDJlUj",
        "outputId": "0ac2ea03-c33d-461e-b13d-53b6c9025ff7"
      },
      "execution_count": null,
      "outputs": [
        {
          "output_type": "stream",
          "name": "stdout",
          "text": [
            "Data Quality Check:\n",
            "Total records: 18880\n",
            "Records with missing values: 0\n",
            "\n",
            "Basic Statistics:\n",
            "count    18880.000000\n",
            "mean        62.709640\n",
            "std        110.591326\n",
            "min          1.000000\n",
            "25%          2.000000\n",
            "50%          8.000000\n",
            "75%         73.000000\n",
            "max        950.000000\n",
            "Name: demand, dtype: float64\n",
            "\n",
            "Feature Summary:\n",
            "Unique zones: 247\n",
            "Hours covered: 24\n",
            "Busy days percentage: 28.3%\n",
            "Rush hours percentage: 22.4%\n"
          ]
        }
      ]
    },
    {
      "cell_type": "code",
      "source": [
        "clean_df = model_df.dropna()\n",
        "\n",
        "\n",
        "X = clean_df[feature_columns].copy()\n",
        "y = clean_df['demand']\n",
        "\n",
        "# Convert zone to dummy variables\n",
        "X_encoded = pd.get_dummies(X, columns=['PU_Zone'])"
      ],
      "metadata": {
        "id": "fVzT0QtHJ_kb"
      },
      "execution_count": null,
      "outputs": []
    },
    {
      "cell_type": "code",
      "source": [
        "# Quick Random Forest to see what features matter most\n",
        "rf_temp = RandomForestRegressor(n_estimators=50, random_state=42)\n",
        "rf_temp.fit(X_encoded, y)\n",
        "\n",
        "\n",
        "importance_df = pd.DataFrame({\n",
        "    'feature': X_encoded.columns,\n",
        "        'importance': rf_temp.feature_importances_\n",
        "        }).sort_values('importance', ascending=False)\n",
        "\n",
        "print(\"Top 10 Most Important Features:\")\n",
        "print(importance_df.head(10))"
      ],
      "metadata": {
        "colab": {
          "base_uri": "https://localhost:8080/"
        },
        "id": "g3KFvgE9KWDj",
        "outputId": "9eb9f25b-bf04-4d59-851c-623d8f9446fd"
      },
      "execution_count": null,
      "outputs": [
        {
          "output_type": "stream",
          "name": "stdout",
          "text": [
            "Top 10 Most Important Features:\n",
            "                                  feature  importance\n",
            "4                        demand_last_hour    0.902277\n",
            "5              demand_yesterday_same_hour    0.026414\n",
            "6                  demand_avg_last_3hours    0.022493\n",
            "0                             pickup_hour    0.017577\n",
            "1                      pickup_day_of_week    0.004550\n",
            "80                   PU_Zone_East Village    0.002776\n",
            "229         PU_Zone_Upper East Side South    0.002002\n",
            "139           PU_Zone_Lincoln Square East    0.001488\n",
            "182  PU_Zone_Penn Station/Madison Sq West    0.001249\n",
            "228         PU_Zone_Upper East Side North    0.001051\n"
          ]
        }
      ]
    },
    {
      "cell_type": "code",
      "source": [
        "X_train, X_test, y_train, y_test = train_test_split( X_encoded, y,  test_size=0.2, random_state=42)"
      ],
      "metadata": {
        "id": "WjtO216yMLmK"
      },
      "execution_count": null,
      "outputs": []
    },
    {
      "cell_type": "code",
      "source": [
        "# Random Forest\n",
        "rf_model = RandomForestRegressor(n_estimators=100, max_depth=10, random_state=42)\n",
        "rf_model.fit(X_train, y_train)\n",
        "rf_pred = rf_model.predict(X_test)\n",
        "\n",
        "# XGBoost\n",
        "xgb_model = XGBRegressor(n_estimators=100, max_depth=6, random_state=42)\n",
        "xgb_model.fit(X_train, y_train)\n",
        "xgb_pred = xgb_model.predict(X_test)\n",
        "\n",
        "# Gradient Boosting\n",
        "gb_model = GradientBoostingRegressor(n_estimators=100, max_depth=6, random_state=42)\n",
        "gb_model.fit(X_train, y_train)\n",
        "gb_pred = gb_model.predict(X_test)"
      ],
      "metadata": {
        "id": "MZmg43rlMdXy"
      },
      "execution_count": null,
      "outputs": []
    },
    {
      "cell_type": "code",
      "source": [
        "def calculate_metrics(y_true, y_pred, model_name):\n",
        "    mae = mean_absolute_error(y_true, y_pred)\n",
        "    rmse = np.sqrt(mean_squared_error(y_true, y_pred))\n",
        "    mape = np.mean(np.abs((y_true - y_pred) / (y_true + 1))) * 100\n",
        "    r2 = r2_score(y_true, y_pred)\n",
        "    return {'Model': model_name, 'MAE': mae, 'RMSE': rmse, 'MAPE': mape, 'R2': r2}\n",
        "\n",
        "results = []\n",
        "\n",
        "results.append(calculate_metrics(y_test, rf_pred, 'Random Forest'))\n",
        "results.append(calculate_metrics(y_test, xgb_pred, 'XGBoost'))\n",
        "results.append(calculate_metrics(y_test, gb_pred, 'Gradient Boosting'))\n",
        "\n",
        "\n",
        "results_df = pd.DataFrame(results)\n",
        "\n",
        "print(\"\\nMODEL COMPARISON:\")\n",
        "print(results_df.round(2))\n",
        "\n",
        "best_model_idx = results_df['MAE'].idxmin()\n",
        "best_model_name = results_df.loc[best_model_idx, 'Model']\n",
        "best_mae = results_df.loc[best_model_idx, 'MAE']\n",
        "best_r2 = results_df.loc[best_model_idx, 'R2']\n",
        "\n",
        "print(f\"\\n BEST MODEL: {best_model_name}\")\n",
        "print(f\"Best MAE: {best_mae:.2f} trips\")\n",
        "print(f\"Best R² Score: {best_r2:.3f}\")\n",
        "\n",
        "if best_model_name == 'Random Forest':\n",
        "    best_model = rf_model\n",
        "    best_pred = rf_pred\n",
        "elif best_model_name == 'XGBoost':\n",
        "    best_model = xgb_model\n",
        "    best_pred = xgb_pred\n",
        "else:\n",
        "    best_model = gb_model\n",
        "    best_pred = gb_pred\n",
        "\n",
        "print(f\"\\n Selected {best_model_name} as final model\")"
      ],
      "metadata": {
        "colab": {
          "base_uri": "https://localhost:8080/"
        },
        "id": "tufxBf5bNICi",
        "outputId": "94109d5f-8b4c-4512-d76b-f06fb02202ef"
      },
      "execution_count": null,
      "outputs": [
        {
          "output_type": "stream",
          "name": "stdout",
          "text": [
            "MODEL COMPARISON:\n",
            "             Model         MAE     RMSE     MAPE    R2\n",
            "0     Random Forest      12.59    28.78     43.70   0.63\n",
            "1            XGBoost     15.54    37.90     50.48   0.91\n",
            "2  Gradient Boosting     9.53    25.14     50.89   0.84\n",
            "\n",
            " BEST MODEL: Gradient Boosting\n",
            "Best MAE: 9.53 trips\n",
            "Best R² Score: 0.84\n",
            "\n",
            " Selected Gradient Boosting as final model\n"
          ]
        }
      ]
    },
    {
      "cell_type": "code",
      "source": [
        "def predict_demand(zone, hour, day_of_week, is_busyday, is_rush_hour,\n",
        "                   demand_last_hour=0, demand_yesterday=0, demand_avg_3hr=0):\n",
        "    \"\"\"\n",
        "    Predict taxi demand for given inputs\n",
        "\n",
        "    Parameters:\n",
        "        - zone: Pickup zone (string)\n",
        "        - hour: Hour of day (0-23)\n",
        "        - day_of_week: Day of week (0-6, where 0=Monday)\n",
        "        - is_busyday: 1 if Friday/Saturday, 0 otherwise\n",
        "        - is_rush_hour: 1 if rush hour, 0 otherwise\n",
        "        - demand_last_hour: Trips in last hour (optional)\n",
        "        - demand_yesterday: Trips same hour yesterday (optional)\n",
        "        - demand_avg_3hr: Average trips last 3 hours (optional)\n",
        "    \"\"\"\n",
        "\n",
        "    # Create input dataframe\n",
        "    input_data = pd.DataFrame({\n",
        "        'pickup_hour': [hour],\n",
        "        'pickup_day_of_week': [day_of_week],\n",
        "        'is_busyday': [is_busyday],\n",
        "        'is_rush_hour': [is_rush_hour],\n",
        "        'demand_last_hour': [demand_last_hour],\n",
        "        'demand_yesterday_same_hour': [demand_yesterday],\n",
        "        'demand_avg_last_3hours': [demand_avg_3hr]\n",
        "    })\n",
        "\n",
        "    for col in X_encoded.columns:\n",
        "        if col.startswith('PU_Zone_'):\n",
        "            if col == f'PU_Zone_{zone}':\n",
        "                input_data[col] = 1\n",
        "            else:\n",
        "                input_data[col] = 0\n",
        "        elif col not in input_data.columns:\n",
        "            input_data[col] = 0\n",
        "\n",
        "    # Reorder columns to match training data\n",
        "    input_data = input_data[X_encoded.columns]\n",
        "\n",
        "    # Make prediction\n",
        "    prediction = best_model.predict(input_data)[0]\n",
        "\n",
        "    return max(0, round(prediction))\n",
        "\n",
        "print(\"Prediction pipeline created!\")"
      ],
      "metadata": {
        "colab": {
          "base_uri": "https://localhost:8080/"
        },
        "id": "ti6tF62CNcba",
        "outputId": "1c52fa3d-276f-4968-bdb8-70ca94e9e14c"
      },
      "execution_count": null,
      "outputs": [
        {
          "output_type": "stream",
          "name": "stdout",
          "text": [
            "✅ Prediction pipeline created!\n"
          ]
        }
      ]
    },
    {
      "cell_type": "code",
      "source": [
        "# testing ex1\n",
        "pred1 = predict_demand(\n",
        "    zone='Manhattan',\n",
        "    hour=17,\n",
        "    day_of_week=4,\n",
        "    is_busyday=1,\n",
        "    is_rush_hour=1,\n",
        "    demand_last_hour=25,\n",
        "    demand_yesterday=30,\n",
        "    demand_avg_3hr=22\n",
        ")\n",
        "print(f\"Example  - Manhattan, 5PM Friday (rush): {pred1} trips predicted\")"
      ],
      "metadata": {
        "colab": {
          "base_uri": "https://localhost:8080/"
        },
        "id": "IXNn71mYNsTK",
        "outputId": "331435a2-f2f6-4bb9-934f-ca1ec0dba20f"
      },
      "execution_count": null,
      "outputs": [
        {
          "output_type": "stream",
          "name": "stdout",
          "text": [
            "\n",
            "🧪 TESTING PREDICTION PIPELINE:\n",
            "Example 1 - Manhattan, 5PM Friday (rush): 29 trips predicted\n"
          ]
        }
      ]
    },
    {
      "cell_type": "code",
      "source": [
        "# testig ex 2\n",
        "pred2 = predict_demand(\n",
        "    zone='Queens',\n",
        "    hour=2,\n",
        "    day_of_week=1,\n",
        "    is_busyday=0,\n",
        "    is_rush_hour=0,\n",
        "    demand_last_hour=3,\n",
        "    demand_yesterday=5,\n",
        "    demand_avg_3hr=4\n",
        ")\n",
        "print(f\"Example  - Queens, 2AM Tuesday (quiet): {pred2} trips predicted\")"
      ],
      "metadata": {
        "colab": {
          "base_uri": "https://localhost:8080/"
        },
        "id": "Q7Ml2_G8NyhS",
        "outputId": "007ea338-977c-4fa6-9cc1-8cc4f6cb273a"
      },
      "execution_count": null,
      "outputs": [
        {
          "output_type": "stream",
          "name": "stdout",
          "text": [
            "Example 2 - Queens, 2AM Tuesday (quiet): 2 trips predicted\n"
          ]
        }
      ]
    }
  ]
}